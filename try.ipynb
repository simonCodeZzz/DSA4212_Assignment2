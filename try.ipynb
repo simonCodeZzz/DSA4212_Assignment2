{
 "cells": [
  {
   "cell_type": "code",
   "execution_count": 78,
   "metadata": {},
   "outputs": [],
   "source": [
    "import sys\n",
    "import os\n",
    "import pandas as pd\n",
    "import gzip\n",
    "import bz2\n",
    "import numpy as np\n",
    "import jax\n",
    "import jax.numpy as jnp\n",
    "import time\n",
    "import pylab as plt\n",
    "\n",
    "from sklearn.model_selection import train_test_split\n",
    "from sklearn.compose import ColumnTransformer\n",
    "from sklearn.preprocessing import StandardScaler\n",
    "from sklearn.preprocessing import OneHotEncoder"
   ]
  },
  {
   "cell_type": "markdown",
   "metadata": {
    "jp-MarkdownHeadingCollapsed": true,
    "tags": []
   },
   "source": [
    "## Covtype: https://archive.ics.uci.edu/ml/datasets/covertype\n",
    "(No Longer Used)"
   ]
  },
  {
   "cell_type": "code",
   "execution_count": 2,
   "metadata": {},
   "outputs": [
    {
     "name": "stdout",
     "output_type": "stream",
     "text": [
      "(581012, 55)\n"
     ]
    }
   ],
   "source": [
    "# covtype_path = \"data/covtype.data.gz\"\n",
    "\n",
    "# covtype_np = np.loadtxt(covtype_path, delimiter=',')\n",
    "# print(covtype_np.shape)"
   ]
  },
  {
   "cell_type": "code",
   "execution_count": 3,
   "metadata": {},
   "outputs": [
    {
     "name": "stdout",
     "output_type": "stream",
     "text": [
      "(581012, 54)\n",
      "(581012, 1)\n"
     ]
    }
   ],
   "source": [
    "# covtype_feature = covtype_np[:,:-1]\n",
    "# covtype_label = covtype_np[:,-1].reshape(-1,1).astype(int)\n",
    "# covtype_label = covtype_label - 1\n",
    "\n",
    "# print(covtype_feature.shape)\n",
    "# print(covtype_label.shape)"
   ]
  },
  {
   "cell_type": "code",
   "execution_count": 4,
   "metadata": {},
   "outputs": [
    {
     "name": "stdout",
     "output_type": "stream",
     "text": [
      "   0       1\n",
      "0  0  211840\n",
      "1  1  283301\n",
      "2  2   35754\n",
      "3  3    2747\n",
      "4  4    9493\n",
      "5  5   17367\n",
      "6  6   20510\n"
     ]
    }
   ],
   "source": [
    "# print(pd.DataFrame(np.unique(covtype_label, return_counts=True)).T)"
   ]
  },
  {
   "cell_type": "code",
   "execution_count": 5,
   "metadata": {},
   "outputs": [],
   "source": [
    "# covtype_feature_train, covtype_feature_test, covtype_label_train, covtype_label_test = \\\n",
    "#     train_test_split(covtype_feature, covtype_label, random_state=4212)"
   ]
  },
  {
   "cell_type": "code",
   "execution_count": 6,
   "metadata": {},
   "outputs": [
    {
     "name": "stdout",
     "output_type": "stream",
     "text": [
      "(435759, 54)\n",
      "(435759, 1)\n",
      "(145253, 54)\n",
      "(145253, 1)\n"
     ]
    }
   ],
   "source": [
    "# print(covtype_feature_train.shape)\n",
    "# print(covtype_label_train.shape)\n",
    "# print(covtype_feature_test.shape)\n",
    "# print(covtype_label_test.shape)"
   ]
  },
  {
   "cell_type": "code",
   "execution_count": 7,
   "metadata": {},
   "outputs": [
    {
     "data": {
      "text/html": [
       "<div>\n",
       "<style scoped>\n",
       "    .dataframe tbody tr th:only-of-type {\n",
       "        vertical-align: middle;\n",
       "    }\n",
       "\n",
       "    .dataframe tbody tr th {\n",
       "        vertical-align: top;\n",
       "    }\n",
       "\n",
       "    .dataframe thead th {\n",
       "        text-align: right;\n",
       "    }\n",
       "</style>\n",
       "<table border=\"1\" class=\"dataframe\">\n",
       "  <thead>\n",
       "    <tr style=\"text-align: right;\">\n",
       "      <th></th>\n",
       "      <th>0</th>\n",
       "      <th>1</th>\n",
       "      <th>2</th>\n",
       "      <th>3</th>\n",
       "      <th>4</th>\n",
       "      <th>5</th>\n",
       "      <th>6</th>\n",
       "      <th>7</th>\n",
       "      <th>8</th>\n",
       "      <th>9</th>\n",
       "    </tr>\n",
       "  </thead>\n",
       "  <tbody>\n",
       "    <tr>\n",
       "      <th>count</th>\n",
       "      <td>581012.000000</td>\n",
       "      <td>581012.000000</td>\n",
       "      <td>581012.000000</td>\n",
       "      <td>581012.000000</td>\n",
       "      <td>581012.000000</td>\n",
       "      <td>581012.000000</td>\n",
       "      <td>581012.000000</td>\n",
       "      <td>581012.000000</td>\n",
       "      <td>581012.000000</td>\n",
       "      <td>581012.000000</td>\n",
       "    </tr>\n",
       "    <tr>\n",
       "      <th>mean</th>\n",
       "      <td>2959.365301</td>\n",
       "      <td>155.656807</td>\n",
       "      <td>14.103704</td>\n",
       "      <td>269.428217</td>\n",
       "      <td>46.418855</td>\n",
       "      <td>2350.146611</td>\n",
       "      <td>212.146049</td>\n",
       "      <td>223.318716</td>\n",
       "      <td>142.528263</td>\n",
       "      <td>1980.291226</td>\n",
       "    </tr>\n",
       "    <tr>\n",
       "      <th>std</th>\n",
       "      <td>279.984734</td>\n",
       "      <td>111.913721</td>\n",
       "      <td>7.488242</td>\n",
       "      <td>212.549356</td>\n",
       "      <td>58.295232</td>\n",
       "      <td>1559.254870</td>\n",
       "      <td>26.769889</td>\n",
       "      <td>19.768697</td>\n",
       "      <td>38.274529</td>\n",
       "      <td>1324.195210</td>\n",
       "    </tr>\n",
       "    <tr>\n",
       "      <th>min</th>\n",
       "      <td>1859.000000</td>\n",
       "      <td>0.000000</td>\n",
       "      <td>0.000000</td>\n",
       "      <td>0.000000</td>\n",
       "      <td>-173.000000</td>\n",
       "      <td>0.000000</td>\n",
       "      <td>0.000000</td>\n",
       "      <td>0.000000</td>\n",
       "      <td>0.000000</td>\n",
       "      <td>0.000000</td>\n",
       "    </tr>\n",
       "    <tr>\n",
       "      <th>25%</th>\n",
       "      <td>2809.000000</td>\n",
       "      <td>58.000000</td>\n",
       "      <td>9.000000</td>\n",
       "      <td>108.000000</td>\n",
       "      <td>7.000000</td>\n",
       "      <td>1106.000000</td>\n",
       "      <td>198.000000</td>\n",
       "      <td>213.000000</td>\n",
       "      <td>119.000000</td>\n",
       "      <td>1024.000000</td>\n",
       "    </tr>\n",
       "    <tr>\n",
       "      <th>50%</th>\n",
       "      <td>2996.000000</td>\n",
       "      <td>127.000000</td>\n",
       "      <td>13.000000</td>\n",
       "      <td>218.000000</td>\n",
       "      <td>30.000000</td>\n",
       "      <td>1997.000000</td>\n",
       "      <td>218.000000</td>\n",
       "      <td>226.000000</td>\n",
       "      <td>143.000000</td>\n",
       "      <td>1710.000000</td>\n",
       "    </tr>\n",
       "    <tr>\n",
       "      <th>75%</th>\n",
       "      <td>3163.000000</td>\n",
       "      <td>260.000000</td>\n",
       "      <td>18.000000</td>\n",
       "      <td>384.000000</td>\n",
       "      <td>69.000000</td>\n",
       "      <td>3328.000000</td>\n",
       "      <td>231.000000</td>\n",
       "      <td>237.000000</td>\n",
       "      <td>168.000000</td>\n",
       "      <td>2550.000000</td>\n",
       "    </tr>\n",
       "    <tr>\n",
       "      <th>max</th>\n",
       "      <td>3858.000000</td>\n",
       "      <td>360.000000</td>\n",
       "      <td>66.000000</td>\n",
       "      <td>1397.000000</td>\n",
       "      <td>601.000000</td>\n",
       "      <td>7117.000000</td>\n",
       "      <td>254.000000</td>\n",
       "      <td>254.000000</td>\n",
       "      <td>254.000000</td>\n",
       "      <td>7173.000000</td>\n",
       "    </tr>\n",
       "  </tbody>\n",
       "</table>\n",
       "</div>"
      ],
      "text/plain": [
       "                   0              1              2              3  \\\n",
       "count  581012.000000  581012.000000  581012.000000  581012.000000   \n",
       "mean     2959.365301     155.656807      14.103704     269.428217   \n",
       "std       279.984734     111.913721       7.488242     212.549356   \n",
       "min      1859.000000       0.000000       0.000000       0.000000   \n",
       "25%      2809.000000      58.000000       9.000000     108.000000   \n",
       "50%      2996.000000     127.000000      13.000000     218.000000   \n",
       "75%      3163.000000     260.000000      18.000000     384.000000   \n",
       "max      3858.000000     360.000000      66.000000    1397.000000   \n",
       "\n",
       "                   4              5              6              7  \\\n",
       "count  581012.000000  581012.000000  581012.000000  581012.000000   \n",
       "mean       46.418855    2350.146611     212.146049     223.318716   \n",
       "std        58.295232    1559.254870      26.769889      19.768697   \n",
       "min      -173.000000       0.000000       0.000000       0.000000   \n",
       "25%         7.000000    1106.000000     198.000000     213.000000   \n",
       "50%        30.000000    1997.000000     218.000000     226.000000   \n",
       "75%        69.000000    3328.000000     231.000000     237.000000   \n",
       "max       601.000000    7117.000000     254.000000     254.000000   \n",
       "\n",
       "                   8              9  \n",
       "count  581012.000000  581012.000000  \n",
       "mean      142.528263    1980.291226  \n",
       "std        38.274529    1324.195210  \n",
       "min         0.000000       0.000000  \n",
       "25%       119.000000    1024.000000  \n",
       "50%       143.000000    1710.000000  \n",
       "75%       168.000000    2550.000000  \n",
       "max       254.000000    7173.000000  "
      ]
     },
     "execution_count": 7,
     "metadata": {},
     "output_type": "execute_result"
    }
   ],
   "source": [
    "# covtype_df = pd.DataFrame(covtype_feature)\n",
    "\n",
    "# covtype_df.iloc[:,:10].describe()"
   ]
  },
  {
   "cell_type": "code",
   "execution_count": 8,
   "metadata": {},
   "outputs": [
    {
     "name": "stdout",
     "output_type": "stream",
     "text": [
      "(435759, 54)\n",
      "(145253, 54)\n"
     ]
    }
   ],
   "source": [
    "# num_attribs = np.arange(0,10,1)\n",
    "# cat_attribs = np.arange(10,54,1)\n",
    "\n",
    "# full_pipeline = ColumnTransformer([\n",
    "#         (\"num\", StandardScaler(), num_attribs),\n",
    "#     ],remainder='passthrough')\n",
    "\n",
    "# covtype_feature_train_norm = full_pipeline.fit_transform(covtype_feature_train)\n",
    "# covtype_feature_test_norm = full_pipeline.transform(covtype_feature_test)\n",
    "# print(covtype_feature_train_norm.shape)\n",
    "# print(covtype_feature_test_norm.shape)"
   ]
  },
  {
   "cell_type": "markdown",
   "metadata": {
    "jp-MarkdownHeadingCollapsed": true,
    "tags": []
   },
   "source": [
    "## IJCNN https://www.csie.ntu.edu.tw/~cjlin/libsvmtools/datasets/binary.html#ijcnn1"
   ]
  },
  {
   "cell_type": "code",
   "execution_count": 124,
   "metadata": {},
   "outputs": [],
   "source": [
    "from sklearn.datasets import load_svmlight_file\n",
    "\n",
    "filepath = 'data/ijcnn1.tr.bz2'\n",
    "ijcnn_train_data, ijcnn_train_label = load_svmlight_file(filepath)\n",
    "filepath = 'data/ijcnn1.t.bz2'\n",
    "ijcnn_test_data, ijcnn_test_label = load_svmlight_file(filepath)\n",
    "\n",
    "ijcnn_train_data = ijcnn_train_data.toarray()\n",
    "ijcnn_test_data = ijcnn_test_data.toarray()"
   ]
  },
  {
   "cell_type": "code",
   "execution_count": 151,
   "metadata": {},
   "outputs": [],
   "source": [
    "ijcnn_train_label = ijcnn_train_label.astype(int)\n",
    "ijcnn_test_label = ijcnn_test_label.astype(int)\n",
    "ijcnn_train_label = (ijcnn_train_label+1) // 2\n",
    "ijcnn_test_label = (ijcnn_test_label+1) // 2"
   ]
  },
  {
   "cell_type": "code",
   "execution_count": 152,
   "metadata": {},
   "outputs": [
    {
     "name": "stdout",
     "output_type": "stream",
     "text": [
      "(35000, 22)\n",
      "(35000,)\n",
      "(91701, 22)\n",
      "(91701,)\n"
     ]
    }
   ],
   "source": [
    "print(ijcnn_train_data.shape)\n",
    "print(ijcnn_train_label.shape)\n",
    "print(ijcnn_test_data.shape)\n",
    "print(ijcnn_test_label.shape)"
   ]
  },
  {
   "cell_type": "code",
   "execution_count": 153,
   "metadata": {},
   "outputs": [
    {
     "name": "stdout",
     "output_type": "stream",
     "text": [
      "1.0\n",
      "-0.930435\n"
     ]
    }
   ],
   "source": [
    "print(ijcnn_train_data.max())\n",
    "print(ijcnn_train_data.min())\n",
    "# Already Scaled"
   ]
  },
  {
   "cell_type": "markdown",
   "metadata": {
    "jp-MarkdownHeadingCollapsed": true,
    "tags": []
   },
   "source": [
    "## MNIST: http://yann.lecun.com/exdb/mnist/"
   ]
  },
  {
   "cell_type": "code",
   "execution_count": 9,
   "metadata": {},
   "outputs": [],
   "source": [
    "def training_images():\n",
    "    with gzip.open('data/train-images-idx3-ubyte.gz', 'r') as f:\n",
    "        # first 4 bytes is a magic number\n",
    "        magic_number = int.from_bytes(f.read(4), 'big')\n",
    "        # second 4 bytes is the number of images\n",
    "        image_count = int.from_bytes(f.read(4), 'big')\n",
    "        # third 4 bytes is the row count\n",
    "        row_count = int.from_bytes(f.read(4), 'big')\n",
    "        # fourth 4 bytes is the column count\n",
    "        column_count = int.from_bytes(f.read(4), 'big')\n",
    "        # rest is the image pixel data, each pixel is stored as an unsigned byte\n",
    "        # pixel values are 0 to 255\n",
    "        image_data = f.read()\n",
    "        images = np.frombuffer(image_data, dtype=np.uint8)\\\n",
    "            .reshape((image_count, row_count, column_count))\n",
    "        return images\n",
    "\n",
    "\n",
    "def training_labels():\n",
    "    with gzip.open('data/train-labels-idx1-ubyte.gz', 'r') as f:\n",
    "        # first 4 bytes is a magic number\n",
    "        magic_number = int.from_bytes(f.read(4), 'big')\n",
    "        # second 4 bytes is the number of labels\n",
    "        label_count = int.from_bytes(f.read(4), 'big')\n",
    "        # rest is the label data, each label is stored as unsigned byte\n",
    "        # label values are 0 to 9\n",
    "        label_data = f.read()\n",
    "        labels = np.frombuffer(label_data, dtype=np.uint8)\n",
    "        return labels.reshape(-1,1)\n",
    "    \n",
    "def test_images():\n",
    "    with gzip.open('data/t10k-images-idx3-ubyte.gz', 'r') as f:\n",
    "        # first 4 bytes is a magic number\n",
    "        magic_number = int.from_bytes(f.read(4), 'big')\n",
    "        # second 4 bytes is the number of images\n",
    "        image_count = int.from_bytes(f.read(4), 'big')\n",
    "        # third 4 bytes is the row count\n",
    "        row_count = int.from_bytes(f.read(4), 'big')\n",
    "        # fourth 4 bytes is the column count\n",
    "        column_count = int.from_bytes(f.read(4), 'big')\n",
    "        # rest is the image pixel data, each pixel is stored as an unsigned byte\n",
    "        # pixel values are 0 to 255\n",
    "        image_data = f.read()\n",
    "        images = np.frombuffer(image_data, dtype=np.uint8)\\\n",
    "            .reshape((image_count, row_count, column_count))\n",
    "        return images\n",
    "\n",
    "\n",
    "def test_labels():\n",
    "    with gzip.open('data/t10k-labels-idx1-ubyte.gz', 'r') as f:\n",
    "        # first 4 bytes is a magic number\n",
    "        magic_number = int.from_bytes(f.read(4), 'big')\n",
    "        # second 4 bytes is the number of labels\n",
    "        label_count = int.from_bytes(f.read(4), 'big')\n",
    "        # rest is the label data, each label is stored as unsigned byte\n",
    "        # label values are 0 to 9\n",
    "        label_data = f.read()\n",
    "        labels = np.frombuffer(label_data, dtype=np.uint8)\n",
    "        return labels.reshape(-1,1)"
   ]
  },
  {
   "cell_type": "code",
   "execution_count": 10,
   "metadata": {},
   "outputs": [
    {
     "name": "stdout",
     "output_type": "stream",
     "text": [
      "(60000, 28, 28)\n",
      "(60000, 1)\n"
     ]
    }
   ],
   "source": [
    "mnist_train_images = training_images()\n",
    "mnist_train_labels = training_labels()\n",
    "print(mnist_train_images.shape)\n",
    "print(mnist_train_labels.shape)"
   ]
  },
  {
   "cell_type": "code",
   "execution_count": 11,
   "metadata": {},
   "outputs": [
    {
     "name": "stdout",
     "output_type": "stream",
     "text": [
      "(10000, 28, 28)\n",
      "(10000, 1)\n"
     ]
    }
   ],
   "source": [
    "mnist_test_images = test_images()\n",
    "mnist_test_labels = test_labels()\n",
    "print(mnist_test_images.shape)\n",
    "print(mnist_test_labels.shape)"
   ]
  },
  {
   "cell_type": "code",
   "execution_count": 12,
   "metadata": {},
   "outputs": [
    {
     "name": "stdout",
     "output_type": "stream",
     "text": [
      "   0     1\n",
      "0  0  5923\n",
      "1  1  6742\n",
      "2  2  5958\n",
      "3  3  6131\n",
      "4  4  5842\n",
      "5  5  5421\n",
      "6  6  5918\n",
      "7  7  6265\n",
      "8  8  5851\n",
      "9  9  5949\n"
     ]
    }
   ],
   "source": [
    "print(pd.DataFrame(np.unique(mnist_train_labels, return_counts=True)).T)"
   ]
  },
  {
   "cell_type": "code",
   "execution_count": 13,
   "metadata": {},
   "outputs": [
    {
     "name": "stdout",
     "output_type": "stream",
     "text": [
      "255\n",
      "255\n"
     ]
    }
   ],
   "source": [
    "print(np.max(mnist_train_images))\n",
    "print(np.max(mnist_test_images))"
   ]
  },
  {
   "cell_type": "code",
   "execution_count": 14,
   "metadata": {},
   "outputs": [],
   "source": [
    "mnist_train_images = mnist_train_images / 255.\n",
    "mnist_test_images = mnist_test_images / 255."
   ]
  },
  {
   "cell_type": "markdown",
   "metadata": {
    "jp-MarkdownHeadingCollapsed": true,
    "tags": []
   },
   "source": [
    "## Adult: https://archive.ics.uci.edu/ml/datasets/adult"
   ]
  },
  {
   "cell_type": "code",
   "execution_count": 15,
   "metadata": {},
   "outputs": [],
   "source": [
    "## Need further data cleaning & manipulating\n",
    "\n",
    "adult_train = \"data/adult.data\"\n",
    "adult_test = \"data/adult.test\"\n",
    "adult_train_df = pd.read_csv(adult_train, header=None)\n",
    "adult_test_df = pd.read_csv(adult_test, index_col=None)\n",
    "adult_test_df = adult_test_df.reset_index()"
   ]
  },
  {
   "cell_type": "code",
   "execution_count": 16,
   "metadata": {},
   "outputs": [],
   "source": [
    "adult_col_names = ['age','workclass', 'fnlwgt', 'education', 'education-num', 'marital-status', 'occupation','relationship','race','sex','capital-gain','capital-loss', 'hours-per-week','native-country', 'salary']\n",
    "adult_train_df.columns = adult_col_names\n",
    "adult_test_df.columns = adult_col_names"
   ]
  },
  {
   "cell_type": "code",
   "execution_count": 17,
   "metadata": {},
   "outputs": [],
   "source": [
    "adult_feature_train = adult_train_df.iloc[:,:-1] \n",
    "adult_label_train = adult_train_df.iloc[:,-1]\n",
    "adult_feature_test = adult_test_df.iloc[:,:-1]\n",
    "adult_label_test = adult_test_df.iloc[:,-1]"
   ]
  },
  {
   "cell_type": "code",
   "execution_count": 18,
   "metadata": {},
   "outputs": [
    {
     "name": "stdout",
     "output_type": "stream",
     "text": [
      "(32561, 14)\n",
      "(32561,)\n",
      "(16281, 14)\n",
      "(16281,)\n"
     ]
    }
   ],
   "source": [
    "print(adult_feature_train.shape)\n",
    "print(adult_label_train.shape)\n",
    "print(adult_feature_test.shape)\n",
    "print(adult_label_test.shape)"
   ]
  },
  {
   "cell_type": "code",
   "execution_count": 19,
   "metadata": {},
   "outputs": [
    {
     "data": {
      "text/html": [
       "<div>\n",
       "<style scoped>\n",
       "    .dataframe tbody tr th:only-of-type {\n",
       "        vertical-align: middle;\n",
       "    }\n",
       "\n",
       "    .dataframe tbody tr th {\n",
       "        vertical-align: top;\n",
       "    }\n",
       "\n",
       "    .dataframe thead th {\n",
       "        text-align: right;\n",
       "    }\n",
       "</style>\n",
       "<table border=\"1\" class=\"dataframe\">\n",
       "  <thead>\n",
       "    <tr style=\"text-align: right;\">\n",
       "      <th></th>\n",
       "      <th>age</th>\n",
       "      <th>workclass</th>\n",
       "      <th>fnlwgt</th>\n",
       "      <th>education</th>\n",
       "      <th>education-num</th>\n",
       "      <th>marital-status</th>\n",
       "      <th>occupation</th>\n",
       "      <th>relationship</th>\n",
       "      <th>race</th>\n",
       "      <th>sex</th>\n",
       "      <th>capital-gain</th>\n",
       "      <th>capital-loss</th>\n",
       "      <th>hours-per-week</th>\n",
       "      <th>native-country</th>\n",
       "    </tr>\n",
       "  </thead>\n",
       "  <tbody>\n",
       "    <tr>\n",
       "      <th>0</th>\n",
       "      <td>39</td>\n",
       "      <td>State-gov</td>\n",
       "      <td>77516</td>\n",
       "      <td>Bachelors</td>\n",
       "      <td>13</td>\n",
       "      <td>Never-married</td>\n",
       "      <td>Adm-clerical</td>\n",
       "      <td>Not-in-family</td>\n",
       "      <td>White</td>\n",
       "      <td>Male</td>\n",
       "      <td>2174</td>\n",
       "      <td>0</td>\n",
       "      <td>40</td>\n",
       "      <td>United-States</td>\n",
       "    </tr>\n",
       "    <tr>\n",
       "      <th>1</th>\n",
       "      <td>50</td>\n",
       "      <td>Self-emp-not-inc</td>\n",
       "      <td>83311</td>\n",
       "      <td>Bachelors</td>\n",
       "      <td>13</td>\n",
       "      <td>Married-civ-spouse</td>\n",
       "      <td>Exec-managerial</td>\n",
       "      <td>Husband</td>\n",
       "      <td>White</td>\n",
       "      <td>Male</td>\n",
       "      <td>0</td>\n",
       "      <td>0</td>\n",
       "      <td>13</td>\n",
       "      <td>United-States</td>\n",
       "    </tr>\n",
       "    <tr>\n",
       "      <th>2</th>\n",
       "      <td>38</td>\n",
       "      <td>Private</td>\n",
       "      <td>215646</td>\n",
       "      <td>HS-grad</td>\n",
       "      <td>9</td>\n",
       "      <td>Divorced</td>\n",
       "      <td>Handlers-cleaners</td>\n",
       "      <td>Not-in-family</td>\n",
       "      <td>White</td>\n",
       "      <td>Male</td>\n",
       "      <td>0</td>\n",
       "      <td>0</td>\n",
       "      <td>40</td>\n",
       "      <td>United-States</td>\n",
       "    </tr>\n",
       "    <tr>\n",
       "      <th>3</th>\n",
       "      <td>53</td>\n",
       "      <td>Private</td>\n",
       "      <td>234721</td>\n",
       "      <td>11th</td>\n",
       "      <td>7</td>\n",
       "      <td>Married-civ-spouse</td>\n",
       "      <td>Handlers-cleaners</td>\n",
       "      <td>Husband</td>\n",
       "      <td>Black</td>\n",
       "      <td>Male</td>\n",
       "      <td>0</td>\n",
       "      <td>0</td>\n",
       "      <td>40</td>\n",
       "      <td>United-States</td>\n",
       "    </tr>\n",
       "    <tr>\n",
       "      <th>4</th>\n",
       "      <td>28</td>\n",
       "      <td>Private</td>\n",
       "      <td>338409</td>\n",
       "      <td>Bachelors</td>\n",
       "      <td>13</td>\n",
       "      <td>Married-civ-spouse</td>\n",
       "      <td>Prof-specialty</td>\n",
       "      <td>Wife</td>\n",
       "      <td>Black</td>\n",
       "      <td>Female</td>\n",
       "      <td>0</td>\n",
       "      <td>0</td>\n",
       "      <td>40</td>\n",
       "      <td>Cuba</td>\n",
       "    </tr>\n",
       "  </tbody>\n",
       "</table>\n",
       "</div>"
      ],
      "text/plain": [
       "   age          workclass  fnlwgt   education  education-num  \\\n",
       "0   39          State-gov   77516   Bachelors             13   \n",
       "1   50   Self-emp-not-inc   83311   Bachelors             13   \n",
       "2   38            Private  215646     HS-grad              9   \n",
       "3   53            Private  234721        11th              7   \n",
       "4   28            Private  338409   Bachelors             13   \n",
       "\n",
       "        marital-status          occupation    relationship    race      sex  \\\n",
       "0        Never-married        Adm-clerical   Not-in-family   White     Male   \n",
       "1   Married-civ-spouse     Exec-managerial         Husband   White     Male   \n",
       "2             Divorced   Handlers-cleaners   Not-in-family   White     Male   \n",
       "3   Married-civ-spouse   Handlers-cleaners         Husband   Black     Male   \n",
       "4   Married-civ-spouse      Prof-specialty            Wife   Black   Female   \n",
       "\n",
       "   capital-gain  capital-loss  hours-per-week  native-country  \n",
       "0          2174             0              40   United-States  \n",
       "1             0             0              13   United-States  \n",
       "2             0             0              40   United-States  \n",
       "3             0             0              40   United-States  \n",
       "4             0             0              40            Cuba  "
      ]
     },
     "execution_count": 19,
     "metadata": {},
     "output_type": "execute_result"
    }
   ],
   "source": [
    "adult_feature_train.head()"
   ]
  },
  {
   "cell_type": "code",
   "execution_count": 20,
   "metadata": {},
   "outputs": [
    {
     "name": "stdout",
     "output_type": "stream",
     "text": [
      "        0      1\n",
      "0   <=50K  24720\n",
      "1    >50K   7841\n",
      "         0      1\n",
      "0   <=50K.  12435\n",
      "1    >50K.   3846\n"
     ]
    }
   ],
   "source": [
    "print(pd.DataFrame(np.unique(adult_label_train, return_counts=True)).T)\n",
    "print(pd.DataFrame(np.unique(adult_label_test, return_counts=True)).T)"
   ]
  },
  {
   "cell_type": "code",
   "execution_count": 21,
   "metadata": {},
   "outputs": [
    {
     "name": "stdout",
     "output_type": "stream",
     "text": [
      "<class 'pandas.core.frame.DataFrame'>\n",
      "RangeIndex: 32561 entries, 0 to 32560\n",
      "Data columns (total 14 columns):\n",
      " #   Column          Non-Null Count  Dtype \n",
      "---  ------          --------------  ----- \n",
      " 0   age             32561 non-null  int64 \n",
      " 1   workclass       32561 non-null  object\n",
      " 2   fnlwgt          32561 non-null  int64 \n",
      " 3   education       32561 non-null  object\n",
      " 4   education-num   32561 non-null  int64 \n",
      " 5   marital-status  32561 non-null  object\n",
      " 6   occupation      32561 non-null  object\n",
      " 7   relationship    32561 non-null  object\n",
      " 8   race            32561 non-null  object\n",
      " 9   sex             32561 non-null  object\n",
      " 10  capital-gain    32561 non-null  int64 \n",
      " 11  capital-loss    32561 non-null  int64 \n",
      " 12  hours-per-week  32561 non-null  int64 \n",
      " 13  native-country  32561 non-null  object\n",
      "dtypes: int64(6), object(8)\n",
      "memory usage: 3.5+ MB\n"
     ]
    }
   ],
   "source": [
    "adult_feature_train.info()"
   ]
  },
  {
   "cell_type": "code",
   "execution_count": 22,
   "metadata": {},
   "outputs": [
    {
     "name": "stdout",
     "output_type": "stream",
     "text": [
      "Index(['age', 'fnlwgt', 'education-num', 'capital-gain', 'capital-loss',\n",
      "       'hours-per-week'],\n",
      "      dtype='object')\n",
      "Index(['workclass', 'education', 'marital-status', 'occupation',\n",
      "       'relationship', 'race', 'sex', 'native-country'],\n",
      "      dtype='object')\n"
     ]
    }
   ],
   "source": [
    "num_attribs = adult_feature_train.columns[adult_feature_train.dtypes == 'int64']\n",
    "cat_attribs = adult_feature_train.columns[adult_feature_train.dtypes == 'object']\n",
    "print(num_attribs)\n",
    "print(cat_attribs)"
   ]
  },
  {
   "cell_type": "code",
   "execution_count": 23,
   "metadata": {},
   "outputs": [
    {
     "name": "stdout",
     "output_type": "stream",
     "text": [
      "(32561, 108)\n",
      "(16281, 108)\n"
     ]
    }
   ],
   "source": [
    "num_attribs = adult_feature_train.columns[adult_feature_train.dtypes == 'int64']\n",
    "cat_attribs = adult_feature_train.columns[adult_feature_train.dtypes == 'object']\n",
    "\n",
    "full_pipeline = ColumnTransformer([\n",
    "        (\"num\", StandardScaler(), num_attribs),\n",
    "        (\"cat\", OneHotEncoder(), cat_attribs)\n",
    "    ])\n",
    "\n",
    "adult_feature_train_norm = full_pipeline.fit_transform(adult_feature_train)\n",
    "adult_feature_train_norm = adult_feature_train_norm.toarray()\n",
    "adult_feature_test_norm = full_pipeline.transform(adult_feature_test)\n",
    "adult_feature_test_norm = adult_feature_test_norm.toarray()\n",
    "\n",
    "print(adult_feature_train_norm.shape)\n",
    "print(adult_feature_test_norm.shape)"
   ]
  },
  {
   "cell_type": "code",
   "execution_count": 24,
   "metadata": {},
   "outputs": [
    {
     "name": "stdout",
     "output_type": "stream",
     "text": [
      "   0      1\n",
      "0  0  24720\n",
      "1  1   7841\n",
      "   0      1\n",
      "0  0  12435\n",
      "1  1   3846\n"
     ]
    }
   ],
   "source": [
    "n_train = adult_label_train.shape[0]\n",
    "n_test = adult_label_test.shape[0]\n",
    "adult_label_train_bi = np.zeros(n_train)\n",
    "adult_label_test_bi = np.zeros(n_test)\n",
    "\n",
    "adult_label_train_bi[adult_label_train == adult_label_train.unique()[1]] = 1\n",
    "adult_label_test_bi[adult_label_test == adult_label_test.unique()[1]] = 1\n",
    "adult_label_train_bi = adult_label_train_bi.astype(int)\n",
    "adult_label_test_bi = adult_label_test_bi.astype(int)\n",
    "print(pd.DataFrame(np.unique(adult_label_train_bi, return_counts=True)).T)\n",
    "print(pd.DataFrame(np.unique(adult_label_test_bi, return_counts=True)).T)"
   ]
  },
  {
   "cell_type": "markdown",
   "metadata": {},
   "source": [
    "# Utility Functions"
   ]
  },
  {
   "cell_type": "markdown",
   "metadata": {},
   "source": [
    "## Common Utility"
   ]
  },
  {
   "cell_type": "code",
   "execution_count": 25,
   "metadata": {},
   "outputs": [],
   "source": [
    "@jax.jit\n",
    "def pred_proba(beta, x):\n",
    "    \"\"\" predict the probability vector of x belonging to each class \"\"\"\n",
    "    scores = beta@x\n",
    "    return jnp.exp(scores) / jnp.sum(jnp.exp(scores))\n",
    "\n",
    "pred_proba_batch = jax.vmap(pred_proba, in_axes=(None, 0)) # Vectorize Predict Function"
   ]
  },
  {
   "cell_type": "code",
   "execution_count": 26,
   "metadata": {},
   "outputs": [],
   "source": [
    "@jax.jit\n",
    "def get_label(p):\n",
    "    pred_label = jnp.argmax(p)\n",
    "    return pred_label\n",
    "\n",
    "def get_label_batch(P):\n",
    "    labels = jax.vmap(get_label,in_axes=[0])(P)\n",
    "    return labels.reshape(-1,1)\n",
    "# get_label_batch = jax.vmap(get_label,in_axes=[0])\n",
    "\n",
    "def get_accuracy(pred_labels, Y):\n",
    "    \"\"\" Compare the predicted probability (p) with the ground truth labels (Y) to get the accuracy \"\"\"\n",
    "    return jnp.mean(Y==pred_labels)\n",
    "\n",
    "def test_acc(beta,test_label, test_data):\n",
    "    # Memory Problem\n",
    "    N = test_label.shape[0]\n",
    "    bs = 100\n",
    "    \n",
    "    running_acc=0\n",
    "    n_mb=0\n",
    "    \n",
    "    for i in range(0,N,bs):\n",
    "        mb_data = test_data[i:i+bs]\n",
    "        mb_label = test_label[i:i+bs]\n",
    "        \n",
    "        mb_pred = pred_proba_batch(beta, mb_data)\n",
    "        mb_pred_labels = get_label_batch(mb_pred)\n",
    "        mb_acc = get_accuracy(mb_pred_labels, mb_label)\n",
    "        \n",
    "        running_acc += mb_acc\n",
    "        n_mb += 1\n",
    "    \n",
    "    # test_acc = jnp.dot(running_acc, batch_sizes) / jnp.sum(batch_sizes)\n",
    "    test_acc = running_acc / n_mb\n",
    "        \n",
    "    # test_pred = pred_proba_batch(beta, test_data)\n",
    "    # test_acc = get_accuracy(test_pred, Y_true)\n",
    "    return test_acc"
   ]
  },
  {
   "cell_type": "markdown",
   "metadata": {},
   "source": [
    "## Graph Plotting"
   ]
  },
  {
   "cell_type": "code",
   "execution_count": 164,
   "metadata": {
    "tags": []
   },
   "outputs": [],
   "source": [
    "def record_graph(record_list, key='test_acc_epoch', title=\"Summary of Results\", alpha=0.6, n = None):\n",
    "    \"\"\"\n",
    "    Plot graph of records in the list\n",
    "    \n",
    "    Args:\n",
    "     record_list: List of record (dictionary) as returned by model training functions\n",
    "     key: Performance metric to be plotted\n",
    "     n: Number of results to be plotted, full results will be plotted if None\n",
    "     \n",
    "    Output:\n",
    "     Multiple lines of the record on the same graph\n",
    "    \"\"\"\n",
    "    keys = record_list[0].keys()\n",
    "    if key not in keys:\n",
    "        print(f'{key} is an invalid key!')\n",
    "        print(f'Please enter one of the following: {keys}')\n",
    "        \n",
    "    plt.figure(figsize=(16,10))\n",
    "        \n",
    "    for record in record_list:\n",
    "        if n == None:\n",
    "            n = len(record.get(key))\n",
    "        y = record.get(key)[:n]\n",
    "        x = np.arange(n)\n",
    "\n",
    "        labels = record.get('name')\n",
    "        # if 'var' in key:\n",
    "        #     labels = [\"grad_\" + str(i) for i in range(y[0].shape[0])]\n",
    "            \n",
    "        plt.plot(x,\n",
    "                 y, \n",
    "                 \"-.\",\n",
    "                 alpha=alpha,\n",
    "                 label=labels)\n",
    "        plt.xticks(range(n))\n",
    "    \n",
    "    plt.legend()\n",
    "    plt.xlabel(f'{key}'.split('_')[-1])\n",
    "    plt.ylabel(' '.join(f'{key}'.split('_')[:-1]))\n",
    "    plt.grid(True)\n",
    "    plt.title(title)"
   ]
  },
  {
   "cell_type": "markdown",
   "metadata": {},
   "source": [
    "## Multi-Class Logistic Regression"
   ]
  },
  {
   "cell_type": "code",
   "execution_count": 28,
   "metadata": {},
   "outputs": [],
   "source": [
    "# Multi-Class Logistic Regression Loss\n",
    "@jax.jit\n",
    "def loss_single(beta, x, y):\n",
    "    \"\"\"\n",
    "     Loss of a single data in multi-class Logistic Regression\n",
    "    input:\n",
    "     beta: Model parameters of shape [n, p], n = number of classes for label, p = dimension of features\n",
    "     x: feature variables of shape p\n",
    "     y: label, a single number indicating which class the data belongs to \n",
    "    \"\"\"\n",
    "    scores = beta@x\n",
    "    scores = jnp.exp(scores) / jnp.sum(jnp.exp(scores)) # Softmax\n",
    "    \n",
    "    # scores = jax.nn.softmax(scores) # Softmax\n",
    "    loss = -jnp.log(scores[y]) # Negative Loglikelihood of True Class\n",
    "    return loss\n",
    "    \n",
    "loss_batch = jax.vmap(loss_single,in_axes=[None, 0, 0]) # Vectorize\n",
    "\n",
    "def loss_LR(beta, X, Y):\n",
    "    return jnp.mean(loss_batch(beta, X, Y))\n",
    "\n",
    "def loss_LR_single(beta, x, y):\n",
    "    loss = loss_single(beta, x, y)\n",
    "    if loss.shape == ():\n",
    "        return loss\n",
    "    return loss[0]"
   ]
  },
  {
   "cell_type": "code",
   "execution_count": 179,
   "metadata": {},
   "outputs": [],
   "source": [
    "# compute derivates\n",
    "loss_LR_grad = jax.jit(jax.grad(loss_LR, argnums=0))\n",
    "loss_LR_values_and_grad = jax.jit(jax.value_and_grad(loss_LR, argnums=0))\n",
    "\n",
    "loss_LR_single_grad = jax.jit(jax.grad(loss_LR_single, argnums=0))\n",
    "loss_LR_single_values_and_grad = jax.jit(jax.value_and_grad(loss_LR_single, argnums=0))"
   ]
  },
  {
   "cell_type": "markdown",
   "metadata": {
    "jp-MarkdownHeadingCollapsed": true,
    "tags": []
   },
   "source": [
    "### Testing Grad Var Calculation"
   ]
  },
  {
   "cell_type": "code",
   "execution_count": 38,
   "metadata": {
    "jupyter": {
     "source_hidden": true
    },
    "tags": []
   },
   "outputs": [
    {
     "name": "stderr",
     "output_type": "stream",
     "text": [
      "WARNING:absl:No GPU/TPU found, falling back to CPU. (Set TF_CPP_MIN_LOG_LEVEL=0 and rerun for more info.)\n"
     ]
    }
   ],
   "source": [
    "sum_grad_norm = jnp.zeros(7)\n",
    "sum_grad_norm_2 = jnp.zeros(7)"
   ]
  },
  {
   "cell_type": "code",
   "execution_count": 39,
   "metadata": {
    "jupyter": {
     "source_hidden": true
    },
    "tags": []
   },
   "outputs": [
    {
     "name": "stdout",
     "output_type": "stream",
     "text": [
      "[0. 0. 0. 0. 0. 0. 0.]\n",
      "[0. 0. 0. 0. 0. 0. 0.]\n"
     ]
    }
   ],
   "source": [
    "print(sum_grad_norm_2)\n",
    "print(sum_grad_norm)"
   ]
  },
  {
   "cell_type": "code",
   "execution_count": 41,
   "metadata": {
    "jupyter": {
     "source_hidden": true
    },
    "tags": []
   },
   "outputs": [
    {
     "name": "stdout",
     "output_type": "stream",
     "text": [
      "(7, 54)\n",
      "(7, 54)\n"
     ]
    }
   ],
   "source": [
    "n_features = 54\n",
    "n_classes = 7\n",
    "np.random.seed(4212)\n",
    "\n",
    "beta_init = np.random.normal(0,np.sqrt(1/(n_features)), size=[n_classes, n_features])\n",
    "\n",
    "_, grad1 = loss_LR_values_and_grad(beta_init, covtype_feature_train_norm[:1000], covtype_label_train[:1000])\n",
    "_, grad2 = loss_LR_values_and_grad(beta_init, covtype_feature_train_norm[1000:2000], covtype_label_train[1000:2000])\n",
    "print(grad1.shape)\n",
    "print(grad2.shape)"
   ]
  },
  {
   "cell_type": "code",
   "execution_count": 44,
   "metadata": {
    "jupyter": {
     "source_hidden": true
    },
    "tags": []
   },
   "outputs": [
    {
     "data": {
      "text/plain": [
       "DeviceArray(0.5537594, dtype=float32)"
      ]
     },
     "execution_count": 44,
     "metadata": {},
     "output_type": "execute_result"
    }
   ],
   "source": [
    "jnp.linalg.norm(grad1,axis=None)"
   ]
  },
  {
   "cell_type": "code",
   "execution_count": 42,
   "metadata": {
    "jupyter": {
     "source_hidden": true
    },
    "tags": []
   },
   "outputs": [
    {
     "name": "stdout",
     "output_type": "stream",
     "text": [
      "[0.2910855  0.33604226 0.20581408 0.12155367 0.12237841 0.12196509\n",
      " 0.14834969]\n",
      "[0.08473077 0.1129244  0.04235943 0.0147753  0.01497648 0.01487548\n",
      " 0.02200763]\n",
      "[0.2910855  0.33604226 0.20581408 0.12155367 0.12237841 0.12196509\n",
      " 0.14834969]\n"
     ]
    }
   ],
   "source": [
    "new_grad_norm = jnp.linalg.norm(grad1,axis=1)\n",
    "sum_grad_norm_2 += new_grad_norm**2\n",
    "sum_grad_norm += new_grad_norm\n",
    "print(new_grad_norm)\n",
    "print(sum_grad_norm_2)\n",
    "print(sum_grad_norm)"
   ]
  },
  {
   "cell_type": "code",
   "execution_count": 82,
   "metadata": {
    "jupyter": {
     "source_hidden": true
    },
    "tags": []
   },
   "outputs": [
    {
     "name": "stdout",
     "output_type": "stream",
     "text": [
      "[0.29765373 0.32411075 0.20028992 0.12812023 0.12245059 0.13217106\n",
      " 0.12537302]\n",
      "[0.17332852 0.21797217 0.08247548 0.03119009 0.02997062 0.03234467\n",
      " 0.03772602]\n",
      "[0.5887393  0.66015303 0.406104   0.2496739  0.244829   0.25413615\n",
      " 0.2737227 ]\n"
     ]
    }
   ],
   "source": [
    "new_grad_norm = jnp.linalg.norm(grad2,axis=1)\n",
    "sum_grad_norm_2 += new_grad_norm**2\n",
    "sum_grad_norm += new_grad_norm\n",
    "print(new_grad_norm)\n",
    "print(sum_grad_norm_2)\n",
    "print(sum_grad_norm)"
   ]
  },
  {
   "cell_type": "code",
   "execution_count": 84,
   "metadata": {
    "jupyter": {
     "source_hidden": true
    },
    "tags": []
   },
   "outputs": [
    {
     "name": "stdout",
     "output_type": "stream",
     "text": [
      "[1.07735395e-05 3.55839729e-05 7.62566924e-06 1.07800588e-05\n",
      " 1.86264515e-09 2.60416418e-05 1.31981447e-04]\n"
     ]
    }
   ],
   "source": [
    "n_update = 2\n",
    "new_grad_var = sum_grad_norm_2 / n_update - (sum_grad_norm / n_update)**2\n",
    "print(new_grad_var)"
   ]
  },
  {
   "cell_type": "markdown",
   "metadata": {},
   "source": [
    "# SGD Algos"
   ]
  },
  {
   "cell_type": "markdown",
   "metadata": {},
   "source": [
    "## 1. Basic SGD"
   ]
  },
  {
   "cell_type": "markdown",
   "metadata": {},
   "source": [
    "To calculate variance of gradient estimates: https://stats.stackexchange.com/questions/244352/variance-of-gradient-as-e-g-in-sgd"
   ]
  },
  {
   "cell_type": "code",
   "execution_count": 230,
   "metadata": {},
   "outputs": [],
   "source": [
    "def train_SGD_single(train_data, train_label, beta_init, lr, loss_fn, grad_fn, verbose = 0, n_run=20, random_state=4212):\n",
    "    \"\"\"\n",
    "     Find optimized beta given train images and train labels using Stochastic Gradient Descent (SGD) with Single Data per update of gradient\n",
    "     \n",
    "    Inputs:\n",
    "     train_img: Training images (in the format of [n,:] array, where n is the number of images)\n",
    "     train_label: Training labels (in the format of [n, 1] array, where n is the number of labels)\n",
    "     beta: Starting point of beta (weights)\n",
    "     lr: Learning rate\n",
    "     loss_fn: Function to return the loss value\n",
    "     grad_fn: Function to return the gradient\n",
    "     verbose: Print time elapsed, training loss and test accuracy for each epoch if verbose = 1, default 0\n",
    "     n_run: Number of computation of gradient / n, default 100\n",
    "     \n",
    "    Outputs:\n",
    "     beta: The final updated values of beta\n",
    "     record: A dictionary of performance during training, including 'loss_update', 'test_acc_update', 'grad_var_update'\n",
    "    \"\"\"\n",
    "    N = len(train_data)  # total number of data\n",
    "    img_indices = np.arange(N)\n",
    "\n",
    "    loss_history_n = []\n",
    "    grad_var = []\n",
    "    \n",
    "    beta = np.copy(beta_init)\n",
    "    learning_rate = lr\n",
    "    \n",
    "    # Calc norm for each set of beta\n",
    "    # n_grad = beta_init.shape[0]\n",
    "    # sum_grad_norm_2 = jnp.zeros(n_grad)\n",
    "    # sum_grad_norm = jnp.zeros(n_grad)\n",
    "    \n",
    "    sum_grad_norm_2 = 0\n",
    "    sum_grad_norm = 0\n",
    "    n_update = 0\n",
    "    \n",
    "    np.random.seed(random_state)\n",
    "\n",
    "    start = time.time()\n",
    "    for run in range(n_run*N):\n",
    "        # randomize the batches\n",
    "        idx = np.random.randint(0,N)\n",
    "\n",
    "        X = train_data[idx]\n",
    "        Y = train_label[idx]\n",
    "\n",
    "        # compute the stochastic gradient\n",
    "        grad = grad_fn(beta, X, Y)\n",
    "\n",
    "        # compute the variance of gradient E(||g||^2) - E(||g||)^2\n",
    "        # new_grad_norm = jnp.linalg.norm(grad,axis=1) # Calc norm for each set of beta\n",
    "\n",
    "        # new_grad_norm = jnp.linalg.norm(grad,axis=None)\n",
    "        # sum_grad_norm_2 += new_grad_norm**2\n",
    "        # sum_grad_norm += new_grad_norm\n",
    "        # n_update += 1\n",
    "        # new_grad_var = sum_grad_norm_2 / n_update - (sum_grad_norm / n_update)**2\n",
    "        # grad_var.append(new_grad_var)\n",
    "\n",
    "        # do one step of SGD\n",
    "        beta = beta - learning_rate*grad\n",
    "            \n",
    "        if (run+1)%N==0:\n",
    "            loss = loss_fn(beta, train_data, train_label)\n",
    "            loss_history_n.append(loss)\n",
    "            if verbose == 1:\n",
    "                end = time.time()\n",
    "                duration = end - start\n",
    "                print(f\"# Grad/N {(run+1)//N}: {duration:.2f} seconds, Loss: {loss:.2f}\")\n",
    "            \n",
    "    record = {'name': \"SGD\",\n",
    "              'loss_#Grad/n': loss_history_n}\n",
    "    \n",
    "    return beta, record"
   ]
  },
  {
   "cell_type": "code",
   "execution_count": 231,
   "metadata": {},
   "outputs": [],
   "source": [
    "def train_SGD(train_data, train_label, test_data, test_label, beta_init, lr, loss_fn, grad_fn, verbose = 0, n_run=20, mb_size=100, random_state=4212):\n",
    "    \"\"\"\n",
    "     Find optimized beta given train images and train labels using Stochastic Gradient Descent (SGD)\n",
    "     \n",
    "    Inputs:\n",
    "     train_img: Training images (in the format of [n,:] array, where n is the number of images)\n",
    "     train_label: Training labels (in the format of [n, 1] array, where n is the number of labels)\n",
    "     beta: Starting point of beta (weights)\n",
    "     lr: Learning rate\n",
    "     loss_fn: Function to return the loss value\n",
    "     grad_fn: Function to return the gradient\n",
    "     verbose: Print time elapsed, training loss and test accuracy for each epoch if verbose = 1, default 0\n",
    "     n_run: Number of computation of gradient / n, default 100\n",
    "     mb_size: Minibatch size, default 100\n",
    "     \n",
    "    Outputs:\n",
    "     beta: The final updated values of beta\n",
    "     record: A dictionary of performance during training, including 'loss_epoch', 'loss_mb', 'test_acc_epoch', 'test_acc_mb', 'grad_var,mb'\n",
    "    \"\"\"\n",
    "    minibatch_size = mb_size #size of the minibatchs\n",
    "    N = len(train_data) // minibatch_size + 1  #total number of minibatches\n",
    "    img_indices = np.arange(N)\n",
    "\n",
    "    loss_history_n = []\n",
    "    test_acc_history_n = []\n",
    "    grad_var = []\n",
    "    \n",
    "    beta = np.copy(beta_init)\n",
    "    learning_rate = lr\n",
    "    \n",
    "    # Calc norm for each set of beta\n",
    "    # n_grad = beta_init.shape[0]\n",
    "    # sum_grad_norm_2 = jnp.zeros(n_grad)\n",
    "    # sum_grad_norm = jnp.zeros(n_grad)\n",
    "    \n",
    "    sum_grad_norm_2 = 0\n",
    "    sum_grad_norm = 0\n",
    "    n_update = 0\n",
    "    \n",
    "    np.random.seed(random_state)\n",
    "\n",
    "    start = time.time()\n",
    "    for run in range(n_run*N):\n",
    "\n",
    "        # all_loss_within_epoch = []\n",
    "        # all_acc_within_epoch = []\n",
    "        # for k in range(n_minibatch):\n",
    "            # create the minibatch of examples\n",
    "            \n",
    "        k = np.random.randint(0, N) # which minibatch to use\n",
    "        batch_indices = np.arange(k*minibatch_size, (k+1)*minibatch_size) % N\n",
    "        batch_indices = img_indices[batch_indices]\n",
    "\n",
    "        X_minibatch = train_data[batch_indices]\n",
    "        Y_minibatch = train_label[batch_indices]\n",
    "\n",
    "        # compute the stochastic gradient\n",
    "        grad = grad_fn(beta, X_minibatch, Y_minibatch)\n",
    "\n",
    "        # compute the variance of gradient E(||g||^2) - E(||g||)^2\n",
    "        # new_grad_norm = jnp.linalg.norm(grad,axis=1) # Calc norm for each set of beta\n",
    "\n",
    "        # new_grad_norm = jnp.linalg.norm(grad,axis=None)\n",
    "        # sum_grad_norm_2 += new_grad_norm**2\n",
    "        # sum_grad_norm += new_grad_norm\n",
    "        # n_update += 1\n",
    "        # new_grad_var = sum_grad_norm_2 / n_update - (sum_grad_norm / n_update)**2\n",
    "        # grad_var.append(new_grad_var)\n",
    "\n",
    "        # do one step of SGD\n",
    "        beta = beta - learning_rate*grad\n",
    "\n",
    "            \n",
    "#         loss_epoch = np.mean(all_loss_within_epoch)\n",
    "#         loss_history_epoch.append(loss_epoch)\n",
    "        \n",
    "#         test_acc_epoch = np.mean(all_acc_within_epoch)\n",
    "#         test_acc_history_epoch.append(test_acc_epoch)\n",
    "        \n",
    "        if (run+1)%N==0:\n",
    "            loss = loss_fn(beta, train_data, train_label)\n",
    "            loss_history_n.append(loss)\n",
    "            \n",
    "            test_acc_new = test_acc(beta, test_label, test_data)\n",
    "            test_acc_history_n.append(test_acc_new)\n",
    "            if verbose == 1:\n",
    "                end = time.time()\n",
    "                duration = end - start\n",
    "                print(f\"# Grad/N {(run+1)//N}: {duration:.2f} seconds, Loss: {loss:.2f}, Test Accuracy: {test_acc_new:.3f}\")\n",
    "            \n",
    "    record = {'name': \"SGD\",\n",
    "              'loss_#Grad/n': loss_history_n,\n",
    "              'test_acc_#Grad/n': test_acc_history_n}\n",
    "    \n",
    "    return beta, record"
   ]
  },
  {
   "cell_type": "code",
   "execution_count": null,
   "metadata": {},
   "outputs": [],
   "source": []
  },
  {
   "cell_type": "markdown",
   "metadata": {},
   "source": [
    "## 2. SAG"
   ]
  },
  {
   "cell_type": "code",
   "execution_count": null,
   "metadata": {},
   "outputs": [],
   "source": []
  },
  {
   "cell_type": "code",
   "execution_count": null,
   "metadata": {},
   "outputs": [],
   "source": []
  },
  {
   "cell_type": "code",
   "execution_count": null,
   "metadata": {},
   "outputs": [],
   "source": []
  },
  {
   "cell_type": "markdown",
   "metadata": {},
   "source": [
    "## 3. SVPR"
   ]
  },
  {
   "cell_type": "code",
   "execution_count": null,
   "metadata": {},
   "outputs": [],
   "source": []
  },
  {
   "cell_type": "code",
   "execution_count": null,
   "metadata": {},
   "outputs": [],
   "source": []
  },
  {
   "cell_type": "code",
   "execution_count": null,
   "metadata": {},
   "outputs": [],
   "source": []
  },
  {
   "cell_type": "markdown",
   "metadata": {},
   "source": [
    "## 4. SAG"
   ]
  },
  {
   "cell_type": "code",
   "execution_count": null,
   "metadata": {},
   "outputs": [],
   "source": []
  },
  {
   "cell_type": "code",
   "execution_count": null,
   "metadata": {},
   "outputs": [],
   "source": []
  },
  {
   "cell_type": "markdown",
   "metadata": {},
   "source": [
    "### ......"
   ]
  },
  {
   "cell_type": "code",
   "execution_count": null,
   "metadata": {},
   "outputs": [],
   "source": []
  },
  {
   "cell_type": "code",
   "execution_count": null,
   "metadata": {},
   "outputs": [],
   "source": []
  },
  {
   "cell_type": "markdown",
   "metadata": {
    "tags": []
   },
   "source": [
    "## Experiment with Covtype\n",
    "(No longer used)"
   ]
  },
  {
   "cell_type": "code",
   "execution_count": 270,
   "metadata": {},
   "outputs": [],
   "source": [
    "train_data, test_data, train_label, test_label = covtype_feature_train_norm, covtype_feature_test_norm, covtype_label_train, covtype_label_test"
   ]
  },
  {
   "cell_type": "code",
   "execution_count": 271,
   "metadata": {},
   "outputs": [
    {
     "name": "stdout",
     "output_type": "stream",
     "text": [
      "(array([0, 1, 2, 3, 4, 5, 6]), array([158988, 212405,  26835,   2064,   7091,  13016,  15360],\n",
      "      dtype=int64))\n",
      "(array([0, 1, 2, 3, 4, 5, 6]), array([52852, 70896,  8919,   683,  2402,  4351,  5150], dtype=int64))\n",
      "(435759, 54)\n",
      "(145253, 54)\n"
     ]
    }
   ],
   "source": [
    "print(np.unique(train_label, return_counts=True))\n",
    "print(np.unique(test_label, return_counts=True))\n",
    "print(train_data.shape)\n",
    "print(test_data.shape)"
   ]
  },
  {
   "cell_type": "code",
   "execution_count": 268,
   "metadata": {},
   "outputs": [],
   "source": [
    "# Test with Covtype\n",
    "n_features = 54\n",
    "n_classes = 7\n",
    "np.random.seed(4212)\n",
    "\n",
    "beta_init = np.random.normal(0,np.sqrt(1/(n_features)), size=[n_classes, n_features])"
   ]
  },
  {
   "cell_type": "code",
   "execution_count": 269,
   "metadata": {},
   "outputs": [
    {
     "data": {
      "text/plain": [
       "(7, 54)"
      ]
     },
     "execution_count": 269,
     "metadata": {},
     "output_type": "execute_result"
    }
   ],
   "source": [
    "beta_init.shape"
   ]
  },
  {
   "cell_type": "markdown",
   "metadata": {},
   "source": [
    "### Single Version (Grad Var and Train Loss)"
   ]
  },
  {
   "cell_type": "code",
   "execution_count": 272,
   "metadata": {},
   "outputs": [
    {
     "name": "stdout",
     "output_type": "stream",
     "text": [
      "# Grad/N 1: 22.18 seconds, Loss: 0.64\n",
      "# Grad/N 2: 44.17 seconds, Loss: 0.64\n",
      "# Grad/N 3: 68.41 seconds, Loss: 0.64\n",
      "# Grad/N 4: 91.47 seconds, Loss: 0.65\n",
      "# Grad/N 5: 114.24 seconds, Loss: 0.65\n",
      "# Grad/N 6: 136.40 seconds, Loss: 0.64\n",
      "# Grad/N 7: 158.92 seconds, Loss: 0.64\n",
      "# Grad/N 8: 182.71 seconds, Loss: 0.66\n",
      "# Grad/N 9: 205.24 seconds, Loss: 0.65\n",
      "# Grad/N 10: 225.79 seconds, Loss: 0.64\n",
      "# Grad/N 11: 248.28 seconds, Loss: 0.65\n",
      "# Grad/N 12: 272.03 seconds, Loss: 0.64\n",
      "# Grad/N 13: 297.38 seconds, Loss: 0.64\n",
      "# Grad/N 14: 320.42 seconds, Loss: 0.64\n",
      "# Grad/N 15: 341.99 seconds, Loss: 0.64\n",
      "# Grad/N 16: 362.21 seconds, Loss: 0.64\n",
      "# Grad/N 17: 382.29 seconds, Loss: 0.64\n",
      "# Grad/N 18: 402.83 seconds, Loss: 0.64\n",
      "# Grad/N 19: 422.98 seconds, Loss: 0.64\n",
      "# Grad/N 20: 443.55 seconds, Loss: 0.64\n"
     ]
    }
   ],
   "source": [
    "beta = np.copy(beta_init)\n",
    "\n",
    "beta_SGD_single, record_SGD_single = train_SGD_single(train_data, train_label, beta_init, 0.01, loss_LR, loss_LR_single_grad, n_run=20, verbose = 1)"
   ]
  },
  {
   "cell_type": "code",
   "execution_count": 273,
   "metadata": {},
   "outputs": [],
   "source": [
    "# SAG\n"
   ]
  },
  {
   "cell_type": "code",
   "execution_count": 274,
   "metadata": {},
   "outputs": [],
   "source": [
    "# SVRG\n"
   ]
  },
  {
   "cell_type": "code",
   "execution_count": 275,
   "metadata": {},
   "outputs": [],
   "source": [
    "# SAGA\n"
   ]
  },
  {
   "cell_type": "code",
   "execution_count": 276,
   "metadata": {},
   "outputs": [
    {
     "data": {
      "image/png": "[encoded data removed]",
      "text/plain": [
       "<Figure size 1152x720 with 1 Axes>"
      ]
     },
     "metadata": {
      "needs_background": "light"
     },
     "output_type": "display_data"
    }
   ],
   "source": [
    "record_graph([record_SGD_single],'loss_#Grad/n')"
   ]
  },
  {
   "cell_type": "code",
   "execution_count": null,
   "metadata": {},
   "outputs": [],
   "source": []
  },
  {
   "cell_type": "markdown",
   "metadata": {
    "tags": []
   },
   "source": [
    "### Minibatch Version (Test Acc)"
   ]
  },
  {
   "cell_type": "code",
   "execution_count": 277,
   "metadata": {},
   "outputs": [
    {
     "name": "stdout",
     "output_type": "stream",
     "text": [
      "# Grad/N 1: 3.12 seconds, Loss: 0.81, Test Accuracy: 0.689\n",
      "# Grad/N 2: 5.64 seconds, Loss: 0.75, Test Accuracy: 0.696\n",
      "# Grad/N 3: 7.82 seconds, Loss: 0.73, Test Accuracy: 0.702\n",
      "# Grad/N 4: 10.02 seconds, Loss: 0.71, Test Accuracy: 0.707\n",
      "# Grad/N 5: 12.33 seconds, Loss: 0.70, Test Accuracy: 0.710\n",
      "# Grad/N 6: 14.52 seconds, Loss: 0.69, Test Accuracy: 0.712\n",
      "# Grad/N 7: 17.10 seconds, Loss: 0.69, Test Accuracy: 0.714\n",
      "# Grad/N 8: 19.53 seconds, Loss: 0.69, Test Accuracy: 0.714\n",
      "# Grad/N 9: 21.87 seconds, Loss: 0.68, Test Accuracy: 0.716\n",
      "# Grad/N 10: 24.43 seconds, Loss: 0.68, Test Accuracy: 0.716\n",
      "# Grad/N 11: 26.80 seconds, Loss: 0.68, Test Accuracy: 0.717\n",
      "# Grad/N 12: 29.07 seconds, Loss: 0.67, Test Accuracy: 0.717\n",
      "# Grad/N 13: 31.54 seconds, Loss: 0.67, Test Accuracy: 0.717\n",
      "# Grad/N 14: 33.87 seconds, Loss: 0.67, Test Accuracy: 0.718\n",
      "# Grad/N 15: 36.78 seconds, Loss: 0.67, Test Accuracy: 0.718\n",
      "# Grad/N 16: 39.09 seconds, Loss: 0.67, Test Accuracy: 0.718\n",
      "# Grad/N 17: 41.20 seconds, Loss: 0.67, Test Accuracy: 0.717\n",
      "# Grad/N 18: 43.29 seconds, Loss: 0.67, Test Accuracy: 0.718\n",
      "# Grad/N 19: 45.45 seconds, Loss: 0.66, Test Accuracy: 0.717\n",
      "# Grad/N 20: 47.56 seconds, Loss: 0.66, Test Accuracy: 0.718\n"
     ]
    }
   ],
   "source": [
    "beta = np.copy(beta_init)\n",
    "\n",
    "beta_SGD, record_SGD = train_SGD(train_data, train_label, test_data, test_label, beta_init, 0.01, loss_LR, loss_LR_grad, verbose = 1, n_run=20, mb_size=100)"
   ]
  },
  {
   "cell_type": "code",
   "execution_count": 278,
   "metadata": {},
   "outputs": [],
   "source": [
    "# SAG\n"
   ]
  },
  {
   "cell_type": "code",
   "execution_count": 279,
   "metadata": {},
   "outputs": [],
   "source": [
    "# SVRG\n"
   ]
  },
  {
   "cell_type": "code",
   "execution_count": 280,
   "metadata": {},
   "outputs": [],
   "source": [
    "# SAGA\n"
   ]
  },
  {
   "cell_type": "code",
   "execution_count": 281,
   "metadata": {},
   "outputs": [
    {
     "data": {
      "image/png": "[encoded data removed]",
      "text/plain": [
       "<Figure size 1152x720 with 1 Axes>"
      ]
     },
     "metadata": {
      "needs_background": "light"
     },
     "output_type": "display_data"
    }
   ],
   "source": [
    "record_graph([record_SGD],'test_acc_#Grad/n')"
   ]
  },
  {
   "cell_type": "code",
   "execution_count": 282,
   "metadata": {},
   "outputs": [
    {
     "data": {
      "image/png": "[encoded data removed]",
      "text/plain": [
       "<Figure size 1152x720 with 1 Axes>"
      ]
     },
     "metadata": {
      "needs_background": "light"
     },
     "output_type": "display_data"
    }
   ],
   "source": [
    "record_graph([record_SGD],'loss_#Grad/n')"
   ]
  },
  {
   "cell_type": "code",
   "execution_count": null,
   "metadata": {},
   "outputs": [],
   "source": []
  },
  {
   "cell_type": "markdown",
   "metadata": {},
   "source": [
    "## Experiment with IJCNN"
   ]
  },
  {
   "cell_type": "code",
   "execution_count": 232,
   "metadata": {},
   "outputs": [
    {
     "data": {
      "text/plain": [
       "(35000, 22)"
      ]
     },
     "execution_count": 232,
     "metadata": {},
     "output_type": "execute_result"
    }
   ],
   "source": [
    "ijcnn_train_data.shape"
   ]
  },
  {
   "cell_type": "code",
   "execution_count": 235,
   "metadata": {},
   "outputs": [],
   "source": [
    "train_data, test_data, train_label, test_label = ijcnn_train_data, ijcnn_test_data, ijcnn_train_label, ijcnn_test_label"
   ]
  },
  {
   "cell_type": "code",
   "execution_count": 236,
   "metadata": {},
   "outputs": [
    {
     "name": "stdout",
     "output_type": "stream",
     "text": [
      "(array([0, 1], dtype=int32), array([31585,  3415], dtype=int64))\n",
      "(array([0, 1], dtype=int32), array([82989,  8712], dtype=int64))\n",
      "(35000, 22)\n",
      "(91701, 22)\n"
     ]
    }
   ],
   "source": [
    "print(np.unique(train_label, return_counts=True))\n",
    "print(np.unique(test_label, return_counts=True))\n",
    "print(train_data.shape)\n",
    "print(test_data.shape)"
   ]
  },
  {
   "cell_type": "code",
   "execution_count": 233,
   "metadata": {},
   "outputs": [],
   "source": [
    "n_features = 22\n",
    "n_classes = 2\n",
    "np.random.seed(4212)\n",
    "\n",
    "beta_init = np.random.normal(0,np.sqrt(1/(n_features)), size=[n_classes, n_features])"
   ]
  },
  {
   "cell_type": "code",
   "execution_count": 234,
   "metadata": {},
   "outputs": [
    {
     "data": {
      "text/plain": [
       "(2, 22)"
      ]
     },
     "execution_count": 234,
     "metadata": {},
     "output_type": "execute_result"
    }
   ],
   "source": [
    "beta_init.shape"
   ]
  },
  {
   "cell_type": "markdown",
   "metadata": {},
   "source": [
    "### Single Version (Train Loss)"
   ]
  },
  {
   "cell_type": "code",
   "execution_count": 237,
   "metadata": {},
   "outputs": [
    {
     "name": "stdout",
     "output_type": "stream",
     "text": [
      "# Grad/N 1: 1.42 seconds, Loss: 0.25\n",
      "# Grad/N 2: 2.72 seconds, Loss: 0.23\n",
      "# Grad/N 3: 4.08 seconds, Loss: 0.21\n",
      "# Grad/N 4: 5.38 seconds, Loss: 0.21\n",
      "# Grad/N 5: 6.66 seconds, Loss: 0.20\n",
      "# Grad/N 6: 7.94 seconds, Loss: 0.20\n",
      "# Grad/N 7: 9.27 seconds, Loss: 0.20\n",
      "# Grad/N 8: 10.59 seconds, Loss: 0.20\n",
      "# Grad/N 9: 11.99 seconds, Loss: 0.20\n",
      "# Grad/N 10: 13.49 seconds, Loss: 0.20\n",
      "# Grad/N 11: 14.83 seconds, Loss: 0.20\n",
      "# Grad/N 12: 16.18 seconds, Loss: 0.20\n",
      "# Grad/N 13: 17.56 seconds, Loss: 0.20\n",
      "# Grad/N 14: 18.86 seconds, Loss: 0.20\n",
      "# Grad/N 15: 20.17 seconds, Loss: 0.20\n",
      "# Grad/N 16: 21.48 seconds, Loss: 0.20\n",
      "# Grad/N 17: 22.77 seconds, Loss: 0.20\n",
      "# Grad/N 18: 24.10 seconds, Loss: 0.20\n",
      "# Grad/N 19: 25.42 seconds, Loss: 0.20\n",
      "# Grad/N 20: 26.72 seconds, Loss: 0.20\n"
     ]
    }
   ],
   "source": [
    "beta = np.copy(beta_init)\n",
    "\n",
    "beta_SGD_single, record_SGD_single = train_SGD_single(train_data, train_label, beta_init, 0.01, loss_LR, loss_LR_single_grad, n_run=20, verbose = 1)"
   ]
  },
  {
   "cell_type": "code",
   "execution_count": 206,
   "metadata": {},
   "outputs": [],
   "source": [
    "# SAG\n"
   ]
  },
  {
   "cell_type": "code",
   "execution_count": 207,
   "metadata": {},
   "outputs": [],
   "source": [
    "# SVRG\n"
   ]
  },
  {
   "cell_type": "code",
   "execution_count": 208,
   "metadata": {},
   "outputs": [],
   "source": [
    "# SAGA\n"
   ]
  },
  {
   "cell_type": "code",
   "execution_count": 238,
   "metadata": {},
   "outputs": [
    {
     "data": {
      "image/png": "[encoded data removed]",
      "text/plain": [
       "<Figure size 1152x720 with 1 Axes>"
      ]
     },
     "metadata": {
      "needs_background": "light"
     },
     "output_type": "display_data"
    }
   ],
   "source": [
    "record_graph([record_SGD_single],'loss_#Grad/n')"
   ]
  },
  {
   "cell_type": "code",
   "execution_count": null,
   "metadata": {},
   "outputs": [],
   "source": []
  },
  {
   "cell_type": "markdown",
   "metadata": {
    "tags": []
   },
   "source": [
    "### Minibatch Version (Test Acc)"
   ]
  },
  {
   "cell_type": "code",
   "execution_count": 239,
   "metadata": {},
   "outputs": [
    {
     "name": "stdout",
     "output_type": "stream",
     "text": [
      "# Grad/N 1: 0.92 seconds, Loss: 0.63, Test Accuracy: 0.841\n",
      "# Grad/N 2: 1.81 seconds, Loss: 0.62, Test Accuracy: 0.848\n",
      "# Grad/N 3: 2.79 seconds, Loss: 0.62, Test Accuracy: 0.850\n",
      "# Grad/N 4: 3.73 seconds, Loss: 0.63, Test Accuracy: 0.850\n",
      "# Grad/N 5: 4.59 seconds, Loss: 0.63, Test Accuracy: 0.851\n",
      "# Grad/N 6: 5.46 seconds, Loss: 0.63, Test Accuracy: 0.851\n",
      "# Grad/N 7: 6.33 seconds, Loss: 0.63, Test Accuracy: 0.851\n",
      "# Grad/N 8: 7.15 seconds, Loss: 0.63, Test Accuracy: 0.851\n",
      "# Grad/N 9: 8.05 seconds, Loss: 0.64, Test Accuracy: 0.851\n",
      "# Grad/N 10: 8.89 seconds, Loss: 0.64, Test Accuracy: 0.851\n",
      "# Grad/N 11: 9.71 seconds, Loss: 0.64, Test Accuracy: 0.851\n",
      "# Grad/N 12: 10.55 seconds, Loss: 0.64, Test Accuracy: 0.851\n",
      "# Grad/N 13: 11.40 seconds, Loss: 0.64, Test Accuracy: 0.851\n",
      "# Grad/N 14: 12.24 seconds, Loss: 0.64, Test Accuracy: 0.851\n",
      "# Grad/N 15: 13.11 seconds, Loss: 0.64, Test Accuracy: 0.851\n",
      "# Grad/N 16: 13.94 seconds, Loss: 0.64, Test Accuracy: 0.851\n",
      "# Grad/N 17: 14.85 seconds, Loss: 0.64, Test Accuracy: 0.851\n",
      "# Grad/N 18: 15.70 seconds, Loss: 0.64, Test Accuracy: 0.850\n",
      "# Grad/N 19: 16.62 seconds, Loss: 0.64, Test Accuracy: 0.850\n",
      "# Grad/N 20: 17.46 seconds, Loss: 0.65, Test Accuracy: 0.850\n"
     ]
    }
   ],
   "source": [
    "beta = np.copy(beta_init)\n",
    "\n",
    "beta_SGD, record_SGD = train_SGD(train_data, train_label, test_data, test_label, beta_init, 0.01, loss_LR, loss_LR_grad, verbose = 1, n_run=20, mb_size=100)"
   ]
  },
  {
   "cell_type": "code",
   "execution_count": 240,
   "metadata": {},
   "outputs": [],
   "source": [
    "# SAG\n"
   ]
  },
  {
   "cell_type": "code",
   "execution_count": 241,
   "metadata": {},
   "outputs": [],
   "source": [
    "# SVRG\n"
   ]
  },
  {
   "cell_type": "code",
   "execution_count": 242,
   "metadata": {},
   "outputs": [],
   "source": [
    "# SAGA\n"
   ]
  },
  {
   "cell_type": "code",
   "execution_count": 243,
   "metadata": {},
   "outputs": [
    {
     "data": {
      "image/png": "[encoded data removed]",
      "text/plain": [
       "<Figure size 1152x720 with 1 Axes>"
      ]
     },
     "metadata": {
      "needs_background": "light"
     },
     "output_type": "display_data"
    }
   ],
   "source": [
    "record_graph([record_SGD],'test_acc_#Grad/n')"
   ]
  },
  {
   "cell_type": "code",
   "execution_count": 244,
   "metadata": {},
   "outputs": [
    {
     "data": {
      "image/png": "[encoded data removed]",
      "text/plain": [
       "<Figure size 1152x720 with 1 Axes>"
      ]
     },
     "metadata": {
      "needs_background": "light"
     },
     "output_type": "display_data"
    }
   ],
   "source": [
    "record_graph([record_SGD],'loss_#Grad/n')"
   ]
  },
  {
   "cell_type": "markdown",
   "metadata": {
    "tags": []
   },
   "source": [
    "## Experiment with MNIST"
   ]
  },
  {
   "cell_type": "code",
   "execution_count": 245,
   "metadata": {},
   "outputs": [
    {
     "data": {
      "text/plain": [
       "(60000, 28, 28)"
      ]
     },
     "execution_count": 245,
     "metadata": {},
     "output_type": "execute_result"
    }
   ],
   "source": [
    "mnist_train_images.shape"
   ]
  },
  {
   "cell_type": "code",
   "execution_count": 248,
   "metadata": {},
   "outputs": [],
   "source": [
    "train_data, test_data, train_label, test_label = mnist_train_images.reshape(-1,28*28), mnist_test_images.reshape(-1,28*28), mnist_train_labels, mnist_test_labels"
   ]
  },
  {
   "cell_type": "code",
   "execution_count": 249,
   "metadata": {},
   "outputs": [
    {
     "name": "stdout",
     "output_type": "stream",
     "text": [
      "(array([0, 1, 2, 3, 4, 5, 6, 7, 8, 9], dtype=uint8), array([5923, 6742, 5958, 6131, 5842, 5421, 5918, 6265, 5851, 5949],\n",
      "      dtype=int64))\n",
      "(array([0, 1, 2, 3, 4, 5, 6, 7, 8, 9], dtype=uint8), array([ 980, 1135, 1032, 1010,  982,  892,  958, 1028,  974, 1009],\n",
      "      dtype=int64))\n",
      "(60000, 784)\n",
      "(10000, 784)\n"
     ]
    }
   ],
   "source": [
    "print(np.unique(train_label, return_counts=True))\n",
    "print(np.unique(test_label, return_counts=True))\n",
    "print(train_data.shape)\n",
    "print(test_data.shape)"
   ]
  },
  {
   "cell_type": "code",
   "execution_count": 246,
   "metadata": {},
   "outputs": [],
   "source": [
    "n_features = 28*28\n",
    "n_classes = 10\n",
    "np.random.seed(4212)\n",
    "\n",
    "beta_init = np.random.normal(0,np.sqrt(1/(n_features)), size=[n_classes, n_features])"
   ]
  },
  {
   "cell_type": "code",
   "execution_count": 247,
   "metadata": {},
   "outputs": [
    {
     "data": {
      "text/plain": [
       "(10, 784)"
      ]
     },
     "execution_count": 247,
     "metadata": {},
     "output_type": "execute_result"
    }
   ],
   "source": [
    "beta_init.shape"
   ]
  },
  {
   "cell_type": "markdown",
   "metadata": {},
   "source": [
    "### Single Version (Grad Var and Train Loss)"
   ]
  },
  {
   "cell_type": "code",
   "execution_count": 250,
   "metadata": {},
   "outputs": [
    {
     "name": "stdout",
     "output_type": "stream",
     "text": [
      "# Grad/N 1: 3.50 seconds, Loss: 0.31\n",
      "# Grad/N 2: 6.38 seconds, Loss: 0.29\n",
      "# Grad/N 3: 9.36 seconds, Loss: 0.28\n",
      "# Grad/N 4: 12.48 seconds, Loss: 0.28\n",
      "# Grad/N 5: 15.37 seconds, Loss: 0.30\n",
      "# Grad/N 6: 18.27 seconds, Loss: 0.28\n",
      "# Grad/N 7: 21.54 seconds, Loss: 0.28\n",
      "# Grad/N 8: 24.86 seconds, Loss: 0.27\n",
      "# Grad/N 9: 27.81 seconds, Loss: 0.28\n",
      "# Grad/N 10: 31.20 seconds, Loss: 0.28\n",
      "# Grad/N 11: 34.86 seconds, Loss: 0.28\n",
      "# Grad/N 12: 37.99 seconds, Loss: 0.28\n",
      "# Grad/N 13: 41.20 seconds, Loss: 0.26\n",
      "# Grad/N 14: 44.94 seconds, Loss: 0.27\n",
      "# Grad/N 15: 49.04 seconds, Loss: 0.27\n",
      "# Grad/N 16: 52.56 seconds, Loss: 0.26\n",
      "# Grad/N 17: 55.73 seconds, Loss: 0.26\n",
      "# Grad/N 18: 58.81 seconds, Loss: 0.26\n",
      "# Grad/N 19: 61.99 seconds, Loss: 0.25\n",
      "# Grad/N 20: 65.30 seconds, Loss: 0.26\n"
     ]
    }
   ],
   "source": [
    "beta = np.copy(beta_init)\n",
    "\n",
    "beta_SGD_single, record_SGD_single = train_SGD_single(train_data, train_label, beta_init, 0.01, loss_LR, loss_LR_single_grad, n_run=20, verbose = 1)"
   ]
  },
  {
   "cell_type": "code",
   "execution_count": 206,
   "metadata": {},
   "outputs": [],
   "source": [
    "# SAG\n"
   ]
  },
  {
   "cell_type": "code",
   "execution_count": 207,
   "metadata": {},
   "outputs": [],
   "source": [
    "# SVRG\n"
   ]
  },
  {
   "cell_type": "code",
   "execution_count": 208,
   "metadata": {},
   "outputs": [],
   "source": [
    "# SAGA\n"
   ]
  },
  {
   "cell_type": "code",
   "execution_count": 251,
   "metadata": {},
   "outputs": [
    {
     "data": {
      "image/png": "[encoded data removed]",
      "text/plain": [
       "<Figure size 1152x720 with 1 Axes>"
      ]
     },
     "metadata": {
      "needs_background": "light"
     },
     "output_type": "display_data"
    }
   ],
   "source": [
    "record_graph([record_SGD_single],'loss_#Grad/n')"
   ]
  },
  {
   "cell_type": "markdown",
   "metadata": {
    "tags": []
   },
   "source": [
    "### Minibatch Version (Test Acc)"
   ]
  },
  {
   "cell_type": "code",
   "execution_count": 252,
   "metadata": {},
   "outputs": [
    {
     "name": "stdout",
     "output_type": "stream",
     "text": [
      "# Grad/N 1: 0.47 seconds, Loss: 0.83, Test Accuracy: 0.789\n",
      "# Grad/N 2: 0.89 seconds, Loss: 0.67, Test Accuracy: 0.815\n",
      "# Grad/N 3: 1.29 seconds, Loss: 0.61, Test Accuracy: 0.828\n",
      "# Grad/N 4: 1.69 seconds, Loss: 0.58, Test Accuracy: 0.832\n",
      "# Grad/N 5: 2.10 seconds, Loss: 0.56, Test Accuracy: 0.835\n",
      "# Grad/N 6: 2.57 seconds, Loss: 0.54, Test Accuracy: 0.839\n",
      "# Grad/N 7: 2.97 seconds, Loss: 0.54, Test Accuracy: 0.840\n",
      "# Grad/N 8: 3.40 seconds, Loss: 0.53, Test Accuracy: 0.842\n",
      "# Grad/N 9: 3.82 seconds, Loss: 0.53, Test Accuracy: 0.843\n",
      "# Grad/N 10: 4.29 seconds, Loss: 0.52, Test Accuracy: 0.844\n",
      "# Grad/N 11: 4.75 seconds, Loss: 0.52, Test Accuracy: 0.844\n",
      "# Grad/N 12: 5.21 seconds, Loss: 0.52, Test Accuracy: 0.843\n",
      "# Grad/N 13: 5.73 seconds, Loss: 0.52, Test Accuracy: 0.844\n",
      "# Grad/N 14: 6.21 seconds, Loss: 0.52, Test Accuracy: 0.844\n",
      "# Grad/N 15: 6.70 seconds, Loss: 0.53, Test Accuracy: 0.843\n",
      "# Grad/N 16: 7.17 seconds, Loss: 0.53, Test Accuracy: 0.843\n",
      "# Grad/N 17: 7.65 seconds, Loss: 0.53, Test Accuracy: 0.843\n",
      "# Grad/N 18: 8.10 seconds, Loss: 0.53, Test Accuracy: 0.844\n",
      "# Grad/N 19: 8.58 seconds, Loss: 0.53, Test Accuracy: 0.844\n",
      "# Grad/N 20: 9.04 seconds, Loss: 0.53, Test Accuracy: 0.843\n"
     ]
    }
   ],
   "source": [
    "beta = np.copy(beta_init)\n",
    "\n",
    "beta_SGD, record_SGD = train_SGD(train_data, train_label, test_data, test_label, beta_init, 0.01, loss_LR, loss_LR_grad, verbose = 1, n_run=20, mb_size=100)"
   ]
  },
  {
   "cell_type": "code",
   "execution_count": 253,
   "metadata": {},
   "outputs": [],
   "source": [
    "# SAG\n"
   ]
  },
  {
   "cell_type": "code",
   "execution_count": 254,
   "metadata": {},
   "outputs": [],
   "source": [
    "# SVRG\n"
   ]
  },
  {
   "cell_type": "code",
   "execution_count": 255,
   "metadata": {},
   "outputs": [],
   "source": [
    "# SAGA\n"
   ]
  },
  {
   "cell_type": "code",
   "execution_count": 256,
   "metadata": {},
   "outputs": [
    {
     "data": {
      "image/png": "[encoded data removed]",
      "text/plain": [
       "<Figure size 1152x720 with 1 Axes>"
      ]
     },
     "metadata": {
      "needs_background": "light"
     },
     "output_type": "display_data"
    }
   ],
   "source": [
    "record_graph([record_SGD],'test_acc_#Grad/n')"
   ]
  },
  {
   "cell_type": "code",
   "execution_count": 257,
   "metadata": {},
   "outputs": [
    {
     "data": {
      "image/png": "[encoded data removed]",
      "text/plain": [
       "<Figure size 1152x720 with 1 Axes>"
      ]
     },
     "metadata": {
      "needs_background": "light"
     },
     "output_type": "display_data"
    }
   ],
   "source": [
    "record_graph([record_SGD],'loss_#Grad/n')"
   ]
  },
  {
   "cell_type": "markdown",
   "metadata": {
    "tags": []
   },
   "source": [
    "## Experiment with Adult"
   ]
  },
  {
   "cell_type": "code",
   "execution_count": 258,
   "metadata": {},
   "outputs": [
    {
     "data": {
      "text/plain": [
       "(32561, 108)"
      ]
     },
     "execution_count": 258,
     "metadata": {},
     "output_type": "execute_result"
    }
   ],
   "source": [
    "adult_feature_train_norm.shape"
   ]
  },
  {
   "cell_type": "code",
   "execution_count": 259,
   "metadata": {},
   "outputs": [],
   "source": [
    "n_features = 108\n",
    "n_classes = 2\n",
    "np.random.seed(4212)\n",
    "\n",
    "beta_init = np.random.normal(0,(1/(n_features*n_classes)), size=[n_classes, n_features])"
   ]
  },
  {
   "cell_type": "code",
   "execution_count": 260,
   "metadata": {},
   "outputs": [
    {
     "data": {
      "text/plain": [
       "(2, 108)"
      ]
     },
     "execution_count": 260,
     "metadata": {},
     "output_type": "execute_result"
    }
   ],
   "source": [
    "beta_init.shape"
   ]
  },
  {
   "cell_type": "code",
   "execution_count": 261,
   "metadata": {},
   "outputs": [],
   "source": [
    "train_data, test_data, train_label, test_label = adult_feature_train_norm, adult_feature_test_norm, adult_label_train_bi, adult_label_test_bi"
   ]
  },
  {
   "cell_type": "code",
   "execution_count": 262,
   "metadata": {},
   "outputs": [
    {
     "name": "stdout",
     "output_type": "stream",
     "text": [
      "(array([0, 1]), array([24720,  7841], dtype=int64))\n",
      "(array([0, 1]), array([12435,  3846], dtype=int64))\n",
      "(32561, 108)\n",
      "(16281, 108)\n"
     ]
    }
   ],
   "source": [
    "print(np.unique(train_label, return_counts=True))\n",
    "print(np.unique(test_label, return_counts=True))\n",
    "print(train_data.shape)\n",
    "print(test_data.shape)"
   ]
  },
  {
   "cell_type": "markdown",
   "metadata": {},
   "source": [
    "### Single Version (Grad Var and Train Loss)"
   ]
  },
  {
   "cell_type": "code",
   "execution_count": 263,
   "metadata": {},
   "outputs": [
    {
     "name": "stdout",
     "output_type": "stream",
     "text": [
      "# Grad/N 1: 1.36 seconds, Loss: 0.33\n",
      "# Grad/N 2: 2.62 seconds, Loss: 0.33\n",
      "# Grad/N 3: 3.93 seconds, Loss: 0.32\n",
      "# Grad/N 4: 5.20 seconds, Loss: 0.32\n",
      "# Grad/N 5: 6.45 seconds, Loss: 0.32\n",
      "# Grad/N 6: 7.79 seconds, Loss: 0.32\n",
      "# Grad/N 7: 9.40 seconds, Loss: 0.32\n",
      "# Grad/N 8: 10.91 seconds, Loss: 0.32\n",
      "# Grad/N 9: 12.38 seconds, Loss: 0.33\n",
      "# Grad/N 10: 13.84 seconds, Loss: 0.32\n",
      "# Grad/N 11: 15.31 seconds, Loss: 0.32\n",
      "# Grad/N 12: 17.05 seconds, Loss: 0.33\n",
      "# Grad/N 13: 18.97 seconds, Loss: 0.32\n",
      "# Grad/N 14: 20.78 seconds, Loss: 0.33\n",
      "# Grad/N 15: 22.47 seconds, Loss: 0.32\n",
      "# Grad/N 16: 24.17 seconds, Loss: 0.33\n",
      "# Grad/N 17: 25.71 seconds, Loss: 0.32\n",
      "# Grad/N 18: 27.20 seconds, Loss: 0.32\n",
      "# Grad/N 19: 28.62 seconds, Loss: 0.32\n",
      "# Grad/N 20: 30.09 seconds, Loss: 0.32\n"
     ]
    }
   ],
   "source": [
    "beta = np.copy(beta_init)\n",
    "\n",
    "beta_SGD_single, record_SGD_single = train_SGD_single(train_data, train_label, beta_init, 0.01, loss_LR, loss_LR_single_grad, n_run=20, verbose = 1)"
   ]
  },
  {
   "cell_type": "code",
   "execution_count": 66,
   "metadata": {},
   "outputs": [],
   "source": [
    "# SAG\n"
   ]
  },
  {
   "cell_type": "code",
   "execution_count": 67,
   "metadata": {},
   "outputs": [],
   "source": [
    "# SVRG\n"
   ]
  },
  {
   "cell_type": "code",
   "execution_count": 68,
   "metadata": {},
   "outputs": [],
   "source": [
    "# SAGA\n"
   ]
  },
  {
   "cell_type": "code",
   "execution_count": 264,
   "metadata": {},
   "outputs": [
    {
     "data": {
      "image/png": "[encoded data removed]",
      "text/plain": [
       "<Figure size 1152x720 with 1 Axes>"
      ]
     },
     "metadata": {
      "needs_background": "light"
     },
     "output_type": "display_data"
    }
   ],
   "source": [
    "record_graph([record_SGD_single],'loss_#Grad/n')"
   ]
  },
  {
   "cell_type": "markdown",
   "metadata": {
    "tags": []
   },
   "source": [
    "### Minibatch Version (Test Acc)"
   ]
  },
  {
   "cell_type": "code",
   "execution_count": 265,
   "metadata": {
    "tags": []
   },
   "outputs": [
    {
     "name": "stdout",
     "output_type": "stream",
     "text": [
      "# Grad/N 1: 0.23 seconds, Loss: 0.41, Test Accuracy: 0.711\n",
      "# Grad/N 2: 0.43 seconds, Loss: 0.38, Test Accuracy: 0.696\n",
      "# Grad/N 3: 0.64 seconds, Loss: 0.37, Test Accuracy: 0.690\n",
      "# Grad/N 4: 0.83 seconds, Loss: 0.36, Test Accuracy: 0.685\n",
      "# Grad/N 5: 1.03 seconds, Loss: 0.36, Test Accuracy: 0.682\n",
      "# Grad/N 6: 1.22 seconds, Loss: 0.36, Test Accuracy: 0.682\n",
      "# Grad/N 7: 1.42 seconds, Loss: 0.36, Test Accuracy: 0.680\n",
      "# Grad/N 8: 1.62 seconds, Loss: 0.35, Test Accuracy: 0.679\n",
      "# Grad/N 9: 1.82 seconds, Loss: 0.35, Test Accuracy: 0.679\n",
      "# Grad/N 10: 2.03 seconds, Loss: 0.35, Test Accuracy: 0.678\n",
      "# Grad/N 11: 2.24 seconds, Loss: 0.35, Test Accuracy: 0.679\n",
      "# Grad/N 12: 2.42 seconds, Loss: 0.35, Test Accuracy: 0.676\n",
      "# Grad/N 13: 2.61 seconds, Loss: 0.35, Test Accuracy: 0.677\n",
      "# Grad/N 14: 2.87 seconds, Loss: 0.35, Test Accuracy: 0.676\n",
      "# Grad/N 15: 3.07 seconds, Loss: 0.35, Test Accuracy: 0.677\n",
      "# Grad/N 16: 3.26 seconds, Loss: 0.35, Test Accuracy: 0.677\n",
      "# Grad/N 17: 3.45 seconds, Loss: 0.35, Test Accuracy: 0.675\n",
      "# Grad/N 18: 3.65 seconds, Loss: 0.35, Test Accuracy: 0.675\n",
      "# Grad/N 19: 3.85 seconds, Loss: 0.35, Test Accuracy: 0.675\n",
      "# Grad/N 20: 4.06 seconds, Loss: 0.35, Test Accuracy: 0.674\n"
     ]
    }
   ],
   "source": [
    "beta = np.copy(beta_init)\n",
    "\n",
    "beta_SGD, record_SGD = train_SGD(train_data, train_label, test_data, test_label, beta_init, 0.01, loss_LR, loss_LR_grad, verbose = 1, n_run=20, mb_size=100)"
   ]
  },
  {
   "cell_type": "code",
   "execution_count": 223,
   "metadata": {},
   "outputs": [],
   "source": [
    "# SAG\n"
   ]
  },
  {
   "cell_type": "code",
   "execution_count": 224,
   "metadata": {},
   "outputs": [],
   "source": [
    "# SVRG\n"
   ]
  },
  {
   "cell_type": "code",
   "execution_count": 225,
   "metadata": {},
   "outputs": [],
   "source": [
    "# SAGA\n"
   ]
  },
  {
   "cell_type": "code",
   "execution_count": 266,
   "metadata": {},
   "outputs": [
    {
     "data": {
      "image/png": "[encoded data removed]",
      "text/plain": [
       "<Figure size 1152x720 with 1 Axes>"
      ]
     },
     "metadata": {
      "needs_background": "light"
     },
     "output_type": "display_data"
    }
   ],
   "source": [
    "record_graph([record_SGD],key='test_acc_#Grad/n')"
   ]
  },
  {
   "cell_type": "code",
   "execution_count": 267,
   "metadata": {},
   "outputs": [
    {
     "data": {
      "image/png": "[encoded data removed]",
      "text/plain": [
       "<Figure size 1152x720 with 1 Axes>"
      ]
     },
     "metadata": {
      "needs_background": "light"
     },
     "output_type": "display_data"
    }
   ],
   "source": [
    "record_graph([record_SGD],key='loss_#Grad/n')"
   ]
  },
  {
   "cell_type": "code",
   "execution_count": null,
   "metadata": {},
   "outputs": [],
   "source": []
  }
 ],
 "metadata": {
  "kernelspec": {
   "display_name": "Python 3",
   "language": "python",
   "name": "python3"
  },
  "language_info": {
   "codemirror_mode": {
    "name": "ipython",
    "version": 3
   },
   "file_extension": ".py",
   "mimetype": "text/x-python",
   "name": "python",
   "nbconvert_exporter": "python",
   "pygments_lexer": "ipython3",
   "version": "3.8.3"
  }
 },
 "nbformat": 4,
 "nbformat_minor": 4
}
