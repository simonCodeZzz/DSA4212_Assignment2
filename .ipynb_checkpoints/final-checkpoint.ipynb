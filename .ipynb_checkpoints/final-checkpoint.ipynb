{
 "cells": [
  {
   "cell_type": "code",
   "execution_count": 2,
   "metadata": {},
   "outputs": [],
   "source": [
    "import sys\n",
    "import os\n",
    "import pandas as pd\n",
    "import gzip\n",
    "import bz2\n",
    "import numpy as np\n",
    "import jax\n",
    "import jax.numpy as jnp\n",
    "import time\n",
    "import pylab as plt\n",
    "\n",
    "from sklearn.model_selection import train_test_split\n",
    "from sklearn.compose import ColumnTransformer\n",
    "from sklearn.preprocessing import StandardScaler\n",
    "from sklearn.preprocessing import OneHotEncoder\n",
    "\n",
    "from jax.config import config\n",
    "config.update(\"jax_enable_x64\", True) # for higher accuracy\n",
    "config.update(\"jax_platform_name\", 'cpu') # use cpu if needed"
   ]
  },
  {
   "cell_type": "markdown",
   "metadata": {
    "jp-MarkdownHeadingCollapsed": true,
    "tags": []
   },
   "source": [
    "## Covtype: https://archive.ics.uci.edu/ml/datasets/covertype"
   ]
  },
  {
   "cell_type": "code",
   "execution_count": 3,
   "metadata": {},
   "outputs": [
    {
     "name": "stdout",
     "output_type": "stream",
     "text": [
      "(581012, 55)\n"
     ]
    }
   ],
   "source": [
    "covtype_path = \"data/covtype.data.gz\"\n",
    "\n",
    "covtype_np = np.loadtxt(covtype_path, delimiter=',')\n",
    "print(covtype_np.shape)"
   ]
  },
  {
   "cell_type": "code",
   "execution_count": 4,
   "metadata": {},
   "outputs": [
    {
     "name": "stdout",
     "output_type": "stream",
     "text": [
      "(581012, 54)\n",
      "(581012, 1)\n"
     ]
    }
   ],
   "source": [
    "covtype_feature = covtype_np[:,:-1]\n",
    "covtype_label = covtype_np[:,-1].reshape(-1,1).astype(int)\n",
    "covtype_label = covtype_label - 1\n",
    "\n",
    "print(covtype_feature.shape)\n",
    "print(covtype_label.shape)"
   ]
  },
  {
   "cell_type": "code",
   "execution_count": 5,
   "metadata": {},
   "outputs": [
    {
     "name": "stdout",
     "output_type": "stream",
     "text": [
      "   0       1\n",
      "0  0  211840\n",
      "1  1  283301\n",
      "2  2   35754\n",
      "3  3    2747\n",
      "4  4    9493\n",
      "5  5   17367\n",
      "6  6   20510\n"
     ]
    }
   ],
   "source": [
    "print(pd.DataFrame(np.unique(covtype_label, return_counts=True)).T)"
   ]
  },
  {
   "cell_type": "code",
   "execution_count": 6,
   "metadata": {},
   "outputs": [],
   "source": [
    "covtype_feature_train, covtype_feature_test, covtype_label_train, covtype_label_test = \\\n",
    "    train_test_split(covtype_feature, covtype_label, random_state=4212)"
   ]
  },
  {
   "cell_type": "code",
   "execution_count": 7,
   "metadata": {},
   "outputs": [
    {
     "name": "stdout",
     "output_type": "stream",
     "text": [
      "(435759, 54)\n",
      "(435759, 1)\n",
      "(145253, 54)\n",
      "(145253, 1)\n"
     ]
    }
   ],
   "source": [
    "print(covtype_feature_train.shape)\n",
    "print(covtype_label_train.shape)\n",
    "print(covtype_feature_test.shape)\n",
    "print(covtype_label_test.shape)"
   ]
  },
  {
   "cell_type": "code",
   "execution_count": 8,
   "metadata": {},
   "outputs": [
    {
     "data": {
      "text/html": [
       "<div>\n",
       "<style scoped>\n",
       "    .dataframe tbody tr th:only-of-type {\n",
       "        vertical-align: middle;\n",
       "    }\n",
       "\n",
       "    .dataframe tbody tr th {\n",
       "        vertical-align: top;\n",
       "    }\n",
       "\n",
       "    .dataframe thead th {\n",
       "        text-align: right;\n",
       "    }\n",
       "</style>\n",
       "<table border=\"1\" class=\"dataframe\">\n",
       "  <thead>\n",
       "    <tr style=\"text-align: right;\">\n",
       "      <th></th>\n",
       "      <th>0</th>\n",
       "      <th>1</th>\n",
       "      <th>2</th>\n",
       "      <th>3</th>\n",
       "      <th>4</th>\n",
       "      <th>5</th>\n",
       "      <th>6</th>\n",
       "      <th>7</th>\n",
       "      <th>8</th>\n",
       "      <th>9</th>\n",
       "    </tr>\n",
       "  </thead>\n",
       "  <tbody>\n",
       "    <tr>\n",
       "      <th>count</th>\n",
       "      <td>581012.000000</td>\n",
       "      <td>581012.000000</td>\n",
       "      <td>581012.000000</td>\n",
       "      <td>581012.000000</td>\n",
       "      <td>581012.000000</td>\n",
       "      <td>581012.000000</td>\n",
       "      <td>581012.000000</td>\n",
       "      <td>581012.000000</td>\n",
       "      <td>581012.000000</td>\n",
       "      <td>581012.000000</td>\n",
       "    </tr>\n",
       "    <tr>\n",
       "      <th>mean</th>\n",
       "      <td>2959.365301</td>\n",
       "      <td>155.656807</td>\n",
       "      <td>14.103704</td>\n",
       "      <td>269.428217</td>\n",
       "      <td>46.418855</td>\n",
       "      <td>2350.146611</td>\n",
       "      <td>212.146049</td>\n",
       "      <td>223.318716</td>\n",
       "      <td>142.528263</td>\n",
       "      <td>1980.291226</td>\n",
       "    </tr>\n",
       "    <tr>\n",
       "      <th>std</th>\n",
       "      <td>279.984734</td>\n",
       "      <td>111.913721</td>\n",
       "      <td>7.488242</td>\n",
       "      <td>212.549356</td>\n",
       "      <td>58.295232</td>\n",
       "      <td>1559.254870</td>\n",
       "      <td>26.769889</td>\n",
       "      <td>19.768697</td>\n",
       "      <td>38.274529</td>\n",
       "      <td>1324.195210</td>\n",
       "    </tr>\n",
       "    <tr>\n",
       "      <th>min</th>\n",
       "      <td>1859.000000</td>\n",
       "      <td>0.000000</td>\n",
       "      <td>0.000000</td>\n",
       "      <td>0.000000</td>\n",
       "      <td>-173.000000</td>\n",
       "      <td>0.000000</td>\n",
       "      <td>0.000000</td>\n",
       "      <td>0.000000</td>\n",
       "      <td>0.000000</td>\n",
       "      <td>0.000000</td>\n",
       "    </tr>\n",
       "    <tr>\n",
       "      <th>25%</th>\n",
       "      <td>2809.000000</td>\n",
       "      <td>58.000000</td>\n",
       "      <td>9.000000</td>\n",
       "      <td>108.000000</td>\n",
       "      <td>7.000000</td>\n",
       "      <td>1106.000000</td>\n",
       "      <td>198.000000</td>\n",
       "      <td>213.000000</td>\n",
       "      <td>119.000000</td>\n",
       "      <td>1024.000000</td>\n",
       "    </tr>\n",
       "    <tr>\n",
       "      <th>50%</th>\n",
       "      <td>2996.000000</td>\n",
       "      <td>127.000000</td>\n",
       "      <td>13.000000</td>\n",
       "      <td>218.000000</td>\n",
       "      <td>30.000000</td>\n",
       "      <td>1997.000000</td>\n",
       "      <td>218.000000</td>\n",
       "      <td>226.000000</td>\n",
       "      <td>143.000000</td>\n",
       "      <td>1710.000000</td>\n",
       "    </tr>\n",
       "    <tr>\n",
       "      <th>75%</th>\n",
       "      <td>3163.000000</td>\n",
       "      <td>260.000000</td>\n",
       "      <td>18.000000</td>\n",
       "      <td>384.000000</td>\n",
       "      <td>69.000000</td>\n",
       "      <td>3328.000000</td>\n",
       "      <td>231.000000</td>\n",
       "      <td>237.000000</td>\n",
       "      <td>168.000000</td>\n",
       "      <td>2550.000000</td>\n",
       "    </tr>\n",
       "    <tr>\n",
       "      <th>max</th>\n",
       "      <td>3858.000000</td>\n",
       "      <td>360.000000</td>\n",
       "      <td>66.000000</td>\n",
       "      <td>1397.000000</td>\n",
       "      <td>601.000000</td>\n",
       "      <td>7117.000000</td>\n",
       "      <td>254.000000</td>\n",
       "      <td>254.000000</td>\n",
       "      <td>254.000000</td>\n",
       "      <td>7173.000000</td>\n",
       "    </tr>\n",
       "  </tbody>\n",
       "</table>\n",
       "</div>"
      ],
      "text/plain": [
       "                   0              1              2              3  \\\n",
       "count  581012.000000  581012.000000  581012.000000  581012.000000   \n",
       "mean     2959.365301     155.656807      14.103704     269.428217   \n",
       "std       279.984734     111.913721       7.488242     212.549356   \n",
       "min      1859.000000       0.000000       0.000000       0.000000   \n",
       "25%      2809.000000      58.000000       9.000000     108.000000   \n",
       "50%      2996.000000     127.000000      13.000000     218.000000   \n",
       "75%      3163.000000     260.000000      18.000000     384.000000   \n",
       "max      3858.000000     360.000000      66.000000    1397.000000   \n",
       "\n",
       "                   4              5              6              7  \\\n",
       "count  581012.000000  581012.000000  581012.000000  581012.000000   \n",
       "mean       46.418855    2350.146611     212.146049     223.318716   \n",
       "std        58.295232    1559.254870      26.769889      19.768697   \n",
       "min      -173.000000       0.000000       0.000000       0.000000   \n",
       "25%         7.000000    1106.000000     198.000000     213.000000   \n",
       "50%        30.000000    1997.000000     218.000000     226.000000   \n",
       "75%        69.000000    3328.000000     231.000000     237.000000   \n",
       "max       601.000000    7117.000000     254.000000     254.000000   \n",
       "\n",
       "                   8              9  \n",
       "count  581012.000000  581012.000000  \n",
       "mean      142.528263    1980.291226  \n",
       "std        38.274529    1324.195210  \n",
       "min         0.000000       0.000000  \n",
       "25%       119.000000    1024.000000  \n",
       "50%       143.000000    1710.000000  \n",
       "75%       168.000000    2550.000000  \n",
       "max       254.000000    7173.000000  "
      ]
     },
     "execution_count": 8,
     "metadata": {},
     "output_type": "execute_result"
    }
   ],
   "source": [
    "covtype_df = pd.DataFrame(covtype_feature)\n",
    "\n",
    "covtype_df.iloc[:,:10].describe()"
   ]
  },
  {
   "cell_type": "code",
   "execution_count": 9,
   "metadata": {},
   "outputs": [
    {
     "name": "stdout",
     "output_type": "stream",
     "text": [
      "(435759, 54)\n",
      "(145253, 54)\n"
     ]
    }
   ],
   "source": [
    "num_attribs = np.arange(0,10,1)\n",
    "cat_attribs = np.arange(10,54,1)\n",
    "\n",
    "full_pipeline = ColumnTransformer([\n",
    "        (\"num\", StandardScaler(), num_attribs),\n",
    "    ],remainder='passthrough')\n",
    "\n",
    "covtype_feature_train_norm = full_pipeline.fit_transform(covtype_feature_train)\n",
    "covtype_feature_test_norm = full_pipeline.transform(covtype_feature_test)\n",
    "print(covtype_feature_train_norm.shape)\n",
    "print(covtype_feature_test_norm.shape)"
   ]
  },
  {
   "cell_type": "markdown",
   "metadata": {
    "jp-MarkdownHeadingCollapsed": true,
    "tags": []
   },
   "source": [
    "## IJCNN https://www.csie.ntu.edu.tw/~cjlin/libsvmtools/datasets/binary.html#ijcnn1"
   ]
  },
  {
   "cell_type": "code",
   "execution_count": 10,
   "metadata": {},
   "outputs": [],
   "source": [
    "from sklearn.datasets import load_svmlight_file\n",
    "\n",
    "filepath = 'data/ijcnn1.tr.bz2'\n",
    "ijcnn_train_data, ijcnn_train_label = load_svmlight_file(filepath)\n",
    "filepath = 'data/ijcnn1.val.bz2'\n",
    "ijcnn_val_data, ijcnn_val_label = load_svmlight_file(filepath)\n",
    "filepath = 'data/ijcnn1.t.bz2'\n",
    "ijcnn_test_data, ijcnn_test_label = load_svmlight_file(filepath)\n",
    "\n",
    "ijcnn_train_data = ijcnn_train_data.toarray()\n",
    "ijcnn_val_data = ijcnn_val_data.toarray()\n",
    "ijcnn_test_data = ijcnn_test_data.toarray()"
   ]
  },
  {
   "cell_type": "code",
   "execution_count": 11,
   "metadata": {},
   "outputs": [],
   "source": [
    "temp = np.concatenate((ijcnn_train_data, ijcnn_val_data))\n",
    "temp_label = np.concatenate((ijcnn_train_label, ijcnn_val_label))\n",
    "ijcnn_train_data = temp\n",
    "ijcnn_train_label = temp_label"
   ]
  },
  {
   "cell_type": "code",
   "execution_count": 12,
   "metadata": {},
   "outputs": [],
   "source": [
    "ijcnn_train_label = ijcnn_train_label.astype(int)\n",
    "ijcnn_test_label = ijcnn_test_label.astype(int)\n",
    "ijcnn_train_label = (ijcnn_train_label+1) // 2\n",
    "ijcnn_test_label = (ijcnn_test_label+1) // 2"
   ]
  },
  {
   "cell_type": "code",
   "execution_count": 13,
   "metadata": {},
   "outputs": [
    {
     "name": "stdout",
     "output_type": "stream",
     "text": [
      "(49990, 22)\n",
      "(49990,)\n",
      "(91701, 22)\n",
      "(91701,)\n"
     ]
    }
   ],
   "source": [
    "print(ijcnn_train_data.shape)\n",
    "print(ijcnn_train_label.shape)\n",
    "print(ijcnn_test_data.shape)\n",
    "print(ijcnn_test_label.shape)"
   ]
  },
  {
   "cell_type": "code",
   "execution_count": 14,
   "metadata": {},
   "outputs": [
    {
     "name": "stdout",
     "output_type": "stream",
     "text": [
      "1.0\n",
      "-0.930435\n"
     ]
    }
   ],
   "source": [
    "print(ijcnn_train_data.max())\n",
    "print(ijcnn_train_data.min())\n",
    "# Already Scaled"
   ]
  },
  {
   "cell_type": "markdown",
   "metadata": {
    "jp-MarkdownHeadingCollapsed": true,
    "tags": []
   },
   "source": [
    "## MNIST: http://yann.lecun.com/exdb/mnist/"
   ]
  },
  {
   "cell_type": "code",
   "execution_count": 15,
   "metadata": {},
   "outputs": [],
   "source": [
    "def training_images():\n",
    "    with gzip.open('data/train-images-idx3-ubyte.gz', 'r') as f:\n",
    "        # first 4 bytes is a magic number\n",
    "        magic_number = int.from_bytes(f.read(4), 'big')\n",
    "        # second 4 bytes is the number of images\n",
    "        image_count = int.from_bytes(f.read(4), 'big')\n",
    "        # third 4 bytes is the row count\n",
    "        row_count = int.from_bytes(f.read(4), 'big')\n",
    "        # fourth 4 bytes is the column count\n",
    "        column_count = int.from_bytes(f.read(4), 'big')\n",
    "        # rest is the image pixel data, each pixel is stored as an unsigned byte\n",
    "        # pixel values are 0 to 255\n",
    "        image_data = f.read()\n",
    "        images = np.frombuffer(image_data, dtype=np.uint8)\\\n",
    "            .reshape((image_count, row_count, column_count))\n",
    "        return images\n",
    "\n",
    "\n",
    "def training_labels():\n",
    "    with gzip.open('data/train-labels-idx1-ubyte.gz', 'r') as f:\n",
    "        # first 4 bytes is a magic number\n",
    "        magic_number = int.from_bytes(f.read(4), 'big')\n",
    "        # second 4 bytes is the number of labels\n",
    "        label_count = int.from_bytes(f.read(4), 'big')\n",
    "        # rest is the label data, each label is stored as unsigned byte\n",
    "        # label values are 0 to 9\n",
    "        label_data = f.read()\n",
    "        labels = np.frombuffer(label_data, dtype=np.uint8)\n",
    "        return labels.reshape(-1,1)\n",
    "    \n",
    "def test_images():\n",
    "    with gzip.open('data/t10k-images-idx3-ubyte.gz', 'r') as f:\n",
    "        # first 4 bytes is a magic number\n",
    "        magic_number = int.from_bytes(f.read(4), 'big')\n",
    "        # second 4 bytes is the number of images\n",
    "        image_count = int.from_bytes(f.read(4), 'big')\n",
    "        # third 4 bytes is the row count\n",
    "        row_count = int.from_bytes(f.read(4), 'big')\n",
    "        # fourth 4 bytes is the column count\n",
    "        column_count = int.from_bytes(f.read(4), 'big')\n",
    "        # rest is the image pixel data, each pixel is stored as an unsigned byte\n",
    "        # pixel values are 0 to 255\n",
    "        image_data = f.read()\n",
    "        images = np.frombuffer(image_data, dtype=np.uint8)\\\n",
    "            .reshape((image_count, row_count, column_count))\n",
    "        return images\n",
    "\n",
    "\n",
    "def test_labels():\n",
    "    with gzip.open('data/t10k-labels-idx1-ubyte.gz', 'r') as f:\n",
    "        # first 4 bytes is a magic number\n",
    "        magic_number = int.from_bytes(f.read(4), 'big')\n",
    "        # second 4 bytes is the number of labels\n",
    "        label_count = int.from_bytes(f.read(4), 'big')\n",
    "        # rest is the label data, each label is stored as unsigned byte\n",
    "        # label values are 0 to 9\n",
    "        label_data = f.read()\n",
    "        labels = np.frombuffer(label_data, dtype=np.uint8)\n",
    "        return labels.reshape(-1,1)"
   ]
  },
  {
   "cell_type": "code",
   "execution_count": 16,
   "metadata": {},
   "outputs": [
    {
     "name": "stdout",
     "output_type": "stream",
     "text": [
      "(60000, 28, 28)\n",
      "(60000, 1)\n"
     ]
    }
   ],
   "source": [
    "mnist_train_images = training_images()\n",
    "mnist_train_labels = training_labels()\n",
    "print(mnist_train_images.shape)\n",
    "print(mnist_train_labels.shape)"
   ]
  },
  {
   "cell_type": "code",
   "execution_count": 17,
   "metadata": {},
   "outputs": [
    {
     "name": "stdout",
     "output_type": "stream",
     "text": [
      "(10000, 28, 28)\n",
      "(10000, 1)\n"
     ]
    }
   ],
   "source": [
    "mnist_test_images = test_images()\n",
    "mnist_test_labels = test_labels()\n",
    "print(mnist_test_images.shape)\n",
    "print(mnist_test_labels.shape)"
   ]
  },
  {
   "cell_type": "code",
   "execution_count": 18,
   "metadata": {},
   "outputs": [
    {
     "name": "stdout",
     "output_type": "stream",
     "text": [
      "   0     1\n",
      "0  0  5923\n",
      "1  1  6742\n",
      "2  2  5958\n",
      "3  3  6131\n",
      "4  4  5842\n",
      "5  5  5421\n",
      "6  6  5918\n",
      "7  7  6265\n",
      "8  8  5851\n",
      "9  9  5949\n"
     ]
    }
   ],
   "source": [
    "print(pd.DataFrame(np.unique(mnist_train_labels, return_counts=True)).T)"
   ]
  },
  {
   "cell_type": "code",
   "execution_count": 19,
   "metadata": {},
   "outputs": [
    {
     "name": "stdout",
     "output_type": "stream",
     "text": [
      "255\n",
      "255\n"
     ]
    }
   ],
   "source": [
    "print(np.max(mnist_train_images))\n",
    "print(np.max(mnist_test_images))"
   ]
  },
  {
   "cell_type": "code",
   "execution_count": 20,
   "metadata": {},
   "outputs": [],
   "source": [
    "mnist_train_images = mnist_train_images / 255.\n",
    "mnist_test_images = mnist_test_images / 255."
   ]
  },
  {
   "cell_type": "markdown",
   "metadata": {
    "jp-MarkdownHeadingCollapsed": true,
    "tags": []
   },
   "source": [
    "## Adult: https://archive.ics.uci.edu/ml/datasets/adult"
   ]
  },
  {
   "cell_type": "code",
   "execution_count": 21,
   "metadata": {},
   "outputs": [],
   "source": [
    "## Need further data cleaning & manipulating\n",
    "\n",
    "adult_train = \"data/adult.data\"\n",
    "adult_test = \"data/adult.test\"\n",
    "adult_train_df = pd.read_csv(adult_train, header=None)\n",
    "adult_test_df = pd.read_csv(adult_test, index_col=None)\n",
    "adult_test_df = adult_test_df.reset_index()"
   ]
  },
  {
   "cell_type": "code",
   "execution_count": 22,
   "metadata": {},
   "outputs": [],
   "source": [
    "adult_col_names = ['age','workclass', 'fnlwgt', 'education', 'education-num', 'marital-status', 'occupation','relationship','race','sex','capital-gain','capital-loss', 'hours-per-week','native-country', 'salary']\n",
    "adult_train_df.columns = adult_col_names\n",
    "adult_test_df.columns = adult_col_names"
   ]
  },
  {
   "cell_type": "code",
   "execution_count": 23,
   "metadata": {},
   "outputs": [],
   "source": [
    "adult_feature_train = adult_train_df.iloc[:,:-1] \n",
    "adult_label_train = adult_train_df.iloc[:,-1]\n",
    "adult_feature_test = adult_test_df.iloc[:,:-1]\n",
    "adult_label_test = adult_test_df.iloc[:,-1]"
   ]
  },
  {
   "cell_type": "code",
   "execution_count": 24,
   "metadata": {},
   "outputs": [
    {
     "name": "stdout",
     "output_type": "stream",
     "text": [
      "(32561, 14)\n",
      "(32561,)\n",
      "(16281, 14)\n",
      "(16281,)\n"
     ]
    }
   ],
   "source": [
    "print(adult_feature_train.shape)\n",
    "print(adult_label_train.shape)\n",
    "print(adult_feature_test.shape)\n",
    "print(adult_label_test.shape)"
   ]
  },
  {
   "cell_type": "code",
   "execution_count": 25,
   "metadata": {},
   "outputs": [
    {
     "data": {
      "text/html": [
       "<div>\n",
       "<style scoped>\n",
       "    .dataframe tbody tr th:only-of-type {\n",
       "        vertical-align: middle;\n",
       "    }\n",
       "\n",
       "    .dataframe tbody tr th {\n",
       "        vertical-align: top;\n",
       "    }\n",
       "\n",
       "    .dataframe thead th {\n",
       "        text-align: right;\n",
       "    }\n",
       "</style>\n",
       "<table border=\"1\" class=\"dataframe\">\n",
       "  <thead>\n",
       "    <tr style=\"text-align: right;\">\n",
       "      <th></th>\n",
       "      <th>age</th>\n",
       "      <th>workclass</th>\n",
       "      <th>fnlwgt</th>\n",
       "      <th>education</th>\n",
       "      <th>education-num</th>\n",
       "      <th>marital-status</th>\n",
       "      <th>occupation</th>\n",
       "      <th>relationship</th>\n",
       "      <th>race</th>\n",
       "      <th>sex</th>\n",
       "      <th>capital-gain</th>\n",
       "      <th>capital-loss</th>\n",
       "      <th>hours-per-week</th>\n",
       "      <th>native-country</th>\n",
       "    </tr>\n",
       "  </thead>\n",
       "  <tbody>\n",
       "    <tr>\n",
       "      <th>0</th>\n",
       "      <td>39</td>\n",
       "      <td>State-gov</td>\n",
       "      <td>77516</td>\n",
       "      <td>Bachelors</td>\n",
       "      <td>13</td>\n",
       "      <td>Never-married</td>\n",
       "      <td>Adm-clerical</td>\n",
       "      <td>Not-in-family</td>\n",
       "      <td>White</td>\n",
       "      <td>Male</td>\n",
       "      <td>2174</td>\n",
       "      <td>0</td>\n",
       "      <td>40</td>\n",
       "      <td>United-States</td>\n",
       "    </tr>\n",
       "    <tr>\n",
       "      <th>1</th>\n",
       "      <td>50</td>\n",
       "      <td>Self-emp-not-inc</td>\n",
       "      <td>83311</td>\n",
       "      <td>Bachelors</td>\n",
       "      <td>13</td>\n",
       "      <td>Married-civ-spouse</td>\n",
       "      <td>Exec-managerial</td>\n",
       "      <td>Husband</td>\n",
       "      <td>White</td>\n",
       "      <td>Male</td>\n",
       "      <td>0</td>\n",
       "      <td>0</td>\n",
       "      <td>13</td>\n",
       "      <td>United-States</td>\n",
       "    </tr>\n",
       "    <tr>\n",
       "      <th>2</th>\n",
       "      <td>38</td>\n",
       "      <td>Private</td>\n",
       "      <td>215646</td>\n",
       "      <td>HS-grad</td>\n",
       "      <td>9</td>\n",
       "      <td>Divorced</td>\n",
       "      <td>Handlers-cleaners</td>\n",
       "      <td>Not-in-family</td>\n",
       "      <td>White</td>\n",
       "      <td>Male</td>\n",
       "      <td>0</td>\n",
       "      <td>0</td>\n",
       "      <td>40</td>\n",
       "      <td>United-States</td>\n",
       "    </tr>\n",
       "    <tr>\n",
       "      <th>3</th>\n",
       "      <td>53</td>\n",
       "      <td>Private</td>\n",
       "      <td>234721</td>\n",
       "      <td>11th</td>\n",
       "      <td>7</td>\n",
       "      <td>Married-civ-spouse</td>\n",
       "      <td>Handlers-cleaners</td>\n",
       "      <td>Husband</td>\n",
       "      <td>Black</td>\n",
       "      <td>Male</td>\n",
       "      <td>0</td>\n",
       "      <td>0</td>\n",
       "      <td>40</td>\n",
       "      <td>United-States</td>\n",
       "    </tr>\n",
       "    <tr>\n",
       "      <th>4</th>\n",
       "      <td>28</td>\n",
       "      <td>Private</td>\n",
       "      <td>338409</td>\n",
       "      <td>Bachelors</td>\n",
       "      <td>13</td>\n",
       "      <td>Married-civ-spouse</td>\n",
       "      <td>Prof-specialty</td>\n",
       "      <td>Wife</td>\n",
       "      <td>Black</td>\n",
       "      <td>Female</td>\n",
       "      <td>0</td>\n",
       "      <td>0</td>\n",
       "      <td>40</td>\n",
       "      <td>Cuba</td>\n",
       "    </tr>\n",
       "  </tbody>\n",
       "</table>\n",
       "</div>"
      ],
      "text/plain": [
       "   age          workclass  fnlwgt   education  education-num  \\\n",
       "0   39          State-gov   77516   Bachelors             13   \n",
       "1   50   Self-emp-not-inc   83311   Bachelors             13   \n",
       "2   38            Private  215646     HS-grad              9   \n",
       "3   53            Private  234721        11th              7   \n",
       "4   28            Private  338409   Bachelors             13   \n",
       "\n",
       "        marital-status          occupation    relationship    race      sex  \\\n",
       "0        Never-married        Adm-clerical   Not-in-family   White     Male   \n",
       "1   Married-civ-spouse     Exec-managerial         Husband   White     Male   \n",
       "2             Divorced   Handlers-cleaners   Not-in-family   White     Male   \n",
       "3   Married-civ-spouse   Handlers-cleaners         Husband   Black     Male   \n",
       "4   Married-civ-spouse      Prof-specialty            Wife   Black   Female   \n",
       "\n",
       "   capital-gain  capital-loss  hours-per-week  native-country  \n",
       "0          2174             0              40   United-States  \n",
       "1             0             0              13   United-States  \n",
       "2             0             0              40   United-States  \n",
       "3             0             0              40   United-States  \n",
       "4             0             0              40            Cuba  "
      ]
     },
     "execution_count": 25,
     "metadata": {},
     "output_type": "execute_result"
    }
   ],
   "source": [
    "adult_feature_train.head()"
   ]
  },
  {
   "cell_type": "code",
   "execution_count": 26,
   "metadata": {},
   "outputs": [
    {
     "name": "stdout",
     "output_type": "stream",
     "text": [
      "        0      1\n",
      "0   <=50K  24720\n",
      "1    >50K   7841\n",
      "         0      1\n",
      "0   <=50K.  12435\n",
      "1    >50K.   3846\n"
     ]
    }
   ],
   "source": [
    "print(pd.DataFrame(np.unique(adult_label_train, return_counts=True)).T)\n",
    "print(pd.DataFrame(np.unique(adult_label_test, return_counts=True)).T)"
   ]
  },
  {
   "cell_type": "code",
   "execution_count": 27,
   "metadata": {},
   "outputs": [
    {
     "name": "stdout",
     "output_type": "stream",
     "text": [
      "<class 'pandas.core.frame.DataFrame'>\n",
      "RangeIndex: 32561 entries, 0 to 32560\n",
      "Data columns (total 14 columns):\n",
      " #   Column          Non-Null Count  Dtype \n",
      "---  ------          --------------  ----- \n",
      " 0   age             32561 non-null  int64 \n",
      " 1   workclass       32561 non-null  object\n",
      " 2   fnlwgt          32561 non-null  int64 \n",
      " 3   education       32561 non-null  object\n",
      " 4   education-num   32561 non-null  int64 \n",
      " 5   marital-status  32561 non-null  object\n",
      " 6   occupation      32561 non-null  object\n",
      " 7   relationship    32561 non-null  object\n",
      " 8   race            32561 non-null  object\n",
      " 9   sex             32561 non-null  object\n",
      " 10  capital-gain    32561 non-null  int64 \n",
      " 11  capital-loss    32561 non-null  int64 \n",
      " 12  hours-per-week  32561 non-null  int64 \n",
      " 13  native-country  32561 non-null  object\n",
      "dtypes: int64(6), object(8)\n",
      "memory usage: 3.5+ MB\n"
     ]
    }
   ],
   "source": [
    "adult_feature_train.info()"
   ]
  },
  {
   "cell_type": "code",
   "execution_count": 28,
   "metadata": {},
   "outputs": [
    {
     "name": "stdout",
     "output_type": "stream",
     "text": [
      "Index(['age', 'fnlwgt', 'education-num', 'capital-gain', 'capital-loss',\n",
      "       'hours-per-week'],\n",
      "      dtype='object')\n",
      "Index(['workclass', 'education', 'marital-status', 'occupation',\n",
      "       'relationship', 'race', 'sex', 'native-country'],\n",
      "      dtype='object')\n"
     ]
    }
   ],
   "source": [
    "num_attribs = adult_feature_train.columns[adult_feature_train.dtypes == 'int64']\n",
    "cat_attribs = adult_feature_train.columns[adult_feature_train.dtypes == 'object']\n",
    "print(num_attribs)\n",
    "print(cat_attribs)"
   ]
  },
  {
   "cell_type": "code",
   "execution_count": 29,
   "metadata": {},
   "outputs": [
    {
     "name": "stdout",
     "output_type": "stream",
     "text": [
      "(32561, 108)\n",
      "(16281, 108)\n"
     ]
    }
   ],
   "source": [
    "num_attribs = adult_feature_train.columns[adult_feature_train.dtypes == 'int64']\n",
    "cat_attribs = adult_feature_train.columns[adult_feature_train.dtypes == 'object']\n",
    "\n",
    "full_pipeline = ColumnTransformer([\n",
    "        (\"num\", StandardScaler(), num_attribs),\n",
    "        (\"cat\", OneHotEncoder(), cat_attribs)\n",
    "    ])\n",
    "\n",
    "adult_feature_train_norm = full_pipeline.fit_transform(adult_feature_train)\n",
    "adult_feature_train_norm = adult_feature_train_norm.toarray()\n",
    "adult_feature_test_norm = full_pipeline.transform(adult_feature_test)\n",
    "adult_feature_test_norm = adult_feature_test_norm.toarray()\n",
    "\n",
    "print(adult_feature_train_norm.shape)\n",
    "print(adult_feature_test_norm.shape)"
   ]
  },
  {
   "cell_type": "code",
   "execution_count": 30,
   "metadata": {},
   "outputs": [
    {
     "name": "stdout",
     "output_type": "stream",
     "text": [
      "   0      1\n",
      "0  0  24720\n",
      "1  1   7841\n",
      "   0      1\n",
      "0  0  12435\n",
      "1  1   3846\n"
     ]
    }
   ],
   "source": [
    "n_train = adult_label_train.shape[0]\n",
    "n_test = adult_label_test.shape[0]\n",
    "adult_label_train_bi = np.zeros(n_train)\n",
    "adult_label_test_bi = np.zeros(n_test)\n",
    "\n",
    "adult_label_train_bi[adult_label_train == adult_label_train.unique()[1]] = 1\n",
    "adult_label_test_bi[adult_label_test == adult_label_test.unique()[1]] = 1\n",
    "adult_label_train_bi = adult_label_train_bi.astype(int)\n",
    "adult_label_test_bi = adult_label_test_bi.astype(int)\n",
    "print(pd.DataFrame(np.unique(adult_label_train_bi, return_counts=True)).T)\n",
    "print(pd.DataFrame(np.unique(adult_label_test_bi, return_counts=True)).T)"
   ]
  },
  {
   "cell_type": "markdown",
   "metadata": {
    "tags": []
   },
   "source": [
    "# Utility Functions"
   ]
  },
  {
   "cell_type": "markdown",
   "metadata": {
    "jp-MarkdownHeadingCollapsed": true,
    "tags": []
   },
   "source": [
    "## Common Utility"
   ]
  },
  {
   "cell_type": "code",
   "execution_count": 31,
   "metadata": {},
   "outputs": [],
   "source": [
    "@jax.jit\n",
    "def pred_proba(beta, x):\n",
    "    \"\"\" predict the probability vector of x belonging to each class \"\"\"\n",
    "    scores = beta@x\n",
    "    return jnp.exp(scores) / jnp.sum(jnp.exp(scores))\n",
    "\n",
    "pred_proba_batch = jax.vmap(pred_proba, in_axes=(None, 0)) # Vectorize Predict Function"
   ]
  },
  {
   "cell_type": "code",
   "execution_count": 32,
   "metadata": {},
   "outputs": [],
   "source": [
    "@jax.jit\n",
    "def get_label(p):\n",
    "    pred_label = jnp.argmax(p)\n",
    "    return pred_label\n",
    "\n",
    "def get_label_batch(P):\n",
    "    labels = jax.vmap(get_label,in_axes=[0])(P)\n",
    "    return labels.reshape(-1,1)\n",
    "# get_label_batch = jax.vmap(get_label,in_axes=[0])\n",
    "\n",
    "def get_accuracy(pred_labels, Y):\n",
    "    \"\"\" Compare the predicted probability (p) with the ground truth labels (Y) to get the accuracy \"\"\"\n",
    "    return jnp.mean(Y==pred_labels)\n",
    "\n",
    "def test_acc(beta,test_label, test_data):\n",
    "    # Memory Problem\n",
    "    N = test_label.shape[0]\n",
    "    bs = 100\n",
    "    \n",
    "    running_acc=0\n",
    "    n_mb=0\n",
    "    \n",
    "    for i in range(0,N,bs):\n",
    "        mb_data = test_data[i:i+bs]\n",
    "        mb_label = test_label[i:i+bs]\n",
    "        \n",
    "        mb_pred = pred_proba_batch(beta, mb_data)\n",
    "        mb_pred_labels = get_label_batch(mb_pred)\n",
    "        mb_acc = get_accuracy(mb_pred_labels, mb_label)\n",
    "        \n",
    "        running_acc += mb_acc\n",
    "        n_mb += 1\n",
    "    \n",
    "    # test_acc = jnp.dot(running_acc, batch_sizes) / jnp.sum(batch_sizes)\n",
    "    test_acc = running_acc / n_mb\n",
    "        \n",
    "    # test_pred = pred_proba_batch(beta, test_data)\n",
    "    # test_acc = get_accuracy(test_pred, Y_true)\n",
    "    return test_acc"
   ]
  },
  {
   "cell_type": "markdown",
   "metadata": {
    "tags": []
   },
   "source": [
    "## Graph Plotting"
   ]
  },
  {
   "cell_type": "code",
   "execution_count": 94,
   "metadata": {
    "tags": []
   },
   "outputs": [],
   "source": [
    "def record_graph(record_list, key='test_acc_epoch', title=\"Summary of Results\", alpha=0.6, n = None):\n",
    "    \"\"\"\n",
    "    Plot graph of records in the list\n",
    "    \n",
    "    Args:\n",
    "     record_list: List of record (dictionary) as returned by model training functions\n",
    "     key: Performance metric to be plotted\n",
    "     n: Number of results to be plotted, full results will be plotted if None\n",
    "     \n",
    "    Output:\n",
    "     Multiple lines of the record on the same graph\n",
    "    \"\"\"\n",
    "    keys = record_list[0].keys()\n",
    "    if key not in keys:\n",
    "        print(f'{key} is an invalid key!')\n",
    "        print(f'Please enter one of the following: {keys}')\n",
    "        \n",
    "    plt.figure(figsize=(16,10))\n",
    "        \n",
    "    for record in record_list:\n",
    "        if n == None:\n",
    "            n = len(record.get(key))\n",
    "        y = record.get(key)[:n]\n",
    "        x = np.arange(1,n+1)\n",
    "\n",
    "        labels = record.get('name')\n",
    "        # if 'var' in key:\n",
    "        #     labels = [\"grad_\" + str(i) for i in range(y[0].shape[0])]\n",
    "            \n",
    "        plt.plot(x,\n",
    "                 y, \n",
    "                 \"-.\",\n",
    "                 alpha=alpha,\n",
    "                 label=labels)\n",
    "        plt.xticks(range(1,n+1))\n",
    "    \n",
    "    plt.legend()\n",
    "    plt.xlabel(f'{key}'.split('_')[-1])\n",
    "    plt.ylabel(' '.join(f'{key}'.split('_')[:-1]))\n",
    "    plt.grid(True)\n",
    "    plt.title(title)"
   ]
  },
  {
   "cell_type": "markdown",
   "metadata": {
    "jp-MarkdownHeadingCollapsed": true,
    "tags": []
   },
   "source": [
    "## Multi-Class Logistic Regression"
   ]
  },
  {
   "cell_type": "code",
   "execution_count": 34,
   "metadata": {},
   "outputs": [],
   "source": [
    "# Multi-Class Logistic Regression Loss\n",
    "@jax.jit\n",
    "def loss_single(beta, x, y):\n",
    "    \"\"\"\n",
    "     Loss of a single data in multi-class Logistic Regression\n",
    "    input:\n",
    "     beta: Model parameters of shape [n, p], n = number of classes for label, p = dimension of features\n",
    "     x: feature variables of shape p\n",
    "     y: label, a single number indicating which class the data belongs to \n",
    "    \"\"\"\n",
    "    scores = beta@x\n",
    "    scores = jnp.exp(scores) / jnp.sum(jnp.exp(scores)) # Softmax\n",
    "    \n",
    "    # scores = jax.nn.softmax(scores) # Softmax\n",
    "    loss = -jnp.log(scores[y]) # Negative Loglikelihood of True Class\n",
    "    return loss\n",
    "    \n",
    "loss_batch = jax.vmap(loss_single,in_axes=[None, 0, 0]) # Vectorize\n",
    "\n",
    "def loss_LR(beta, X, Y):\n",
    "    return jnp.mean(loss_batch(beta, X, Y))\n",
    "\n",
    "def loss_LR_single(beta, x, y):\n",
    "    loss = loss_single(beta, x, y)\n",
    "    if loss.shape == ():\n",
    "        return loss\n",
    "    return loss[0]"
   ]
  },
  {
   "cell_type": "code",
   "execution_count": 35,
   "metadata": {},
   "outputs": [],
   "source": [
    "# compute derivates\n",
    "loss_LR_grad = jax.jit(jax.grad(loss_LR, argnums=0))\n",
    "loss_LR_values_and_grad = jax.jit(jax.value_and_grad(loss_LR, argnums=0))\n",
    "\n",
    "loss_LR_single_grad = jax.jit(jax.grad(loss_LR_single, argnums=0))\n",
    "loss_LR_single_values_and_grad = jax.jit(jax.value_and_grad(loss_LR_single, argnums=0))"
   ]
  },
  {
   "cell_type": "markdown",
   "metadata": {
    "jp-MarkdownHeadingCollapsed": true,
    "tags": []
   },
   "source": [
    "### Testing Grad Var Calculation"
   ]
  },
  {
   "cell_type": "code",
   "execution_count": 36,
   "metadata": {
    "tags": []
   },
   "outputs": [],
   "source": [
    "sum_grad_norm = jnp.zeros(7)\n",
    "sum_grad_norm_2 = jnp.zeros(7)"
   ]
  },
  {
   "cell_type": "code",
   "execution_count": 37,
   "metadata": {
    "tags": []
   },
   "outputs": [
    {
     "name": "stdout",
     "output_type": "stream",
     "text": [
      "[0. 0. 0. 0. 0. 0. 0.]\n",
      "[0. 0. 0. 0. 0. 0. 0.]\n"
     ]
    }
   ],
   "source": [
    "print(sum_grad_norm_2)\n",
    "print(sum_grad_norm)"
   ]
  },
  {
   "cell_type": "code",
   "execution_count": 38,
   "metadata": {
    "tags": []
   },
   "outputs": [
    {
     "name": "stdout",
     "output_type": "stream",
     "text": [
      "(7, 54)\n",
      "(7, 54)\n"
     ]
    }
   ],
   "source": [
    "n_features = 54\n",
    "n_classes = 7\n",
    "np.random.seed(4212)\n",
    "\n",
    "beta_init = np.random.normal(0,np.sqrt(1/(n_features)), size=[n_classes, n_features])\n",
    "\n",
    "_, grad1 = loss_LR_values_and_grad(beta_init, covtype_feature_train_norm[:1000], covtype_label_train[:1000])\n",
    "_, grad2 = loss_LR_values_and_grad(beta_init, covtype_feature_train_norm[1000:2000], covtype_label_train[1000:2000])\n",
    "print(grad1.shape)\n",
    "print(grad2.shape)"
   ]
  },
  {
   "cell_type": "code",
   "execution_count": 39,
   "metadata": {
    "tags": []
   },
   "outputs": [
    {
     "data": {
      "text/plain": [
       "DeviceArray(0.55375939, dtype=float64)"
      ]
     },
     "execution_count": 39,
     "metadata": {},
     "output_type": "execute_result"
    }
   ],
   "source": [
    "jnp.linalg.norm(grad1,axis=None)"
   ]
  },
  {
   "cell_type": "code",
   "execution_count": 40,
   "metadata": {
    "tags": []
   },
   "outputs": [
    {
     "name": "stdout",
     "output_type": "stream",
     "text": [
      "[0.29108549 0.33604223 0.20581408 0.12155367 0.1223784  0.12196509\n",
      " 0.14834969]\n",
      "[0.08473076 0.11292438 0.04235944 0.01477529 0.01497647 0.01487548\n",
      " 0.02200763]\n",
      "[0.29108549 0.33604223 0.20581408 0.12155367 0.1223784  0.12196509\n",
      " 0.14834969]\n"
     ]
    }
   ],
   "source": [
    "new_grad_norm = jnp.linalg.norm(grad1,axis=1)\n",
    "sum_grad_norm_2 += new_grad_norm**2\n",
    "sum_grad_norm += new_grad_norm\n",
    "print(new_grad_norm)\n",
    "print(sum_grad_norm_2)\n",
    "print(sum_grad_norm)"
   ]
  },
  {
   "cell_type": "code",
   "execution_count": 41,
   "metadata": {
    "tags": []
   },
   "outputs": [
    {
     "name": "stdout",
     "output_type": "stream",
     "text": [
      "[0.2976537  0.32411074 0.20028993 0.12812022 0.12245059 0.13217107\n",
      " 0.12537301]\n",
      "[0.17332849 0.21797215 0.08247549 0.03119009 0.02997062 0.03234467\n",
      " 0.03772602]\n",
      "[0.58873919 0.66015297 0.40610402 0.24967389 0.24482899 0.25413615\n",
      " 0.2737227 ]\n"
     ]
    }
   ],
   "source": [
    "new_grad_norm = jnp.linalg.norm(grad2,axis=1)\n",
    "sum_grad_norm_2 += new_grad_norm**2\n",
    "sum_grad_norm += new_grad_norm\n",
    "print(new_grad_norm)\n",
    "print(sum_grad_norm_2)\n",
    "print(sum_grad_norm)"
   ]
  },
  {
   "cell_type": "code",
   "execution_count": 42,
   "metadata": {
    "tags": []
   },
   "outputs": [
    {
     "name": "stdout",
     "output_type": "stream",
     "text": [
      "[1.07853212e-05 3.55901184e-05 7.62905401e-06 1.07799102e-05\n",
      " 1.30266153e-09 2.60404961e-05 1.31982017e-04]\n"
     ]
    }
   ],
   "source": [
    "n_update = 2\n",
    "new_grad_var = sum_grad_norm_2 / n_update - (sum_grad_norm / n_update)**2\n",
    "print(new_grad_var)"
   ]
  },
  {
   "cell_type": "markdown",
   "metadata": {
    "tags": []
   },
   "source": [
    "# SGD Algos"
   ]
  },
  {
   "cell_type": "markdown",
   "metadata": {
    "jp-MarkdownHeadingCollapsed": true,
    "tags": []
   },
   "source": [
    "## 1. Basic SGD"
   ]
  },
  {
   "cell_type": "markdown",
   "metadata": {},
   "source": [
    "To calculate variance of gradient estimates: https://stats.stackexchange.com/questions/244352/variance-of-gradient-as-e-g-in-sgd"
   ]
  },
  {
   "cell_type": "code",
   "execution_count": 43,
   "metadata": {},
   "outputs": [],
   "source": [
    "def train_SGD_single(train_data, train_label, beta_init, lr, loss_fn, grad_fn, verbose = 0, n_run=20, random_state=4212):\n",
    "    \"\"\"\n",
    "     Find optimized beta given train images and train labels using Stochastic Gradient Descent (SGD) with Single Data per update of gradient\n",
    "     \n",
    "    Inputs:\n",
    "     train_img: Training images (in the format of [n,:] array, where n is the number of images)\n",
    "     train_label: Training labels (in the format of [n, 1] array, where n is the number of labels)\n",
    "     beta: Starting point of beta (weights)\n",
    "     lr: Learning rate\n",
    "     loss_fn: Function to return the loss value\n",
    "     grad_fn: Function to return the gradient\n",
    "     verbose: Print time elapsed, training loss and test accuracy for each epoch if verbose = 1, default 0\n",
    "     n_run: Number of computation of gradient / n, default 100\n",
    "     \n",
    "    Outputs:\n",
    "     beta: The final updated values of beta\n",
    "     record: A dictionary of performance during training, including 'loss_update', 'test_acc_update', 'grad_var_update'\n",
    "    \"\"\"\n",
    "    N = len(train_data)  # total number of data\n",
    "    img_indices = np.arange(N)\n",
    "\n",
    "    loss_history_n = []\n",
    "    grad_var = []\n",
    "    \n",
    "    beta = np.copy(beta_init)\n",
    "    learning_rate = lr\n",
    "    \n",
    "    # Calc norm for each set of beta\n",
    "    # n_grad = beta_init.shape[0]\n",
    "    # sum_grad_norm_2 = jnp.zeros(n_grad)\n",
    "    # sum_grad_norm = jnp.zeros(n_grad)\n",
    "    \n",
    "    sum_grad_norm_2 = 0\n",
    "    sum_grad_norm = 0\n",
    "    n_update = 0\n",
    "    \n",
    "    np.random.seed(random_state)\n",
    "\n",
    "    start = time.time()\n",
    "    for run in range(n_run*N):\n",
    "        # randomize the batches\n",
    "        idx = np.random.randint(0,N)\n",
    "\n",
    "        X = train_data[idx]\n",
    "        Y = train_label[idx]\n",
    "\n",
    "        # compute the stochastic gradient\n",
    "        grad = grad_fn(beta, X, Y)\n",
    "\n",
    "        # compute the variance of gradient E(||g||^2) - E(||g||)^2\n",
    "        # new_grad_norm = jnp.linalg.norm(grad,axis=1) # Calc norm for each set of beta\n",
    "\n",
    "        # new_grad_norm = jnp.linalg.norm(grad,axis=None)\n",
    "        # sum_grad_norm_2 += new_grad_norm**2\n",
    "        # sum_grad_norm += new_grad_norm\n",
    "        # n_update += 1\n",
    "        # new_grad_var = sum_grad_norm_2 / n_update - (sum_grad_norm / n_update)**2\n",
    "        # grad_var.append(new_grad_var)\n",
    "\n",
    "        # do one step of SGD\n",
    "        beta = beta - learning_rate*grad\n",
    "            \n",
    "        if (run+1)%N==0:\n",
    "            loss = loss_fn(beta, train_data, train_label)\n",
    "            loss_history_n.append(loss)\n",
    "            if verbose == 1:\n",
    "                end = time.time()\n",
    "                duration = end - start\n",
    "                print(f\"# Grad/N {(run+1)//N}: {duration:.2f} seconds, Loss: {loss:.2f}\")\n",
    "            \n",
    "    record = {'name': \"SGD\",\n",
    "              'loss_#Grad/n': loss_history_n}\n",
    "    \n",
    "    return beta, record"
   ]
  },
  {
   "cell_type": "code",
   "execution_count": 44,
   "metadata": {},
   "outputs": [],
   "source": [
    "def train_SGD(train_data, train_label, test_data, test_label, beta_init, lr, loss_fn, grad_fn, verbose = 0, n_run=20, mb_size=100, random_state=4212):\n",
    "    \"\"\"\n",
    "     Find optimized beta given train images and train labels using Stochastic Gradient Descent (SGD)\n",
    "     \n",
    "    Inputs:\n",
    "     train_img: Training images (in the format of [n,:] array, where n is the number of images)\n",
    "     train_label: Training labels (in the format of [n, 1] array, where n is the number of labels)\n",
    "     beta: Starting point of beta (weights)\n",
    "     lr: Learning rate\n",
    "     loss_fn: Function to return the loss value\n",
    "     grad_fn: Function to return the gradient\n",
    "     verbose: Print time elapsed, training loss and test accuracy for each epoch if verbose = 1, default 0\n",
    "     n_run: Number of computation of gradient / n, default 100\n",
    "     mb_size: Minibatch size, default 100\n",
    "     \n",
    "    Outputs:\n",
    "     beta: The final updated values of beta\n",
    "     record: A dictionary of performance during training, including 'loss_epoch', 'loss_mb', 'test_acc_epoch', 'test_acc_mb', 'grad_var,mb'\n",
    "    \"\"\"\n",
    "    minibatch_size = mb_size #size of the minibatchs\n",
    "    N = len(train_data) // minibatch_size + 1  #total number of minibatches\n",
    "    img_indices = np.arange(len(train_data))\n",
    "\n",
    "    loss_history_n = []\n",
    "    test_acc_history_n = []\n",
    "    grad_var = []\n",
    "    \n",
    "    beta = np.copy(beta_init)\n",
    "    learning_rate = lr\n",
    "    \n",
    "    # Calc norm for each set of beta\n",
    "    # n_grad = beta_init.shape[0]\n",
    "    # sum_grad_norm_2 = jnp.zeros(n_grad)\n",
    "    # sum_grad_norm = jnp.zeros(n_grad)\n",
    "    \n",
    "    sum_grad_norm_2 = 0\n",
    "    sum_grad_norm = 0\n",
    "    n_update = 0\n",
    "    \n",
    "    np.random.seed(random_state)\n",
    "\n",
    "    start = time.time()\n",
    "    for run in range(n_run*N):\n",
    "\n",
    "        # all_loss_within_epoch = []\n",
    "        # all_acc_within_epoch = []\n",
    "        # for k in range(n_minibatch):\n",
    "            # create the minibatch of examples\n",
    "            \n",
    "        k = np.random.randint(0, N) # which minibatch to use\n",
    "        batch_indices = np.arange(k*minibatch_size, (k+1)*minibatch_size) % len(train_data)\n",
    "        batch_indices = img_indices[batch_indices]\n",
    "\n",
    "        X_minibatch = train_data[batch_indices]\n",
    "        Y_minibatch = train_label[batch_indices]\n",
    "\n",
    "        # compute the stochastic gradient\n",
    "        grad = grad_fn(beta, X_minibatch, Y_minibatch)\n",
    "\n",
    "        # compute the variance of gradient E(||g||^2) - E(||g||)^2\n",
    "        # new_grad_norm = jnp.linalg.norm(grad,axis=1) # Calc norm for each set of beta\n",
    "\n",
    "        # new_grad_norm = jnp.linalg.norm(grad,axis=None)\n",
    "        # sum_grad_norm_2 += new_grad_norm**2\n",
    "        # sum_grad_norm += new_grad_norm\n",
    "        # n_update += 1\n",
    "        # new_grad_var = sum_grad_norm_2 / n_update - (sum_grad_norm / n_update)**2\n",
    "        # grad_var.append(new_grad_var)\n",
    "\n",
    "        # do one step of SGD\n",
    "        beta = beta - learning_rate*grad\n",
    "\n",
    "            \n",
    "#         loss_epoch = np.mean(all_loss_within_epoch)\n",
    "#         loss_history_epoch.append(loss_epoch)\n",
    "        \n",
    "#         test_acc_epoch = np.mean(all_acc_within_epoch)\n",
    "#         test_acc_history_epoch.append(test_acc_epoch)\n",
    "        \n",
    "        if (run+1)%N==0:\n",
    "            loss = loss_fn(beta, train_data, train_label)\n",
    "            loss_history_n.append(loss)\n",
    "            \n",
    "            test_acc_new = test_acc(beta, test_label, test_data)\n",
    "            test_acc_history_n.append(test_acc_new)\n",
    "            if verbose == 1:\n",
    "                end = time.time()\n",
    "                duration = end - start\n",
    "                print(f\"# Grad/N {(run+1)//N}: {duration:.2f} seconds, Loss: {loss:.2f}, Test Accuracy: {test_acc_new:.3f}\")\n",
    "            \n",
    "    record = {'name': \"SGD\",\n",
    "              'loss_#Grad/n': loss_history_n,\n",
    "              'test_acc_#Grad/n': test_acc_history_n}\n",
    "    \n",
    "    return beta, record"
   ]
  },
  {
   "cell_type": "markdown",
   "metadata": {
    "jp-MarkdownHeadingCollapsed": true,
    "tags": []
   },
   "source": [
    "## 2. SAG"
   ]
  },
  {
   "cell_type": "code",
   "execution_count": 45,
   "metadata": {},
   "outputs": [],
   "source": [
    "def train_SAG_single(train_data, train_label, beta_init, lr, loss_fn, grad_fn, verbose = 0, n_run=20, random_state=4212):\n",
    "    \"\"\"\n",
    "     Find optimized beta given train images and train labels using Stochastic Average Gradient (SAG) with Single Data per update of gradient\n",
    "     \n",
    "    Inputs:\n",
    "     train_img: Training images (in the format of [n,:] array, where n is the number of images)\n",
    "     train_label: Training labels (in the format of [n, 1] array, where n is the number of labels)\n",
    "     beta: Starting point of beta (weights)\n",
    "     lr: Learning rate\n",
    "     loss_fn: Function to return the loss value\n",
    "     grad_fn: Function to return the gradient\n",
    "     verbose: Print time elapsed, training loss and test accuracy for each epoch if verbose = 1, default 0\n",
    "     n_run: Number of computation of gradient / n, default 100\n",
    "     \n",
    "    Outputs:\n",
    "     beta: The final updated values of beta\n",
    "     record: A dictionary of performance during training, including 'loss_update', 'test_acc_update', 'grad_var_update'\n",
    "    \"\"\"\n",
    "    N = len(train_data)  # total number of data\n",
    "    img_indices = np.arange(N)\n",
    "\n",
    "    loss_history_n = []\n",
    "    loss_history_per_pass = []\n",
    "    grad_var = []\n",
    "    \n",
    "    beta = np.copy(beta_init)\n",
    "    learning_rate = lr\n",
    "    \n",
    "    # Calc norm for each set of beta\n",
    "    # n_grad = beta_init.shape[0]\n",
    "    # sum_grad_norm_2 = jnp.zeros(n_grad)\n",
    "    # sum_grad_norm = jnp.zeros(n_grad)\n",
    "    \n",
    "    sum_grad_norm_2 = 0\n",
    "    sum_grad_norm = 0\n",
    "    n_update = 0\n",
    "    \n",
    "    grad_store = np.zeros((N,beta.shape[0],beta.shape[1]))\n",
    "    d = np.zeros(beta.shape)\n",
    "    \n",
    "    np.random.seed(random_state)\n",
    "    \n",
    "    visited = np.zeros(N)\n",
    "\n",
    "    start = time.time()\n",
    "    for run in range(n_run*N):\n",
    "        # randomize the batches\n",
    "        idx = np.random.randint(0,N)\n",
    "\n",
    "        X = train_data[idx]\n",
    "        Y = train_label[idx]\n",
    "        \n",
    "        # compute the stochastic gradient\n",
    "        grad = grad_fn(beta, X, Y)\n",
    "        \n",
    "        visited[idx] = 1\n",
    "        \n",
    "        #loss = loss_LR_single(beta, X, Y)\n",
    "        #loss_history_per_pass.append(loss)\n",
    "        \n",
    "        d = d - grad_store[idx] + grad\n",
    "        grad_store[idx] = grad\n",
    "        \n",
    "\n",
    "        # compute the variance of gradient E(||g||^2) - E(||g||)^2\n",
    "        # new_grad_norm = jnp.linalg.norm(grad,axis=1) # Calc norm for each set of beta\n",
    "\n",
    "        # new_grad_norm = jnp.linalg.norm(grad,axis=None)\n",
    "        # sum_grad_norm_2 += new_grad_norm**2\n",
    "        # sum_grad_norm += new_grad_norm\n",
    "        # n_update += 1\n",
    "        # new_grad_var = sum_grad_norm_2 / n_update - (sum_grad_norm / n_update)**2\n",
    "        # grad_var.append(new_grad_var)\n",
    "\n",
    "        # do one step of SAG\n",
    "        m = visited.sum()\n",
    "        beta = beta - learning_rate*d/m\n",
    "            \n",
    "        if (run+1)%N==0:\n",
    "            loss = loss_fn(beta, train_data, train_label)\n",
    "            loss_history_n.append(loss)\n",
    "            if verbose == 1:\n",
    "                end = time.time()\n",
    "                duration = end - start\n",
    "                print(f\"# Grad/N {(run+1)//N}: {duration:.2f} seconds, Loss: {loss:.2f}\")\n",
    "            \n",
    "    record = {'name': \"SAG\",\n",
    "              'loss_#Grad/n': loss_history_n}\n",
    "    \n",
    "    return beta, record"
   ]
  },
  {
   "cell_type": "code",
   "execution_count": 46,
   "metadata": {},
   "outputs": [],
   "source": [
    "def train_SAG(train_data, train_label, test_data, test_label, beta_init, lr, loss_fn, grad_fn, verbose = 0, n_run=20, mb_size=100, random_state=4212):\n",
    "    \"\"\"\n",
    "     Find optimized beta given train images and train labels using Stochastic Average Gradient (SAG)\n",
    "     \n",
    "    Inputs:\n",
    "     train_img: Training images (in the format of [n,:] array, where n is the number of images)\n",
    "     train_label: Training labels (in the format of [n, 1] array, where n is the number of labels)\n",
    "     beta: Starting point of beta (weights)\n",
    "     lr: Learning rate\n",
    "     loss_fn: Function to return the loss value\n",
    "     grad_fn: Function to return the gradient\n",
    "     verbose: Print time elapsed, training loss and test accuracy for each epoch if verbose = 1, default 0\n",
    "     n_run: Number of computation of gradient / n, default 100\n",
    "     mb_size: Minibatch size, default 100\n",
    "     \n",
    "    Outputs:\n",
    "     beta: The final updated values of beta\n",
    "     record: A dictionary of performance during training, including 'loss_epoch', 'loss_mb', 'test_acc_epoch', 'test_acc_mb', 'grad_var,mb'\n",
    "    \"\"\"\n",
    "    minibatch_size = mb_size #size of the minibatchs\n",
    "    N = len(train_data) // minibatch_size + 1  #total number of minibatches\n",
    "    img_indices = np.arange(len(train_data))\n",
    "\n",
    "    loss_history_n = []\n",
    "    loss_history_per_pass = []\n",
    "    test_acc_history_n = []\n",
    "    grad_var = []\n",
    "    \n",
    "    beta = np.copy(beta_init)\n",
    "    learning_rate = lr\n",
    "    \n",
    "    # Calc norm for each set of beta\n",
    "    # n_grad = beta_init.shape[0]\n",
    "    # sum_grad_norm_2 = jnp.zeros(n_grad)\n",
    "    # sum_grad_norm = jnp.zeros(n_grad)\n",
    "    \n",
    "    sum_grad_norm_2 = 0\n",
    "    sum_grad_norm = 0\n",
    "    n_update = 0\n",
    "    \n",
    "    grad_store = np.zeros((N,beta.shape[0],beta.shape[1]))\n",
    "    d = np.zeros(beta.shape)\n",
    "    visited = np.zeros(N)\n",
    "    \n",
    "    np.random.seed(random_state)\n",
    "\n",
    "    start = time.time()\n",
    "    for run in range(n_run*N):\n",
    "\n",
    "        # all_loss_within_epoch = []\n",
    "        # all_acc_within_epoch = []\n",
    "        # for k in range(n_minibatch):\n",
    "            # create the minibatch of examples\n",
    "            \n",
    "        k = np.random.randint(0, N) # which minibatch to use\n",
    "        batch_indices = np.arange(k*minibatch_size, (k+1)*minibatch_size) % len(train_data)\n",
    "        batch_indices = img_indices[batch_indices]\n",
    "\n",
    "        X_minibatch = train_data[batch_indices]\n",
    "        Y_minibatch = train_label[batch_indices]\n",
    "        \n",
    "        visited[k] = 1\n",
    "        \n",
    "        # compute the stochastic gradient\n",
    "        grad = grad_fn(beta, X_minibatch, Y_minibatch)\n",
    "\n",
    "        d = d - grad_store[k] + grad\n",
    "        grad_store[k] = grad\n",
    "\n",
    "        # compute the variance of gradient E(||g||^2) - E(||g||)^2\n",
    "        # new_grad_norm = jnp.linalg.norm(grad,axis=1) # Calc norm for each set of beta\n",
    "\n",
    "        # new_grad_norm = jnp.linalg.norm(grad,axis=None)\n",
    "        # sum_grad_norm_2 += new_grad_norm**2\n",
    "        # sum_grad_norm += new_grad_norm\n",
    "        # n_update += 1\n",
    "        # new_grad_var = sum_grad_norm_2 / n_update - (sum_grad_norm / n_update)**2\n",
    "        # grad_var.append(new_grad_var)\n",
    "\n",
    "        # do one step of SAG\n",
    "        m = visited.sum()\n",
    "        beta = beta - learning_rate*d / m\n",
    "        \n",
    "\n",
    "\n",
    "            \n",
    "#         loss_epoch = np.mean(all_loss_within_epoch)\n",
    "#         loss_history_epoch.append(loss_epoch)\n",
    "        \n",
    "#         test_acc_epoch = np.mean(all_acc_within_epoch)\n",
    "#         test_acc_history_epoch.append(test_acc_epoch)\n",
    "        \n",
    "        if (run+1)%N==0:\n",
    "            loss = loss_fn(beta, train_data, train_label)\n",
    "            loss_history_n.append(loss)\n",
    "            \n",
    "            test_acc_new = test_acc(beta, test_label, test_data)\n",
    "            test_acc_history_n.append(test_acc_new)\n",
    "            if verbose == 1:\n",
    "                end = time.time()\n",
    "                duration = end - start\n",
    "                print(f\"# Grad/N {(run+1)//N}: {duration:.2f} seconds, Loss: {loss:.2f}, Test Accuracy: {test_acc_new:.3f}\")\n",
    "            \n",
    "    record = {'name': \"SAG\",\n",
    "              'loss_#Grad/n': loss_history_n,\n",
    "              'test_acc_#Grad/n': test_acc_history_n}\n",
    "    \n",
    "    return beta, record"
   ]
  },
  {
   "cell_type": "markdown",
   "metadata": {
    "jp-MarkdownHeadingCollapsed": true,
    "tags": []
   },
   "source": [
    "## 3. SVRG"
   ]
  },
  {
   "cell_type": "code",
   "execution_count": 47,
   "metadata": {},
   "outputs": [],
   "source": [
    "@jax.jit\n",
    "def loss_single(beta, x, y):\n",
    "    \"\"\"\n",
    "     Loss of a single data in multi-class Logistic Regression\n",
    "    input:\n",
    "     beta: Model parameters of shape [n, p], n = number of classes for label, p = dimension of features\n",
    "     x: feature variables of shape p\n",
    "     y: label, a single number indicating which class the data belongs to \n",
    "    \"\"\"\n",
    "    scores = beta@x\n",
    "    scores = jnp.exp(scores) / jnp.sum(jnp.exp(scores)) # Softmax\n",
    "    # scores = jax.nn.softmax(scores) # Softmax\n",
    "    loss = -jnp.log(scores[y]) # Negative Loglikelihood of True Class\n",
    "    return loss\n",
    "\n",
    "loss_batch = jax.vmap(loss_single, in_axes=[None, 0, 0]) # Vectorize\n",
    "\n",
    "@jax.jit\n",
    "def loss_LR_SVRG(beta, X, Y, single=None):\n",
    "    \"\"\"\n",
    "    Minibatch Logistic regression loss\n",
    "    \n",
    "    args:\n",
    "    ====\n",
    "     beta: LR parameter\n",
    "     X: array[:,:] of images\n",
    "     Y: array[:] of labels\n",
    "    \"\"\"\n",
    "    if single is not None:\n",
    "        X, Y = X[single], Y[single]\n",
    "        losses = loss_single(beta, X, Y)\n",
    "\n",
    "    if single is None:        \n",
    "        # compute all the individual losses\n",
    "        losses = loss_batch(beta, X, Y)\n",
    "\n",
    "    return jnp.mean(losses)\n",
    "\n",
    "# compute derivates\n",
    "loss_LR_SVRG_grad = jax.jit(jax.grad(loss_LR_SVRG, argnums=0))\n",
    "loss_LR_SVRG_values_and_grad = jax.jit(jax.value_and_grad(loss_LR_SVRG, argnums=0))\n",
    "\n",
    "def train_SVRG(train_data, train_label, test_data, test_label, beta_init, lr, loss_fn, grad_fn, verbose = 0, n_run=20, mb_size=100, random_state=4212):\n",
    "    \"\"\"\n",
    "     Find optimized beta given train images and train labels using Stochastic Gradient Descent (SGD)\n",
    "     \n",
    "    Inputs:\n",
    "     train_img: Training images (in the format of [n,:] array, where n is the number of images)\n",
    "     train_label: Training labels (in the format of [n, 1] array, where n is the number of labels)\n",
    "     beta: Starting point of beta (weights)\n",
    "     lr: Learning rate\n",
    "     loss_fn: Function to return the loss value\n",
    "     grad_fn: Function to return the gradient\n",
    "     verbose: Print time elapsed, training loss and test accuracy for each epoch if verbose = 1, default 0\n",
    "     n_run: Number of computation of gradient / n, default 100\n",
    "     mb_size: Minibatch size, default 100\n",
    "     \n",
    "    Outputs:\n",
    "     beta: The final updated values of beta\n",
    "     record: A dictionary of performance during training, including 'loss_epoch', 'loss_mb', 'test_acc_epoch', 'test_acc_mb', 'grad_var,mb'\n",
    "    \"\"\"\n",
    "    minibatch_size = mb_size #size of the minibatchs\n",
    "    N = len(train_data) // minibatch_size + 1  #total number of minibatches\n",
    "    img_indices = np.arange(len(train_data))\n",
    "\n",
    "    loss_history_n = []\n",
    "    test_acc_history_n = []\n",
    "    grad_var = []\n",
    "    \n",
    "    beta = np.copy(beta_init)\n",
    "    learning_rate = lr\n",
    "    m = 2*N ## m slightly larger than n\n",
    "    count_n = 0\n",
    "    grad_n = 0 \n",
    "    \n",
    "    # Calc norm for each set of beta\n",
    "    # n_grad = beta_init.shape[0]\n",
    "    # sum_grad_norm_2 = jnp.zeros(n_grad)\n",
    "    # sum_grad_norm = jnp.zeros(n_grad)\n",
    "    \n",
    "    sum_grad_norm_2 = 0\n",
    "    sum_grad_norm = 0\n",
    "    n_update = 0\n",
    "    \n",
    "    np.random.seed(random_state)\n",
    "\n",
    "\n",
    "    start = time.time()\n",
    "    for run in range(n_run):\n",
    "\n",
    "        # all_loss_within_epoch = []\n",
    "        # all_acc_within_epoch = []\n",
    "        # for k in range(n_minibatch):\n",
    "        # create the minibatch of examples\n",
    "            \n",
    "        # k = np.random.randint(0, N) # which minibatch to use\n",
    "        # batch_indices = np.arange(k*minibatch_size, (k+1)*minibatch_size) % N\n",
    "        # batch_indices = img_indices[batch_indices]\n",
    "\n",
    "        # X_minibatch = train_data[batch_indices]\n",
    "        # Y_minibatch = train_label[batch_indices]\n",
    "\n",
    "        #\n",
    "        v0 = beta\n",
    "        v = np.copy(v0)\n",
    "\n",
    "        # compute the stochastic gradient\n",
    "        # grad = grad_fn(beta, X_minibatch, Y_minibatch)\n",
    "        snapshot = grad_fn(v0, train_data, train_label)\n",
    "\n",
    "        # compute the variance of gradient E(||g||^2) - E(||g||)^2\n",
    "        # new_grad_norm = jnp.linalg.norm(grad,axis=1) # Calc norm for each set of beta\n",
    "\n",
    "        # new_grad_norm = jnp.linalg.norm(grad,axis=None)\n",
    "        # sum_grad_norm_2 += new_grad_norm**2\n",
    "        # sum_grad_norm += new_grad_norm\n",
    "        # n_update += 1\n",
    "        # new_grad_var = sum_grad_norm_2 / n_update - (sum_grad_norm / n_update)**2\n",
    "        # grad_var.append(new_grad_var)\n",
    "\n",
    "        # do m step of SGD\n",
    "        for j in range(m):\n",
    "            # i = np.random.randint(mb_size)\n",
    "            i = np.random.randint(0, N) # which minibatch to use\n",
    "            batch_indices = np.arange(i*minibatch_size, (i+1)*minibatch_size) % len(train_data)\n",
    "            batch_indices = img_indices[batch_indices]\n",
    "\n",
    "            X_minibatch = train_data[batch_indices]\n",
    "            Y_minibatch = train_label[batch_indices]\n",
    "\n",
    "            update_vec = grad_fn(v, X_minibatch, Y_minibatch) - grad_fn(v0, X_minibatch, Y_minibatch)+snapshot\n",
    "            v -= lr*update_vec\n",
    "            grad_n += 1\n",
    "\n",
    "\n",
    "            if (grad_n+1)%N==0:\n",
    "                beta_temp = v\n",
    "                loss = loss_fn(beta_temp, train_data, train_label)\n",
    "                loss_history_n.append(loss)\n",
    "            \n",
    "                test_acc_new = test_acc(beta_temp, test_label, test_data)\n",
    "                test_acc_history_n.append(test_acc_new)\n",
    "                if verbose == 1:\n",
    "                    end = time.time()\n",
    "                    duration = end - start\n",
    "                    print(f\"# Grad/N {count_n+1}: {duration:.2f} seconds, Loss: {loss:.2f}, Test Accuracy: {test_acc_new:.3f}\")\n",
    "                    count_n += 1\n",
    "\n",
    "        beta = v\n",
    "\n",
    "\n",
    "            \n",
    "#         loss_epoch = np.mean(all_loss_within_epoch)\n",
    "#         loss_history_epoch.append(loss_epoch)\n",
    "        \n",
    "#         test_acc_epoch = np.mean(all_acc_within_epoch)\n",
    "#         test_acc_history_epoch.append(test_acc_epoch)\n",
    "        \n",
    "            \n",
    "    record = {'name': \"SVRG\",\n",
    "              'loss_#Grad/n': loss_history_n,\n",
    "              'test_acc_#Grad/n': test_acc_history_n}\n",
    "    \n",
    "    return beta, record"
   ]
  },
  {
   "cell_type": "code",
   "execution_count": 48,
   "metadata": {},
   "outputs": [],
   "source": [
    "def train_SVRG_single(train_data, train_label, beta_init, lr, loss_fn, grad_fn, verbose = 0, n_run=100, random_state=4212):\n",
    "    \"\"\"\n",
    "     Find optimized beta given train images and train labels using Stochastic Gradient Descent (SGD) with Single Data per update of gradient\n",
    "     \n",
    "    Inputs:\n",
    "     train_img: Training images (in the format of [n,:] array, where n is the number of images)\n",
    "     train_label: Training labels (in the format of [n, 1] array, where n is the number of labels)\n",
    "     beta: Starting point of beta (weights)\n",
    "     lr: Learning rate\n",
    "     val_grad_fn: Function to return the loss value and gradient given X and Y\n",
    "     verbose: Print time elapsed, training loss and test accuracy for each epoch if verbose = 1, default 0\n",
    "     n_run: Number of update of gradient, default 100\n",
    "     \n",
    "    Outputs:\n",
    "     beta: The final updated values of beta\n",
    "     record: A dictionary of performance during training, including 'loss', 'test_acc', 'grad_var'\n",
    "    \"\"\"\n",
    "    N = len(train_data)  # total number of data\n",
    "    img_indices = np.arange(N)\n",
    "\n",
    "    loss_history_n = []\n",
    "    grad_var = []\n",
    "    \n",
    "    beta = np.copy(beta_init)\n",
    "    learning_rate = lr\n",
    "    m = 2*N ## m slightly larger than n\n",
    "    count_n = 0\n",
    "    \n",
    "    # Calc norm for each set of beta\n",
    "    # n_grad = beta_init.shape[0]\n",
    "    # sum_grad_norm_2 = jnp.zeros(n_grad)\n",
    "    # sum_grad_norm = jnp.zeros(n_grad)\n",
    "    \n",
    "    sum_grad_norm_2 = 0\n",
    "    sum_grad_norm = 0\n",
    "    n_update = 0\n",
    "    \n",
    "    np.random.seed(random_state)\n",
    "\n",
    "    start = time.time()\n",
    "    for run in range(n_run):\n",
    "        # randomize the batches\n",
    "        idx = np.random.randint(0,N)\n",
    "\n",
    "        X = train_data[idx]\n",
    "        Y = train_label[idx]\n",
    "\n",
    "        # compute the stochastic gradient\n",
    "        grad = grad_fn(beta, X, Y)\n",
    "\n",
    "        # compute the variance of gradient E(||g||^2) - E(||g||)^2\n",
    "        # new_grad_norm = jnp.linalg.norm(grad,axis=1) # Calc norm for each set of beta\n",
    "\n",
    "        new_grad_norm = jnp.linalg.norm(grad,axis=None)\n",
    "        sum_grad_norm_2 += new_grad_norm**2\n",
    "        sum_grad_norm += new_grad_norm\n",
    "        n_update += 1\n",
    "        new_grad_var = sum_grad_norm_2 / n_update - (sum_grad_norm / n_update)**2\n",
    "        grad_var.append(new_grad_var)\n",
    "\n",
    "        v0 = beta\n",
    "        v = np.copy(v0)\n",
    "        snapshot = loss_LR_SVRG_grad(v0, train_data, train_label)\n",
    "\n",
    "        # do m step of SGD\n",
    "        for k in range(m):\n",
    "            i = np.random.randint(N)\n",
    "            grad_v = grad_fn(v, train_data[i], train_label[i])\n",
    "            grad_v0 = grad_fn(v0, train_data[i], train_label[i])\n",
    "            update_vec = grad_v - grad_v0 + snapshot\n",
    "            v -= lr*update_vec\n",
    "\n",
    "            if (k+1)%N==0:\n",
    "                beta_temp = v\n",
    "                loss = loss_fn(beta_temp, train_data, train_label)\n",
    "                loss_history_n.append(loss)\n",
    "                if verbose == 1:\n",
    "                    end = time.time()\n",
    "                    duration = end - start\n",
    "                    print(f\"# Grad/N {count_n+1}: {duration:.2f} seconds, Loss: {loss:.2f}\")\n",
    "                    count_n += 1\n",
    "\n",
    "        beta = v\n",
    "\n",
    "        # book-keeping\n",
    "        # loss_history.append(val)\n",
    "\n",
    "        # test_accuracy = test_acc(beta, test_label, test_data)\n",
    "        # test_acc_history.append(test_accuracy)\n",
    "\n",
    "    record = {'name': \"SVRG\", 'loss_#Grad/n': loss_history_n}\n",
    "          \n",
    "    \n",
    "    return beta, record"
   ]
  },
  {
   "cell_type": "markdown",
   "metadata": {
    "jp-MarkdownHeadingCollapsed": true,
    "tags": []
   },
   "source": [
    "## 4. SAGA"
   ]
  },
  {
   "cell_type": "code",
   "execution_count": 49,
   "metadata": {},
   "outputs": [],
   "source": [
    "def train_SAGA_single(train_data, train_label, beta_init, lr, loss_fn, grad_fn, verbose = 0, n_run=20, random_state=4212):\n",
    "    \"\"\"\n",
    "     Find optimized beta given train images and train labels using SAGA with Single Data per update of gradient\n",
    "     \n",
    "    Inputs:\n",
    "     train_img: Training images (in the format of [n,:] array, where n is the number of images)\n",
    "     train_label: Training labels (in the format of [n, 1] array, where n is the number of labels)\n",
    "     beta: Starting point of beta (weights)\n",
    "     lr: Learning rate\n",
    "     loss_fn: Function to return the loss value\n",
    "     grad_fn: Function to return the gradient\n",
    "     verbose: Print time elapsed, training loss and test accuracy for each epoch if verbose = 1, default 0\n",
    "     n_run: Number of computation of gradient / n, default 100\n",
    "     \n",
    "    Outputs:\n",
    "     beta: The final updated values of beta\n",
    "     record: A dictionary of performance during training, including 'loss_update', 'test_acc_update', 'grad_var_update'\n",
    "    \"\"\"\n",
    "    N = len(train_data)  # total number of data\n",
    "    img_indices = np.arange(N)\n",
    "\n",
    "    loss_history_n = []\n",
    "    grad_var = []\n",
    "    \n",
    "    beta = np.copy(beta_init)\n",
    "    learning_rate = lr\n",
    "    \n",
    "    # Calc norm for each set of beta\n",
    "    # n_grad = beta_init.shape[0]\n",
    "    # sum_grad_norm_2 = jnp.zeros(n_grad)\n",
    "    # sum_grad_norm = jnp.zeros(n_grad)\n",
    "    \n",
    "    sum_grad_norm_2 = 0\n",
    "    sum_grad_norm = 0\n",
    "    n_update = 0\n",
    "    \n",
    "    np.random.seed(random_state)\n",
    "\n",
    "    n, d = train_data.shape\n",
    "    grad_memory = np.array([grad_fn(beta, train_data[i], train_label[i]) for i in range(n)]).reshape(n, -1)\n",
    "    avg = 1/n * grad_memory.T @ np.ones(n)\n",
    "    \n",
    "    start = time.time()\n",
    "    for run in range(n_run*N):\n",
    "        # randomize the batches\n",
    "        idx = np.random.randint(0,N)\n",
    "        \n",
    "        # compute the gradient of a single data point\n",
    "        grad_idx = grad_fn(beta, train_data[idx], train_label[idx]).reshape(-1)\n",
    "        # compute the gradient estimate g using new, old and memory gradients\n",
    "    #             grad_estimate = 1/minibatch_size * (batch_grad - grad_memory[batch_indices]).T @ np.ones(minibatch_size) + \\\n",
    "    #             1/n * grad_memory.T @ np.ones(n)\n",
    "        #grad_estimate = grad_idx - grad_memory[idx] + np.mean(grad_memory, axis=0)\n",
    "        diff = grad_idx - grad_memory[idx]\n",
    "        grad_estimate = diff + avg\n",
    "        \n",
    "        # update gradient memory and avg of memory\n",
    "        avg += 1/n * diff\n",
    "        grad_memory[idx] = np.copy(grad_idx)\n",
    "        \n",
    "        # take an update step\n",
    "        grad_estimate = grad_estimate.reshape(beta_init.shape)\n",
    "        beta = beta - learning_rate * grad_estimate\n",
    "\n",
    "            \n",
    "        if (run+1)%N==0:\n",
    "            loss = loss_fn(beta, train_data, train_label)\n",
    "            loss_history_n.append(loss)\n",
    "            if verbose == 1:\n",
    "                end = time.time()\n",
    "                duration = end - start\n",
    "                print(f\"# Grad/N {(run+1)//N}: {duration:.2f} seconds, Loss: {loss:.2f}\")\n",
    "            \n",
    "    record = {'name': \"SAGA\",\n",
    "              'loss_#Grad/n': loss_history_n}\n",
    "    \n",
    "    return beta, record"
   ]
  },
  {
   "cell_type": "code",
   "execution_count": 50,
   "metadata": {},
   "outputs": [],
   "source": [
    "def train_SAGA(train_data, train_label, test_data, test_label, beta_init, lr, loss_fn, grad_fn, verbose = 0, n_run=20, mb_size=100, random_state=4212):\n",
    "    \"\"\"\n",
    "     Find optimized beta given train images and train labels using SAGA\n",
    "     \n",
    "    Inputs:\n",
    "     train_img: Training images (in the format of [n,:] array, where n is the number of images)\n",
    "     train_label: Training labels (in the format of [n, 1] array, where n is the number of labels)\n",
    "     beta: Starting point of beta (weights)\n",
    "     lr: Learning rate\n",
    "     loss_fn: Function to return the loss value\n",
    "     grad_fn: Function to return the gradient\n",
    "     verbose: Print time elapsed, training loss and test accuracy for each epoch if verbose = 1, default 0\n",
    "     n_run: Number of computation of gradient / n, default 100\n",
    "     mb_size: Minibatch size, default 100\n",
    "     \n",
    "    Outputs:\n",
    "     beta: The final updated values of beta\n",
    "     record: A dictionary of performance during training, including 'loss_epoch', 'loss_mb', 'test_acc_epoch', 'test_acc_mb', 'grad_var,mb'\n",
    "    \"\"\"\n",
    "    minibatch_size = mb_size #size of the minibatchs\n",
    "    train_data_len = len(train_data)\n",
    "    N = train_data_len // minibatch_size + 1  #total number of minibatches\n",
    "    img_indices = np.arange(train_data_len)\n",
    "\n",
    "    loss_history_n = []\n",
    "    test_acc_history_n = []\n",
    "    grad_var = []\n",
    "    \n",
    "    beta = np.copy(beta_init)\n",
    "    learning_rate = lr\n",
    "    \n",
    "    sum_grad_norm_2 = 0\n",
    "    sum_grad_norm = 0\n",
    "    n_update = 0\n",
    "    \n",
    "    np.random.seed(random_state)\n",
    "\n",
    "    n, d = train_data.shape\n",
    "    grad_memory = np.array([grad_fn(beta, train_data[[i]], train_label[[i]]) for i in range(n)]).reshape(n, -1)\n",
    "    avg = 1/n * grad_memory.T @ np.ones(n)\n",
    "    \n",
    "    start = time.time()\n",
    "    for run in range(n_run*N):\n",
    "            \n",
    "        k = np.random.randint(0, N) # which minibatch to use\n",
    "        batch_indices = np.arange(k*minibatch_size, (k+1)*minibatch_size) % train_data_len\n",
    "        batch_indices = img_indices[batch_indices]\n",
    "        \n",
    "        # compute the gradients of the sample data points\n",
    "        batch_grad = np.array([grad_fn(beta, train_data[[j]], train_label[[j]]) \n",
    "                               for j in batch_indices]).reshape(minibatch_size, -1)\n",
    "        # compute the gradient estimate g using new, old and memory gradients\n",
    "    #             grad_estimate = 1/minibatch_size * (batch_grad - grad_memory[batch_indices]).T @ np.ones(minibatch_size) + \\\n",
    "    #             1/n * grad_memory.T @ np.ones(n)\n",
    "        #grad_estimate = np.mean(batch_grad-grad_memory[batch_indices], axis=0) + np.mean(grad_memory, axis=0)\n",
    "        sum_diff = (batch_grad - grad_memory[batch_indices]).sum(axis=0)\n",
    "        grad_estimate = 1/minibatch_size * sum_diff + avg\n",
    "        \n",
    "        # update gradient memory \n",
    "        avg += 1/n * sum_diff\n",
    "        grad_memory[batch_indices] = np.copy(batch_grad)\n",
    "        \n",
    "        # take an update step\n",
    "        grad_estimate = grad_estimate.reshape(beta_init.shape)\n",
    "        beta = beta - learning_rate * grad_estimate\n",
    "        \n",
    "        \n",
    "        if (run+1)%N==0:\n",
    "            loss = loss_fn(beta, train_data, train_label)\n",
    "            loss_history_n.append(loss)\n",
    "            \n",
    "            test_acc_new = test_acc(beta, test_label, test_data)\n",
    "            test_acc_history_n.append(test_acc_new)\n",
    "            if verbose == 1:\n",
    "                end = time.time()\n",
    "                duration = end - start\n",
    "                print(f\"# Grad/N {(run+1)//N}: {duration:.2f} seconds, Loss: {loss:.2f}, Test Accuracy: {test_acc_new:.3f}\")\n",
    "            \n",
    "    record = {'name': \"SAGA\",\n",
    "              'loss_#Grad/n': loss_history_n,\n",
    "              'test_acc_#Grad/n': test_acc_history_n}\n",
    "    \n",
    "    return beta, record"
   ]
  },
  {
   "cell_type": "markdown",
   "metadata": {},
   "source": [
    "### ......"
   ]
  },
  {
   "cell_type": "code",
   "execution_count": null,
   "metadata": {},
   "outputs": [],
   "source": []
  },
  {
   "cell_type": "code",
   "execution_count": null,
   "metadata": {},
   "outputs": [],
   "source": []
  },
  {
   "cell_type": "markdown",
   "metadata": {
    "jp-MarkdownHeadingCollapsed": true,
    "tags": []
   },
   "source": [
    "## Experiment with Covtype"
   ]
  },
  {
   "cell_type": "code",
   "execution_count": 98,
   "metadata": {},
   "outputs": [],
   "source": [
    "train_data, test_data, train_label, test_label = covtype_feature_train_norm, covtype_feature_test_norm, covtype_label_train, covtype_label_test"
   ]
  },
  {
   "cell_type": "code",
   "execution_count": 99,
   "metadata": {},
   "outputs": [
    {
     "name": "stdout",
     "output_type": "stream",
     "text": [
      "(array([0, 1, 2, 3, 4, 5, 6]), array([158988, 212405,  26835,   2064,   7091,  13016,  15360],\n",
      "      dtype=int64))\n",
      "(array([0, 1, 2, 3, 4, 5, 6]), array([52852, 70896,  8919,   683,  2402,  4351,  5150], dtype=int64))\n",
      "(435759, 54)\n",
      "(145253, 54)\n"
     ]
    }
   ],
   "source": [
    "print(np.unique(train_label, return_counts=True))\n",
    "print(np.unique(test_label, return_counts=True))\n",
    "print(train_data.shape)\n",
    "print(test_data.shape)"
   ]
  },
  {
   "cell_type": "code",
   "execution_count": 100,
   "metadata": {},
   "outputs": [],
   "source": [
    "# Test with Covtype\n",
    "n_features = 54\n",
    "n_classes = 7\n",
    "np.random.seed(4212)\n",
    "\n",
    "beta_init = np.random.normal(0,np.sqrt(1/(n_features)), size=[n_classes, n_features])"
   ]
  },
  {
   "cell_type": "code",
   "execution_count": 101,
   "metadata": {},
   "outputs": [
    {
     "data": {
      "text/plain": [
       "(7, 54)"
      ]
     },
     "execution_count": 101,
     "metadata": {},
     "output_type": "execute_result"
    }
   ],
   "source": [
    "beta_init.shape"
   ]
  },
  {
   "cell_type": "markdown",
   "metadata": {
    "tags": []
   },
   "source": [
    "#### Optimal Results from Commercial Package"
   ]
  },
  {
   "cell_type": "code",
   "execution_count": 102,
   "metadata": {
    "tags": []
   },
   "outputs": [
    {
     "name": "stderr",
     "output_type": "stream",
     "text": [
      "C:\\Users\\z9906\\Anaconda3\\lib\\site-packages\\sklearn\\linear_model\\_logistic.py:818: ConvergenceWarning: lbfgs failed to converge (status=1):\n",
      "STOP: TOTAL NO. of ITERATIONS REACHED LIMIT.\n",
      "\n",
      "Increase the number of iterations (max_iter) or scale the data as shown in:\n",
      "    https://scikit-learn.org/stable/modules/preprocessing.html\n",
      "Please also refer to the documentation for alternative solver options:\n",
      "    https://scikit-learn.org/stable/modules/linear_model.html#logistic-regression\n",
      "  extra_warning_msg=_LOGISTIC_SOLVER_CONVERGENCE_MSG,\n"
     ]
    },
    {
     "data": {
      "text/plain": [
       "LogisticRegression(penalty='none')"
      ]
     },
     "execution_count": 102,
     "metadata": {},
     "output_type": "execute_result"
    }
   ],
   "source": [
    "from sklearn.linear_model import LogisticRegression\n",
    "\n",
    "model = LogisticRegression(penalty='none', solver='lbfgs', max_iter=100)\n",
    "model.fit(train_data, np.ravel(train_label))"
   ]
  },
  {
   "cell_type": "code",
   "execution_count": 103,
   "metadata": {},
   "outputs": [
    {
     "name": "stdout",
     "output_type": "stream",
     "text": [
      "1.8259037446163924\n"
     ]
    }
   ],
   "source": [
    "beta_best = model.coef_\n",
    "loss_best = loss_LR(beta_best, train_data, train_label)\n",
    "print(loss_best)"
   ]
  },
  {
   "cell_type": "markdown",
   "metadata": {},
   "source": [
    "### Single Version (Grad Var and Train Loss)"
   ]
  },
  {
   "cell_type": "code",
   "execution_count": null,
   "metadata": {},
   "outputs": [
    {
     "name": "stdout",
     "output_type": "stream",
     "text": [
      "# Grad/N 1: 17.17 seconds, Loss: 0.64\n"
     ]
    }
   ],
   "source": [
    "beta = np.copy(beta_init)\n",
    "\n",
    "beta_SGD_single, record_SGD_single = train_SGD_single(train_data, train_label, beta_init, 0.01, loss_LR, loss_LR_single_grad, n_run=20, verbose = 1)"
   ]
  },
  {
   "cell_type": "code",
   "execution_count": null,
   "metadata": {},
   "outputs": [],
   "source": [
    "# SAG\n",
    "beta = np.copy(beta_init)\n",
    "\n",
    "beta_SAG_single, record_SAG_single = train_SAG_single(train_data, train_label, beta_init, 0.01, loss_LR, loss_LR_single_grad, n_run=20, verbose = 1)"
   ]
  },
  {
   "cell_type": "code",
   "execution_count": null,
   "metadata": {},
   "outputs": [],
   "source": [
    "# SVRG\n",
    "beta = np.copy(beta_init)\n",
    "\n",
    "beta_SVRG_single, record_SVRG_single = train_SVRG_single(train_data, train_label, beta_init, 0.01, loss_LR, loss_LR_single_grad, n_run=10, verbose = 1)"
   ]
  },
  {
   "cell_type": "code",
   "execution_count": null,
   "metadata": {},
   "outputs": [],
   "source": [
    "# SAGA\n",
    "beta = np.copy(beta_init)\n",
    "\n",
    "beta_SAGA_single, record_SAGA_single = train_SAGA_single(train_data, train_label, beta_init, 0.01, loss_LR, loss_LR_single_grad, n_run=20, verbose = 1)"
   ]
  },
  {
   "cell_type": "code",
   "execution_count": null,
   "metadata": {},
   "outputs": [],
   "source": [
    "record_graph([record_SGD_single, record_SAG_single, record_SVRG_single, record_SAGA_single],'loss_#Grad/n')\n",
    "plt.title(\"Covtype_Single\")\n",
    "plt.savefig(\"plot/covtype_single_loss.jpg\")"
   ]
  },
  {
   "cell_type": "markdown",
   "metadata": {
    "tags": []
   },
   "source": [
    "### Minibatch Version (Test Acc)"
   ]
  },
  {
   "cell_type": "code",
   "execution_count": null,
   "metadata": {},
   "outputs": [],
   "source": [
    "beta = np.copy(beta_init)\n",
    "\n",
    "beta_SGD, record_SGD = train_SGD(train_data, train_label, test_data, test_label, beta_init, 0.01, loss_LR, loss_LR_grad, verbose = 1, n_run=20, mb_size=100)"
   ]
  },
  {
   "cell_type": "code",
   "execution_count": null,
   "metadata": {},
   "outputs": [],
   "source": [
    "# SAG\n",
    "beta = np.copy(beta_init)\n",
    "\n",
    "beta_SAG, record_SAG = train_SAG(train_data, train_label, test_data, test_label, beta_init, 0.01, loss_LR, loss_LR_grad, verbose = 1, n_run=20, mb_size=100)"
   ]
  },
  {
   "cell_type": "code",
   "execution_count": null,
   "metadata": {},
   "outputs": [],
   "source": [
    "# SVRG\n",
    "beta = np.copy(beta_init)\n",
    "\n",
    "beta_SVRG, record_SVRG = train_SVRG(train_data, train_label, test_data, test_label, beta_init, 0.01, loss_LR, loss_LR_grad, verbose = 1, n_run=10, mb_size=100)"
   ]
  },
  {
   "cell_type": "code",
   "execution_count": null,
   "metadata": {},
   "outputs": [],
   "source": [
    "# SAGA\n",
    "beta = np.copy(beta_init)\n",
    "\n",
    "beta_SAGA, record_SAGA = train_SAGA(train_data, train_label, test_data, test_label, beta_init, 0.01, loss_LR, loss_LR_grad, verbose = 1, n_run=20, mb_size=100)"
   ]
  },
  {
   "cell_type": "code",
   "execution_count": null,
   "metadata": {},
   "outputs": [],
   "source": [
    "record_graph([record_SGD, record_SAG, record_SVRG, record_SAGA],'test_acc_#Grad/n')\n",
    "plt.title(\"Covtype_Batch\")\n",
    "plt.savefig(\"plot/covtype_batch_acc.jpg\")"
   ]
  },
  {
   "cell_type": "code",
   "execution_count": null,
   "metadata": {},
   "outputs": [],
   "source": [
    "record_graph([record_SGD, record_SAG, record_SVRG, record_SAGA],'loss_#Grad/n')\n",
    "plt.title(\"Covtype_Batch\")\n",
    "plt.savefig(\"plot/covtype_batch_loss.jpg\")"
   ]
  },
  {
   "cell_type": "markdown",
   "metadata": {
    "jp-MarkdownHeadingCollapsed": true,
    "tags": []
   },
   "source": [
    "## Experiment with IJCNN"
   ]
  },
  {
   "cell_type": "code",
   "execution_count": 68,
   "metadata": {},
   "outputs": [
    {
     "data": {
      "text/plain": [
       "(49990, 22)"
      ]
     },
     "execution_count": 68,
     "metadata": {},
     "output_type": "execute_result"
    }
   ],
   "source": [
    "ijcnn_train_data.shape"
   ]
  },
  {
   "cell_type": "code",
   "execution_count": 69,
   "metadata": {},
   "outputs": [],
   "source": [
    "train_data, test_data, train_label, test_label = ijcnn_train_data, ijcnn_test_data, ijcnn_train_label, ijcnn_test_label"
   ]
  },
  {
   "cell_type": "code",
   "execution_count": 70,
   "metadata": {},
   "outputs": [
    {
     "name": "stdout",
     "output_type": "stream",
     "text": [
      "(array([0, 1], dtype=int32), array([45137,  4853], dtype=int64))\n",
      "(array([0, 1], dtype=int32), array([82989,  8712], dtype=int64))\n",
      "(49990, 22)\n",
      "(91701, 22)\n"
     ]
    }
   ],
   "source": [
    "print(np.unique(train_label, return_counts=True))\n",
    "print(np.unique(test_label, return_counts=True))\n",
    "print(train_data.shape)\n",
    "print(test_data.shape)"
   ]
  },
  {
   "cell_type": "code",
   "execution_count": 71,
   "metadata": {},
   "outputs": [],
   "source": [
    "n_features = 22\n",
    "n_classes = 2\n",
    "np.random.seed(4212)\n",
    "\n",
    "beta_init = np.random.normal(0,np.sqrt(1/(n_features)), size=[n_classes, n_features])"
   ]
  },
  {
   "cell_type": "code",
   "execution_count": 72,
   "metadata": {},
   "outputs": [
    {
     "data": {
      "text/plain": [
       "(2, 22)"
      ]
     },
     "execution_count": 72,
     "metadata": {},
     "output_type": "execute_result"
    }
   ],
   "source": [
    "beta_init.shape"
   ]
  },
  {
   "cell_type": "markdown",
   "metadata": {
    "jp-MarkdownHeadingCollapsed": true,
    "tags": []
   },
   "source": [
    "#### Optimal Results from Commercial Package"
   ]
  },
  {
   "cell_type": "code",
   "execution_count": 73,
   "metadata": {
    "tags": []
   },
   "outputs": [
    {
     "data": {
      "text/plain": [
       "LogisticRegression(fit_intercept=False, max_iter=1000, penalty='none',\n",
       "                   tol=1e-20)"
      ]
     },
     "execution_count": 73,
     "metadata": {},
     "output_type": "execute_result"
    }
   ],
   "source": [
    "from sklearn.linear_model import LogisticRegression\n",
    "\n",
    "model = LogisticRegression(penalty='none', solver='lbfgs', fit_intercept=False, max_iter=1000, tol=1e-20)\n",
    "model.fit(train_data, np.ravel(train_label))"
   ]
  },
  {
   "cell_type": "code",
   "execution_count": 74,
   "metadata": {},
   "outputs": [
    {
     "name": "stdout",
     "output_type": "stream",
     "text": [
      "0.24115181710521874\n"
     ]
    }
   ],
   "source": [
    "beta_best = np.zeros(beta_init.shape)\n",
    "beta_best[0], beta_best[1] = -1*model.coef_, model.coef_\n",
    "loss_best = loss_LR(beta_best, train_data, train_label)\n",
    "print(loss_best)"
   ]
  },
  {
   "cell_type": "markdown",
   "metadata": {
    "tags": []
   },
   "source": [
    "### Single Version (Train Loss)"
   ]
  },
  {
   "cell_type": "code",
   "execution_count": 75,
   "metadata": {},
   "outputs": [
    {
     "name": "stdout",
     "output_type": "stream",
     "text": [
      "# Grad/N 1: 2.18 seconds, Loss: 0.21\n",
      "# Grad/N 2: 4.37 seconds, Loss: 0.19\n",
      "# Grad/N 3: 6.53 seconds, Loss: 0.19\n",
      "# Grad/N 4: 8.52 seconds, Loss: 0.19\n",
      "# Grad/N 5: 10.56 seconds, Loss: 0.19\n",
      "# Grad/N 6: 12.65 seconds, Loss: 0.18\n",
      "# Grad/N 7: 14.64 seconds, Loss: 0.18\n",
      "# Grad/N 8: 16.65 seconds, Loss: 0.18\n",
      "# Grad/N 9: 18.79 seconds, Loss: 0.18\n",
      "# Grad/N 10: 20.83 seconds, Loss: 0.18\n",
      "# Grad/N 11: 22.88 seconds, Loss: 0.18\n",
      "# Grad/N 12: 25.10 seconds, Loss: 0.18\n",
      "# Grad/N 13: 27.37 seconds, Loss: 0.18\n",
      "# Grad/N 14: 29.82 seconds, Loss: 0.18\n",
      "# Grad/N 15: 31.99 seconds, Loss: 0.18\n",
      "# Grad/N 16: 34.49 seconds, Loss: 0.18\n",
      "# Grad/N 17: 36.84 seconds, Loss: 0.18\n",
      "# Grad/N 18: 39.31 seconds, Loss: 0.18\n",
      "# Grad/N 19: 41.56 seconds, Loss: 0.18\n",
      "# Grad/N 20: 43.94 seconds, Loss: 0.18\n"
     ]
    }
   ],
   "source": [
    "beta = np.copy(beta_init)\n",
    "\n",
    "beta_SGD_single, record_SGD_single = train_SGD_single(train_data, train_label, beta_init, 0.01, loss_LR, loss_LR_single_grad, n_run=20, verbose = 1)"
   ]
  },
  {
   "cell_type": "code",
   "execution_count": 76,
   "metadata": {},
   "outputs": [
    {
     "name": "stdout",
     "output_type": "stream",
     "text": [
      "# Grad/N 1: 5.91 seconds, Loss: 0.20\n",
      "# Grad/N 2: 11.34 seconds, Loss: 0.19\n",
      "# Grad/N 3: 17.05 seconds, Loss: 0.19\n",
      "# Grad/N 4: 22.99 seconds, Loss: 0.18\n",
      "# Grad/N 5: 28.56 seconds, Loss: 0.18\n",
      "# Grad/N 6: 34.06 seconds, Loss: 0.18\n",
      "# Grad/N 7: 39.54 seconds, Loss: 0.18\n",
      "# Grad/N 8: 44.91 seconds, Loss: 0.18\n",
      "# Grad/N 9: 50.37 seconds, Loss: 0.18\n",
      "# Grad/N 10: 55.70 seconds, Loss: 0.18\n",
      "# Grad/N 11: 61.29 seconds, Loss: 0.18\n",
      "# Grad/N 12: 67.61 seconds, Loss: 0.18\n",
      "# Grad/N 13: 73.95 seconds, Loss: 0.18\n",
      "# Grad/N 14: 80.08 seconds, Loss: 0.18\n",
      "# Grad/N 15: 85.78 seconds, Loss: 0.18\n",
      "# Grad/N 16: 90.95 seconds, Loss: 0.18\n",
      "# Grad/N 17: 96.40 seconds, Loss: 0.18\n",
      "# Grad/N 18: 101.80 seconds, Loss: 0.18\n",
      "# Grad/N 19: 107.04 seconds, Loss: 0.18\n",
      "# Grad/N 20: 112.54 seconds, Loss: 0.18\n"
     ]
    }
   ],
   "source": [
    "# SAG\n",
    "beta = np.copy(beta_init)\n",
    "\n",
    "beta_SAG_single, record_SAG_single = train_SAG_single(train_data, train_label, beta_init, 0.01, loss_LR, loss_LR_single_grad, n_run=20, verbose = 1)"
   ]
  },
  {
   "cell_type": "code",
   "execution_count": 77,
   "metadata": {},
   "outputs": [
    {
     "name": "stdout",
     "output_type": "stream",
     "text": [
      "# Grad/N 1: 4.07 seconds, Loss: 0.21\n",
      "# Grad/N 2: 7.58 seconds, Loss: 0.19\n",
      "# Grad/N 3: 11.53 seconds, Loss: 0.19\n",
      "# Grad/N 4: 15.01 seconds, Loss: 0.19\n",
      "# Grad/N 5: 18.63 seconds, Loss: 0.19\n",
      "# Grad/N 6: 22.36 seconds, Loss: 0.18\n",
      "# Grad/N 7: 26.07 seconds, Loss: 0.18\n",
      "# Grad/N 8: 29.61 seconds, Loss: 0.18\n",
      "# Grad/N 9: 33.31 seconds, Loss: 0.18\n",
      "# Grad/N 10: 37.16 seconds, Loss: 0.18\n",
      "# Grad/N 11: 40.72 seconds, Loss: 0.18\n",
      "# Grad/N 12: 44.24 seconds, Loss: 0.18\n",
      "# Grad/N 13: 47.81 seconds, Loss: 0.18\n",
      "# Grad/N 14: 51.24 seconds, Loss: 0.18\n",
      "# Grad/N 15: 54.99 seconds, Loss: 0.18\n",
      "# Grad/N 16: 58.49 seconds, Loss: 0.18\n",
      "# Grad/N 17: 62.21 seconds, Loss: 0.18\n",
      "# Grad/N 18: 66.26 seconds, Loss: 0.18\n",
      "# Grad/N 19: 70.22 seconds, Loss: 0.18\n",
      "# Grad/N 20: 74.28 seconds, Loss: 0.18\n"
     ]
    }
   ],
   "source": [
    "# SVRG\n",
    "beta = np.copy(beta_init)\n",
    "\n",
    "beta_SVRG_single, record_SVRG_single = train_SVRG_single(train_data, train_label, beta_init, 0.01, loss_LR, loss_LR_single_grad, n_run=10, verbose = 1)"
   ]
  },
  {
   "cell_type": "code",
   "execution_count": 78,
   "metadata": {},
   "outputs": [
    {
     "name": "stdout",
     "output_type": "stream",
     "text": [
      "# Grad/N 1: 15.94 seconds, Loss: 0.21\n",
      "# Grad/N 2: 31.37 seconds, Loss: 0.19\n",
      "# Grad/N 3: 47.89 seconds, Loss: 0.19\n",
      "# Grad/N 4: 63.75 seconds, Loss: 0.19\n",
      "# Grad/N 5: 79.98 seconds, Loss: 0.19\n",
      "# Grad/N 6: 96.19 seconds, Loss: 0.18\n",
      "# Grad/N 7: 111.94 seconds, Loss: 0.18\n",
      "# Grad/N 8: 127.73 seconds, Loss: 0.18\n",
      "# Grad/N 9: 143.33 seconds, Loss: 0.18\n",
      "# Grad/N 10: 159.40 seconds, Loss: 0.18\n",
      "# Grad/N 11: 175.33 seconds, Loss: 0.18\n",
      "# Grad/N 12: 190.83 seconds, Loss: 0.18\n",
      "# Grad/N 13: 206.90 seconds, Loss: 0.18\n",
      "# Grad/N 14: 222.83 seconds, Loss: 0.18\n",
      "# Grad/N 15: 238.93 seconds, Loss: 0.18\n",
      "# Grad/N 16: 255.93 seconds, Loss: 0.18\n",
      "# Grad/N 17: 271.77 seconds, Loss: 0.18\n",
      "# Grad/N 18: 287.54 seconds, Loss: 0.18\n",
      "# Grad/N 19: 303.92 seconds, Loss: 0.18\n",
      "# Grad/N 20: 320.02 seconds, Loss: 0.18\n"
     ]
    }
   ],
   "source": [
    "# SAGA\n",
    "beta = np.copy(beta_init)\n",
    "\n",
    "beta_SAGA_single, record_SAGA_single = train_SAGA_single(train_data, train_label, beta_init, 0.01, loss_LR, loss_LR_single_grad, n_run=20, verbose = 1)"
   ]
  },
  {
   "cell_type": "code",
   "execution_count": 95,
   "metadata": {},
   "outputs": [
    {
     "data": {
      "image/png": "[encoded data removed]",
      "text/plain": [
       "<Figure size 1152x720 with 1 Axes>"
      ]
     },
     "metadata": {
      "needs_background": "light"
     },
     "output_type": "display_data"
    }
   ],
   "source": [
    "record_graph([record_SGD_single, record_SAG_single, record_SVRG_single, record_SAGA_single],'loss_#Grad/n')\n",
    "plt.title(\"IJCNN_Single\")\n",
    "plt.savefig(\"plot/ijcnn_single_loss.jpg\")"
   ]
  },
  {
   "cell_type": "markdown",
   "metadata": {
    "tags": []
   },
   "source": [
    "### Minibatch Version (Test Acc)"
   ]
  },
  {
   "cell_type": "code",
   "execution_count": 80,
   "metadata": {},
   "outputs": [
    {
     "name": "stdout",
     "output_type": "stream",
     "text": [
      "# Grad/N 1: 1.43 seconds, Loss: 0.49, Test Accuracy: 0.895\n",
      "# Grad/N 2: 2.64 seconds, Loss: 0.41, Test Accuracy: 0.905\n",
      "# Grad/N 3: 3.62 seconds, Loss: 0.38, Test Accuracy: 0.905\n",
      "# Grad/N 4: 4.62 seconds, Loss: 0.35, Test Accuracy: 0.905\n",
      "# Grad/N 5: 5.60 seconds, Loss: 0.34, Test Accuracy: 0.905\n",
      "# Grad/N 6: 6.72 seconds, Loss: 0.33, Test Accuracy: 0.905\n",
      "# Grad/N 7: 7.89 seconds, Loss: 0.33, Test Accuracy: 0.905\n",
      "# Grad/N 8: 9.04 seconds, Loss: 0.32, Test Accuracy: 0.905\n",
      "# Grad/N 9: 10.19 seconds, Loss: 0.32, Test Accuracy: 0.905\n",
      "# Grad/N 10: 11.23 seconds, Loss: 0.31, Test Accuracy: 0.905\n",
      "# Grad/N 11: 12.40 seconds, Loss: 0.31, Test Accuracy: 0.905\n",
      "# Grad/N 12: 13.34 seconds, Loss: 0.30, Test Accuracy: 0.905\n",
      "# Grad/N 13: 14.30 seconds, Loss: 0.30, Test Accuracy: 0.905\n",
      "# Grad/N 14: 15.38 seconds, Loss: 0.30, Test Accuracy: 0.905\n",
      "# Grad/N 15: 16.32 seconds, Loss: 0.30, Test Accuracy: 0.905\n",
      "# Grad/N 16: 17.26 seconds, Loss: 0.29, Test Accuracy: 0.905\n",
      "# Grad/N 17: 18.44 seconds, Loss: 0.29, Test Accuracy: 0.905\n",
      "# Grad/N 18: 19.37 seconds, Loss: 0.29, Test Accuracy: 0.905\n",
      "# Grad/N 19: 20.45 seconds, Loss: 0.29, Test Accuracy: 0.905\n",
      "# Grad/N 20: 21.43 seconds, Loss: 0.28, Test Accuracy: 0.905\n"
     ]
    }
   ],
   "source": [
    "beta = np.copy(beta_init)\n",
    "\n",
    "beta_SGD, record_SGD = train_SGD(train_data, train_label, test_data, test_label, beta_init, 0.01, loss_LR, loss_LR_grad, verbose = 1, n_run=20, mb_size=100)"
   ]
  },
  {
   "cell_type": "code",
   "execution_count": 81,
   "metadata": {},
   "outputs": [
    {
     "name": "stdout",
     "output_type": "stream",
     "text": [
      "# Grad/N 1: 1.20 seconds, Loss: 0.48, Test Accuracy: 0.900\n",
      "# Grad/N 2: 2.20 seconds, Loss: 0.39, Test Accuracy: 0.905\n",
      "# Grad/N 3: 3.19 seconds, Loss: 0.36, Test Accuracy: 0.905\n",
      "# Grad/N 4: 4.26 seconds, Loss: 0.34, Test Accuracy: 0.905\n",
      "# Grad/N 5: 5.36 seconds, Loss: 0.33, Test Accuracy: 0.905\n",
      "# Grad/N 6: 6.47 seconds, Loss: 0.32, Test Accuracy: 0.905\n",
      "# Grad/N 7: 7.43 seconds, Loss: 0.32, Test Accuracy: 0.905\n",
      "# Grad/N 8: 8.41 seconds, Loss: 0.32, Test Accuracy: 0.905\n",
      "# Grad/N 9: 9.38 seconds, Loss: 0.31, Test Accuracy: 0.905\n",
      "# Grad/N 10: 10.34 seconds, Loss: 0.31, Test Accuracy: 0.905\n",
      "# Grad/N 11: 11.29 seconds, Loss: 0.31, Test Accuracy: 0.905\n",
      "# Grad/N 12: 12.27 seconds, Loss: 0.30, Test Accuracy: 0.905\n",
      "# Grad/N 13: 13.24 seconds, Loss: 0.30, Test Accuracy: 0.905\n",
      "# Grad/N 14: 14.21 seconds, Loss: 0.30, Test Accuracy: 0.905\n",
      "# Grad/N 15: 15.17 seconds, Loss: 0.29, Test Accuracy: 0.905\n",
      "# Grad/N 16: 16.12 seconds, Loss: 0.29, Test Accuracy: 0.905\n",
      "# Grad/N 17: 17.08 seconds, Loss: 0.29, Test Accuracy: 0.905\n",
      "# Grad/N 18: 18.04 seconds, Loss: 0.29, Test Accuracy: 0.905\n",
      "# Grad/N 19: 18.99 seconds, Loss: 0.28, Test Accuracy: 0.905\n",
      "# Grad/N 20: 19.95 seconds, Loss: 0.28, Test Accuracy: 0.905\n"
     ]
    }
   ],
   "source": [
    "# SAG\n",
    "beta = np.copy(beta_init)\n",
    "\n",
    "beta_SAG, record_SAG = train_SAG(train_data, train_label, test_data, test_label, beta_init, 0.01, loss_LR, loss_LR_grad, verbose = 1, n_run=20, mb_size=100)"
   ]
  },
  {
   "cell_type": "code",
   "execution_count": 82,
   "metadata": {},
   "outputs": [
    {
     "name": "stdout",
     "output_type": "stream",
     "text": [
      "# Grad/N 1: 1.16 seconds, Loss: 0.49, Test Accuracy: 0.894\n",
      "# Grad/N 2: 2.12 seconds, Loss: 0.41, Test Accuracy: 0.905\n",
      "# Grad/N 3: 3.10 seconds, Loss: 0.38, Test Accuracy: 0.905\n",
      "# Grad/N 4: 4.06 seconds, Loss: 0.35, Test Accuracy: 0.905\n",
      "# Grad/N 5: 5.03 seconds, Loss: 0.34, Test Accuracy: 0.905\n",
      "# Grad/N 6: 6.01 seconds, Loss: 0.33, Test Accuracy: 0.905\n",
      "# Grad/N 7: 6.96 seconds, Loss: 0.33, Test Accuracy: 0.905\n",
      "# Grad/N 8: 7.93 seconds, Loss: 0.32, Test Accuracy: 0.905\n",
      "# Grad/N 9: 8.93 seconds, Loss: 0.32, Test Accuracy: 0.905\n",
      "# Grad/N 10: 9.97 seconds, Loss: 0.31, Test Accuracy: 0.905\n",
      "# Grad/N 11: 10.99 seconds, Loss: 0.31, Test Accuracy: 0.905\n",
      "# Grad/N 12: 11.96 seconds, Loss: 0.30, Test Accuracy: 0.905\n",
      "# Grad/N 13: 12.95 seconds, Loss: 0.30, Test Accuracy: 0.905\n",
      "# Grad/N 14: 13.91 seconds, Loss: 0.30, Test Accuracy: 0.905\n",
      "# Grad/N 15: 14.87 seconds, Loss: 0.30, Test Accuracy: 0.905\n",
      "# Grad/N 16: 15.81 seconds, Loss: 0.29, Test Accuracy: 0.905\n",
      "# Grad/N 17: 16.77 seconds, Loss: 0.29, Test Accuracy: 0.905\n",
      "# Grad/N 18: 17.72 seconds, Loss: 0.29, Test Accuracy: 0.905\n",
      "# Grad/N 19: 18.66 seconds, Loss: 0.28, Test Accuracy: 0.905\n",
      "# Grad/N 20: 19.63 seconds, Loss: 0.28, Test Accuracy: 0.905\n"
     ]
    }
   ],
   "source": [
    "# SVRG\n",
    "beta = np.copy(beta_init)\n",
    "\n",
    "beta_SVRG, record_SVRG = train_SVRG(train_data, train_label, test_data, test_label, beta_init, 0.01, loss_LR, loss_LR_grad, verbose = 1, n_run=10, mb_size=100)"
   ]
  },
  {
   "cell_type": "code",
   "execution_count": 83,
   "metadata": {},
   "outputs": [
    {
     "name": "stdout",
     "output_type": "stream",
     "text": [
      "# Grad/N 1: 2.12 seconds, Loss: 0.49, Test Accuracy: 0.894\n",
      "# Grad/N 2: 4.17 seconds, Loss: 0.41, Test Accuracy: 0.905\n",
      "# Grad/N 3: 6.23 seconds, Loss: 0.38, Test Accuracy: 0.905\n",
      "# Grad/N 4: 8.32 seconds, Loss: 0.36, Test Accuracy: 0.905\n",
      "# Grad/N 5: 10.40 seconds, Loss: 0.34, Test Accuracy: 0.905\n",
      "# Grad/N 6: 12.43 seconds, Loss: 0.33, Test Accuracy: 0.905\n",
      "# Grad/N 7: 14.50 seconds, Loss: 0.33, Test Accuracy: 0.905\n",
      "# Grad/N 8: 16.53 seconds, Loss: 0.32, Test Accuracy: 0.905\n",
      "# Grad/N 9: 18.57 seconds, Loss: 0.32, Test Accuracy: 0.905\n",
      "# Grad/N 10: 20.68 seconds, Loss: 0.31, Test Accuracy: 0.905\n",
      "# Grad/N 11: 22.77 seconds, Loss: 0.31, Test Accuracy: 0.905\n",
      "# Grad/N 12: 24.85 seconds, Loss: 0.30, Test Accuracy: 0.905\n",
      "# Grad/N 13: 27.08 seconds, Loss: 0.30, Test Accuracy: 0.905\n",
      "# Grad/N 14: 29.47 seconds, Loss: 0.30, Test Accuracy: 0.905\n",
      "# Grad/N 15: 31.51 seconds, Loss: 0.30, Test Accuracy: 0.905\n",
      "# Grad/N 16: 33.70 seconds, Loss: 0.29, Test Accuracy: 0.905\n",
      "# Grad/N 17: 35.87 seconds, Loss: 0.29, Test Accuracy: 0.905\n",
      "# Grad/N 18: 37.81 seconds, Loss: 0.29, Test Accuracy: 0.905\n",
      "# Grad/N 19: 39.73 seconds, Loss: 0.28, Test Accuracy: 0.905\n",
      "# Grad/N 20: 41.60 seconds, Loss: 0.28, Test Accuracy: 0.905\n"
     ]
    }
   ],
   "source": [
    "# SAGA\n",
    "beta = np.copy(beta_init)\n",
    "\n",
    "beta_SAGA, record_SAGA = train_SAGA(train_data, train_label, test_data, test_label, beta_init, 0.01, loss_LR, loss_LR_grad, verbose = 1, n_run=20, mb_size=100)"
   ]
  },
  {
   "cell_type": "code",
   "execution_count": 96,
   "metadata": {},
   "outputs": [
    {
     "data": {
      "image/png": "[encoded data removed]",
      "text/plain": [
       "<Figure size 1152x720 with 1 Axes>"
      ]
     },
     "metadata": {
      "needs_background": "light"
     },
     "output_type": "display_data"
    }
   ],
   "source": [
    "record_graph([record_SGD, record_SAG, record_SVRG, record_SAGA],'test_acc_#Grad/n')\n",
    "plt.title(\"IJCNN_Batch\")\n",
    "plt.savefig(\"plot/ijcnn_batch_acc.jpg\")"
   ]
  },
  {
   "cell_type": "code",
   "execution_count": 97,
   "metadata": {},
   "outputs": [
    {
     "data": {
      "image/png": "[encoded data removed]",
      "text/plain": [
       "<Figure size 1152x720 with 1 Axes>"
      ]
     },
     "metadata": {
      "needs_background": "light"
     },
     "output_type": "display_data"
    }
   ],
   "source": [
    "record_graph([record_SGD, record_SAG, record_SVRG, record_SAGA],'loss_#Grad/n')\n",
    "plt.title(\"IJCNN_Batch\")\n",
    "plt.savefig(\"plot/ijcnn_batch_loss.jpg\")"
   ]
  },
  {
   "cell_type": "markdown",
   "metadata": {
    "jp-MarkdownHeadingCollapsed": true,
    "tags": []
   },
   "source": [
    "## Experiment with MNIST"
   ]
  },
  {
   "cell_type": "code",
   "execution_count": null,
   "metadata": {},
   "outputs": [],
   "source": [
    "mnist_train_images.shape"
   ]
  },
  {
   "cell_type": "code",
   "execution_count": null,
   "metadata": {},
   "outputs": [],
   "source": [
    "train_data, test_data, train_label, test_label = mnist_train_images.reshape(-1,28*28), mnist_test_images.reshape(-1,28*28), mnist_train_labels, mnist_test_labels"
   ]
  },
  {
   "cell_type": "code",
   "execution_count": null,
   "metadata": {},
   "outputs": [],
   "source": [
    "print(np.unique(train_label, return_counts=True))\n",
    "print(np.unique(test_label, return_counts=True))\n",
    "print(train_data.shape)\n",
    "print(test_data.shape)"
   ]
  },
  {
   "cell_type": "code",
   "execution_count": null,
   "metadata": {},
   "outputs": [],
   "source": [
    "n_features = 28*28\n",
    "n_classes = 10\n",
    "np.random.seed(4212)\n",
    "\n",
    "beta_init = np.random.normal(0,np.sqrt(1/(n_features)), size=[n_classes, n_features])"
   ]
  },
  {
   "cell_type": "code",
   "execution_count": null,
   "metadata": {},
   "outputs": [],
   "source": [
    "beta_init.shape"
   ]
  },
  {
   "cell_type": "markdown",
   "metadata": {
    "jp-MarkdownHeadingCollapsed": true,
    "tags": []
   },
   "source": [
    "#### Optimal Results from Commercial Package"
   ]
  },
  {
   "cell_type": "code",
   "execution_count": 91,
   "metadata": {
    "tags": []
   },
   "outputs": [
    {
     "name": "stderr",
     "output_type": "stream",
     "text": [
      "C:\\Users\\z9906\\Anaconda3\\lib\\site-packages\\sklearn\\linear_model\\_logistic.py:818: ConvergenceWarning: lbfgs failed to converge (status=1):\n",
      "STOP: TOTAL NO. of ITERATIONS REACHED LIMIT.\n",
      "\n",
      "Increase the number of iterations (max_iter) or scale the data as shown in:\n",
      "    https://scikit-learn.org/stable/modules/preprocessing.html\n",
      "Please also refer to the documentation for alternative solver options:\n",
      "    https://scikit-learn.org/stable/modules/linear_model.html#logistic-regression\n",
      "  extra_warning_msg=_LOGISTIC_SOLVER_CONVERGENCE_MSG,\n"
     ]
    },
    {
     "data": {
      "text/plain": [
       "LogisticRegression(fit_intercept=False, max_iter=1000, penalty='none',\n",
       "                   tol=1e-20)"
      ]
     },
     "execution_count": 91,
     "metadata": {},
     "output_type": "execute_result"
    }
   ],
   "source": [
    "from sklearn.linear_model import LogisticRegression\n",
    "\n",
    "model = LogisticRegression(penalty='none', solver='lbfgs', fit_intercept=False, max_iter=1000, tol=1e-20)\n",
    "model.fit(train_data, np.ravel(train_label))"
   ]
  },
  {
   "cell_type": "code",
   "execution_count": 92,
   "metadata": {},
   "outputs": [
    {
     "name": "stdout",
     "output_type": "stream",
     "text": [
      "0.21226050357218362\n"
     ]
    }
   ],
   "source": [
    "beta_best = model.coef_\n",
    "# beta_best[0], beta_best[1] = -1*model.coef_, model.coef_\n",
    "loss_best = loss_LR(beta_best, train_data, train_label)\n",
    "print(loss_best)"
   ]
  },
  {
   "cell_type": "markdown",
   "metadata": {},
   "source": [
    "### Single Version (Grad Var and Train Loss)"
   ]
  },
  {
   "cell_type": "code",
   "execution_count": null,
   "metadata": {},
   "outputs": [],
   "source": [
    "beta = np.copy(beta_init)\n",
    "\n",
    "beta_SGD_single, record_SGD_single = train_SGD_single(train_data, train_label, beta_init, 0.01, loss_LR, loss_LR_single_grad, n_run=20, verbose = 1)"
   ]
  },
  {
   "cell_type": "code",
   "execution_count": null,
   "metadata": {},
   "outputs": [],
   "source": [
    "# SAG\n",
    "beta = np.copy(beta_init)\n",
    "\n",
    "beta_SAG_single, record_SAG_single = train_SAG_single(train_data, train_label, beta_init, 0.01, loss_LR, loss_LR_single_grad, n_run=20, verbose = 1)"
   ]
  },
  {
   "cell_type": "code",
   "execution_count": null,
   "metadata": {},
   "outputs": [],
   "source": [
    "# SVRG\n",
    "beta = np.copy(beta_init)\n",
    "\n",
    "beta_SVRG_single, record_SVRG_single = train_SVRG_single(train_data, train_label, beta_init, 0.01, loss_LR, loss_LR_single_grad, n_run=10, verbose = 1)"
   ]
  },
  {
   "cell_type": "code",
   "execution_count": null,
   "metadata": {},
   "outputs": [],
   "source": [
    "# SAGA\n",
    "beta = np.copy(beta_init)\n",
    "\n",
    "beta_SAGA_single, record_SAGA_single = train_SAGA_single(train_data, train_label, beta_init, 0.01, loss_LR, loss_LR_single_grad, n_run=20, verbose = 1)"
   ]
  },
  {
   "cell_type": "code",
   "execution_count": null,
   "metadata": {},
   "outputs": [],
   "source": [
    "record_graph([record_SGD_single, record_SAG_single, record_SVRG_single, record_SAGA_single],'loss_#Grad/n')\n",
    "plt.title(\"MNIST_Single\")\n",
    "plt.savefig(\"plot/mnist_single_loss.jpg\")"
   ]
  },
  {
   "cell_type": "markdown",
   "metadata": {
    "tags": []
   },
   "source": [
    "### Minibatch Version (Test Acc)"
   ]
  },
  {
   "cell_type": "code",
   "execution_count": null,
   "metadata": {},
   "outputs": [],
   "source": [
    "beta = np.copy(beta_init)\n",
    "\n",
    "beta_SGD, record_SGD = train_SGD(train_data, train_label, test_data, test_label, beta_init, 0.01, loss_LR, loss_LR_grad, verbose = 1, n_run=20, mb_size=100)"
   ]
  },
  {
   "cell_type": "code",
   "execution_count": null,
   "metadata": {},
   "outputs": [],
   "source": [
    "# SAG\n",
    "beta = np.copy(beta_init)\n",
    "\n",
    "beta_SAG, record_SAG = train_SAG(train_data, train_label, test_data, test_label, beta_init, 0.01, loss_LR, loss_LR_grad, verbose = 1, n_run=20, mb_size=100)"
   ]
  },
  {
   "cell_type": "code",
   "execution_count": null,
   "metadata": {},
   "outputs": [],
   "source": [
    "# SVRG\n",
    "beta = np.copy(beta_init)\n",
    "\n",
    "beta_SVRG, record_SVRG = train_SVRG(train_data, train_label, test_data, test_label, beta_init, 0.01, loss_LR, loss_LR_grad, verbose = 1, n_run=10, mb_size=100)"
   ]
  },
  {
   "cell_type": "code",
   "execution_count": null,
   "metadata": {},
   "outputs": [],
   "source": [
    "# SAGA\n",
    "beta = np.copy(beta_init)\n",
    "\n",
    "beta_SAGA, record_SAGA = train_SAGA(train_data, train_label, test_data, test_label, beta_init, 0.01, loss_LR, loss_LR_grad, verbose = 1, n_run=20, mb_size=100)"
   ]
  },
  {
   "cell_type": "code",
   "execution_count": null,
   "metadata": {},
   "outputs": [],
   "source": [
    "record_graph([record_SGD, record_SAG, record_SVRG, record_SAGA],'test_acc_#Grad/n')\n",
    "plt.title(\"MNIST_Batch\")\n",
    "plt.savefig(\"plot/mnist_batch_acc.jpg\")"
   ]
  },
  {
   "cell_type": "code",
   "execution_count": null,
   "metadata": {},
   "outputs": [],
   "source": [
    "record_graph([record_SGD, record_SAG, record_SVRG, record_SAGA],'loss_#Grad/n')\n",
    "plt.title(\"MNIST_Batch\")\n",
    "plt.savefig(\"plot/mnist_batch_loss.jpg\")"
   ]
  },
  {
   "cell_type": "markdown",
   "metadata": {
    "jp-MarkdownHeadingCollapsed": true,
    "tags": []
   },
   "source": [
    "## Experiment with Adult"
   ]
  },
  {
   "cell_type": "code",
   "execution_count": null,
   "metadata": {},
   "outputs": [],
   "source": [
    "adult_feature_train_norm.shape"
   ]
  },
  {
   "cell_type": "code",
   "execution_count": null,
   "metadata": {},
   "outputs": [],
   "source": [
    "train_data, test_data, train_label, test_label = adult_feature_train_norm, adult_feature_test_norm, adult_label_train_bi, adult_label_test_bi"
   ]
  },
  {
   "cell_type": "code",
   "execution_count": null,
   "metadata": {},
   "outputs": [],
   "source": [
    "print(np.unique(train_label, return_counts=True))\n",
    "print(np.unique(test_label, return_counts=True))\n",
    "print(train_data.shape)\n",
    "print(test_data.shape)"
   ]
  },
  {
   "cell_type": "code",
   "execution_count": null,
   "metadata": {},
   "outputs": [],
   "source": [
    "n_features = 108\n",
    "n_classes = 2\n",
    "np.random.seed(4212)\n",
    "\n",
    "beta_init = np.random.normal(0,(1/(n_features*n_classes)), size=[n_classes, n_features])"
   ]
  },
  {
   "cell_type": "code",
   "execution_count": null,
   "metadata": {},
   "outputs": [],
   "source": [
    "beta_init.shape"
   ]
  },
  {
   "cell_type": "markdown",
   "metadata": {},
   "source": [
    "#### Optimal Results from Commercial Package"
   ]
  },
  {
   "cell_type": "code",
   "execution_count": null,
   "metadata": {
    "tags": []
   },
   "outputs": [],
   "source": [
    "from sklearn.linear_model import LogisticRegression\n",
    "\n",
    "model = LogisticRegression(penalty='none', solver='lbfgs', fit_intercept=False, max_iter=1000, tol=1e-20)\n",
    "model.fit(train_data, np.ravel(train_label))"
   ]
  },
  {
   "cell_type": "code",
   "execution_count": null,
   "metadata": {},
   "outputs": [],
   "source": [
    "beta_best = np.zeros(beta_init.shape)\n",
    "beta_best[0], beta_best[1] = -1*model.coef_, model.coef_\n",
    "loss_best = loss_LR(beta_best, train_data, train_label)\n",
    "print(loss_best)"
   ]
  },
  {
   "cell_type": "markdown",
   "metadata": {},
   "source": [
    "### Single Version (Grad Var and Train Loss)"
   ]
  },
  {
   "cell_type": "code",
   "execution_count": null,
   "metadata": {},
   "outputs": [],
   "source": [
    "beta = np.copy(beta_init)\n",
    "\n",
    "beta_SGD_single, record_SGD_single = train_SGD_single(train_data, train_label, beta_init, 0.01, loss_LR, loss_LR_single_grad, n_run=20, verbose = 1)"
   ]
  },
  {
   "cell_type": "code",
   "execution_count": null,
   "metadata": {},
   "outputs": [],
   "source": [
    "# SAG\n",
    "beta = np.copy(beta_init)\n",
    "\n",
    "beta_SAG_single, record_SAG_single = train_SAG_single(train_data, train_label, beta_init, 0.01, loss_LR, loss_LR_single_grad, n_run=20, verbose = 1)"
   ]
  },
  {
   "cell_type": "code",
   "execution_count": null,
   "metadata": {},
   "outputs": [],
   "source": [
    "# SVRG\n",
    "beta = np.copy(beta_init)\n",
    "\n",
    "beta_SVRG_single, record_SVRG_single = train_SVRG_single(train_data, train_label, beta_init, 0.01, loss_LR, loss_LR_single_grad, n_run=10, verbose = 1)"
   ]
  },
  {
   "cell_type": "code",
   "execution_count": null,
   "metadata": {},
   "outputs": [],
   "source": [
    "# SAGA\n",
    "beta = np.copy(beta_init)\n",
    "\n",
    "beta_SAGA_single, record_SAGA_single = train_SAGA_single(train_data, train_label, beta_init, 0.01, loss_LR, loss_LR_single_grad, n_run=20, verbose = 1)"
   ]
  },
  {
   "cell_type": "code",
   "execution_count": null,
   "metadata": {},
   "outputs": [],
   "source": [
    "record_graph([record_SGD_single, record_SAG_single, record_SVRG_single, record_SAGA_single],'loss_#Grad/n')\n",
    "plt.title(\"Adult_Single\")\n",
    "plt.savefig(\"plot/adult_single_loss.jpg\")"
   ]
  },
  {
   "cell_type": "markdown",
   "metadata": {
    "tags": []
   },
   "source": [
    "### Minibatch Version (Test Acc)"
   ]
  },
  {
   "cell_type": "code",
   "execution_count": null,
   "metadata": {
    "tags": []
   },
   "outputs": [],
   "source": [
    "beta = np.copy(beta_init)\n",
    "\n",
    "beta_SGD, record_SGD = train_SGD(train_data, train_label, test_data, test_label, beta_init, 0.01, loss_LR, loss_LR_grad, verbose = 1, n_run=20, mb_size=100)"
   ]
  },
  {
   "cell_type": "code",
   "execution_count": null,
   "metadata": {},
   "outputs": [],
   "source": [
    "# SAG\n",
    "beta = np.copy(beta_init)\n",
    "\n",
    "beta_SAG, record_SAG = train_SAG(train_data, train_label, test_data, test_label, beta_init, 0.01, loss_LR, loss_LR_grad, verbose = 1, n_run=20, mb_size=100)"
   ]
  },
  {
   "cell_type": "code",
   "execution_count": null,
   "metadata": {},
   "outputs": [],
   "source": [
    "# SVRG\n",
    "beta = np.copy(beta_init)\n",
    "\n",
    "beta_SVRG, record_SVRG = train_SVRG(train_data, train_label, test_data, test_label, beta_init, 0.01, loss_LR, loss_LR_grad, verbose = 1, n_run=10, mb_size=100)"
   ]
  },
  {
   "cell_type": "code",
   "execution_count": null,
   "metadata": {},
   "outputs": [],
   "source": [
    "# SAGA\n",
    "beta = np.copy(beta_init)\n",
    "\n",
    "beta_SAGA, record_SAGA = train_SAGA(train_data, train_label, test_data, test_label, beta_init, 0.01, loss_LR, loss_LR_grad, verbose = 1, n_run=20, mb_size=100)"
   ]
  },
  {
   "cell_type": "code",
   "execution_count": null,
   "metadata": {},
   "outputs": [],
   "source": [
    "record_graph([record_SGD, record_SAG, record_SVRG, record_SAGA],'test_acc_#Grad/n')\n",
    "plt.title(\"Adult_Batch\")\n",
    "plt.savefig(\"plot/adult_batch_acc.jpg\")"
   ]
  },
  {
   "cell_type": "code",
   "execution_count": null,
   "metadata": {},
   "outputs": [],
   "source": [
    "record_graph([record_SGD, record_SAG, record_SVRG, record_SAGA],'loss_#Grad/n')\n",
    "plt.title(\"Adult_Batch\")\n",
    "plt.savefig(\"plot/adult_batch_loss.jpg\")"
   ]
  }
 ],
 "metadata": {
  "kernelspec": {
   "display_name": "Python 3 (ipykernel)",
   "language": "python",
   "name": "python3"
  },
  "language_info": {
   "codemirror_mode": {
    "name": "ipython",
    "version": 3
   },
   "file_extension": ".py",
   "mimetype": "text/x-python",
   "name": "python",
   "nbconvert_exporter": "python",
   "pygments_lexer": "ipython3",
   "version": "3.7.11"
  }
 },
 "nbformat": 4,
 "nbformat_minor": 4
}
